{
 "cells": [
  {
   "cell_type": "markdown",
   "id": "fa75a637",
   "metadata": {},
   "source": [
    "# Data Exploration\n",
    "> ETL - Data exploration is the process of examining and visualizing your data before modeling. It helps you understand the structure, patterns, distributions, and potential issues (like missing values or outliers) in your dataset. This step guides data cleaning, feature engineering, and model selection by revealing important insights about the data."
   ]
  },
  {
   "cell_type": "markdown",
   "id": "d69e604c",
   "metadata": {},
   "source": [
    "## Initialization"
   ]
  },
  {
   "cell_type": "code",
   "execution_count": 1,
   "id": "a2cf8afa",
   "metadata": {},
   "outputs": [],
   "source": [
    "import pandas as pd\n",
    "import numpy as np\n",
    "import os\n",
    "import rich"
   ]
  },
  {
   "cell_type": "markdown",
   "id": "d4e283be",
   "metadata": {},
   "source": [
    "## Load Data"
   ]
  },
  {
   "cell_type": "code",
   "execution_count": 2,
   "id": "31b01a9d",
   "metadata": {},
   "outputs": [
    {
     "name": "stdout",
     "output_type": "stream",
     "text": [
      "(60392, 19)\n"
     ]
    },
    {
     "data": {
      "text/html": [
       "<div>\n",
       "<style scoped>\n",
       "    .dataframe tbody tr th:only-of-type {\n",
       "        vertical-align: middle;\n",
       "    }\n",
       "\n",
       "    .dataframe tbody tr th {\n",
       "        vertical-align: top;\n",
       "    }\n",
       "\n",
       "    .dataframe thead th {\n",
       "        text-align: right;\n",
       "    }\n",
       "</style>\n",
       "<table border=\"1\" class=\"dataframe\">\n",
       "  <thead>\n",
       "    <tr style=\"text-align: right;\">\n",
       "      <th></th>\n",
       "      <th>pol_number</th>\n",
       "      <th>pol_eff_dt</th>\n",
       "      <th>gender</th>\n",
       "      <th>agecat</th>\n",
       "      <th>date_of_birth</th>\n",
       "      <th>credit_score</th>\n",
       "      <th>area</th>\n",
       "      <th>traffic_index</th>\n",
       "      <th>veh_age</th>\n",
       "      <th>veh_body</th>\n",
       "      <th>veh_value</th>\n",
       "      <th>claim_office</th>\n",
       "      <th>numclaims</th>\n",
       "      <th>claimcst0</th>\n",
       "      <th>annual_premium</th>\n",
       "      <th>agecat2</th>\n",
       "      <th>pol_year</th>\n",
       "      <th>pol_quarter</th>\n",
       "      <th>veh_cnt</th>\n",
       "    </tr>\n",
       "  </thead>\n",
       "  <tbody>\n",
       "    <tr>\n",
       "      <th>0</th>\n",
       "      <td>64080188</td>\n",
       "      <td>2017-07-10</td>\n",
       "      <td>M</td>\n",
       "      <td>2.0</td>\n",
       "      <td>1989-01-04</td>\n",
       "      <td>631.0</td>\n",
       "      <td>B</td>\n",
       "      <td>140.9</td>\n",
       "      <td>4</td>\n",
       "      <td>TRUCK</td>\n",
       "      <td>0.924</td>\n",
       "      <td>None</td>\n",
       "      <td>0</td>\n",
       "      <td>0.000000</td>\n",
       "      <td>716.53</td>\n",
       "      <td>5.0</td>\n",
       "      <td>2017</td>\n",
       "      <td>3</td>\n",
       "      <td>1</td>\n",
       "    </tr>\n",
       "    <tr>\n",
       "      <th>1</th>\n",
       "      <td>18917133</td>\n",
       "      <td>2017-07-31</td>\n",
       "      <td>M</td>\n",
       "      <td>2.0</td>\n",
       "      <td>1985-06-21</td>\n",
       "      <td>531.0</td>\n",
       "      <td>C</td>\n",
       "      <td>136.5</td>\n",
       "      <td>3</td>\n",
       "      <td>HBACK</td>\n",
       "      <td>1.430</td>\n",
       "      <td>B</td>\n",
       "      <td>1</td>\n",
       "      <td>583.010876</td>\n",
       "      <td>716.53</td>\n",
       "      <td>5.0</td>\n",
       "      <td>2017</td>\n",
       "      <td>3</td>\n",
       "      <td>1</td>\n",
       "    </tr>\n",
       "    <tr>\n",
       "      <th>2</th>\n",
       "      <td>82742606</td>\n",
       "      <td>2017-02-01</td>\n",
       "      <td>M</td>\n",
       "      <td>6.0</td>\n",
       "      <td>1942-07-25</td>\n",
       "      <td>838.0</td>\n",
       "      <td>D</td>\n",
       "      <td>88.8</td>\n",
       "      <td>3</td>\n",
       "      <td>SEDAN</td>\n",
       "      <td>1.100</td>\n",
       "      <td>D</td>\n",
       "      <td>1</td>\n",
       "      <td>159.375757</td>\n",
       "      <td>716.53</td>\n",
       "      <td>1.0</td>\n",
       "      <td>2017</td>\n",
       "      <td>1</td>\n",
       "      <td>1</td>\n",
       "    </tr>\n",
       "    <tr>\n",
       "      <th>3</th>\n",
       "      <td>43601997</td>\n",
       "      <td>2017-10-17</td>\n",
       "      <td>M</td>\n",
       "      <td>5.0</td>\n",
       "      <td>1959-06-08</td>\n",
       "      <td>835.0</td>\n",
       "      <td>E</td>\n",
       "      <td>NaN</td>\n",
       "      <td>2</td>\n",
       "      <td>SEDAN</td>\n",
       "      <td>2.090</td>\n",
       "      <td>None</td>\n",
       "      <td>0</td>\n",
       "      <td>0.000000</td>\n",
       "      <td>716.53</td>\n",
       "      <td>2.0</td>\n",
       "      <td>2017</td>\n",
       "      <td>4</td>\n",
       "      <td>1</td>\n",
       "    </tr>\n",
       "    <tr>\n",
       "      <th>4</th>\n",
       "      <td>58746861</td>\n",
       "      <td>2017-04-13</td>\n",
       "      <td>F</td>\n",
       "      <td>4.0</td>\n",
       "      <td>1967-05-16</td>\n",
       "      <td>748.0</td>\n",
       "      <td>C</td>\n",
       "      <td>123.0</td>\n",
       "      <td>3</td>\n",
       "      <td>HBACK</td>\n",
       "      <td>0.803</td>\n",
       "      <td>C</td>\n",
       "      <td>1</td>\n",
       "      <td>143.555642</td>\n",
       "      <td>716.53</td>\n",
       "      <td>3.0</td>\n",
       "      <td>2017</td>\n",
       "      <td>2</td>\n",
       "      <td>1</td>\n",
       "    </tr>\n",
       "  </tbody>\n",
       "</table>\n",
       "</div>"
      ],
      "text/plain": [
       "   pol_number pol_eff_dt gender  agecat date_of_birth  credit_score area  \\\n",
       "0    64080188 2017-07-10      M     2.0    1989-01-04         631.0    B   \n",
       "1    18917133 2017-07-31      M     2.0    1985-06-21         531.0    C   \n",
       "2    82742606 2017-02-01      M     6.0    1942-07-25         838.0    D   \n",
       "3    43601997 2017-10-17      M     5.0    1959-06-08         835.0    E   \n",
       "4    58746861 2017-04-13      F     4.0    1967-05-16         748.0    C   \n",
       "\n",
       "   traffic_index  veh_age veh_body  veh_value claim_office  numclaims  \\\n",
       "0          140.9        4    TRUCK      0.924         None          0   \n",
       "1          136.5        3    HBACK      1.430            B          1   \n",
       "2           88.8        3    SEDAN      1.100            D          1   \n",
       "3            NaN        2    SEDAN      2.090         None          0   \n",
       "4          123.0        3    HBACK      0.803            C          1   \n",
       "\n",
       "    claimcst0  annual_premium  agecat2  pol_year  pol_quarter  veh_cnt  \n",
       "0    0.000000          716.53      5.0      2017            3        1  \n",
       "1  583.010876          716.53      5.0      2017            3        1  \n",
       "2  159.375757          716.53      1.0      2017            1        1  \n",
       "3    0.000000          716.53      2.0      2017            4        1  \n",
       "4  143.555642          716.53      3.0      2017            2        1  "
      ]
     },
     "execution_count": 2,
     "metadata": {},
     "output_type": "execute_result"
    }
   ],
   "source": [
    "input_folder = \"../.local/analysis_pipeline/data_etl\"\n",
    "model_data = pd.read_parquet(f\"{input_folder}/model_data.parquet\")\n",
    "print( model_data.shape )\n",
    "model_data.head(5)"
   ]
  },
  {
   "cell_type": "code",
   "execution_count": 3,
   "id": "6178d436",
   "metadata": {},
   "outputs": [
    {
     "name": "stdout",
     "output_type": "stream",
     "text": [
      "(7464, 13)\n"
     ]
    },
    {
     "data": {
      "text/html": [
       "<div>\n",
       "<style scoped>\n",
       "    .dataframe tbody tr th:only-of-type {\n",
       "        vertical-align: middle;\n",
       "    }\n",
       "\n",
       "    .dataframe tbody tr th {\n",
       "        vertical-align: top;\n",
       "    }\n",
       "\n",
       "    .dataframe thead th {\n",
       "        text-align: right;\n",
       "    }\n",
       "</style>\n",
       "<table border=\"1\" class=\"dataframe\">\n",
       "  <thead>\n",
       "    <tr style=\"text-align: right;\">\n",
       "      <th></th>\n",
       "      <th>quote_number</th>\n",
       "      <th>gender</th>\n",
       "      <th>agecat</th>\n",
       "      <th>date_of_birth</th>\n",
       "      <th>credit_score</th>\n",
       "      <th>area</th>\n",
       "      <th>traffic_index</th>\n",
       "      <th>veh_age</th>\n",
       "      <th>veh_body</th>\n",
       "      <th>veh_value</th>\n",
       "      <th>agecat2</th>\n",
       "      <th>veh_cnt</th>\n",
       "      <th>pol_year</th>\n",
       "    </tr>\n",
       "  </thead>\n",
       "  <tbody>\n",
       "    <tr>\n",
       "      <th>0</th>\n",
       "      <td>29323463</td>\n",
       "      <td>F</td>\n",
       "      <td>4.0</td>\n",
       "      <td>1968-04-14</td>\n",
       "      <td>750.0</td>\n",
       "      <td>C</td>\n",
       "      <td>124.5</td>\n",
       "      <td>2</td>\n",
       "      <td>HBACK</td>\n",
       "      <td>1.100</td>\n",
       "      <td>3.0</td>\n",
       "      <td>1</td>\n",
       "      <td>2018</td>\n",
       "    </tr>\n",
       "    <tr>\n",
       "      <th>1</th>\n",
       "      <td>16732441</td>\n",
       "      <td>M</td>\n",
       "      <td>2.0</td>\n",
       "      <td>1984-10-04</td>\n",
       "      <td>567.0</td>\n",
       "      <td>F</td>\n",
       "      <td>NaN</td>\n",
       "      <td>3</td>\n",
       "      <td>STNWG</td>\n",
       "      <td>2.079</td>\n",
       "      <td>5.0</td>\n",
       "      <td>1</td>\n",
       "      <td>2018</td>\n",
       "    </tr>\n",
       "    <tr>\n",
       "      <th>2</th>\n",
       "      <td>68744228</td>\n",
       "      <td>M</td>\n",
       "      <td>4.0</td>\n",
       "      <td>1962-11-30</td>\n",
       "      <td>378.0</td>\n",
       "      <td>D</td>\n",
       "      <td>111.4</td>\n",
       "      <td>3</td>\n",
       "      <td>HDTOP</td>\n",
       "      <td>2.354</td>\n",
       "      <td>3.0</td>\n",
       "      <td>1</td>\n",
       "      <td>2018</td>\n",
       "    </tr>\n",
       "    <tr>\n",
       "      <th>3</th>\n",
       "      <td>30875047</td>\n",
       "      <td>F</td>\n",
       "      <td>3.0</td>\n",
       "      <td>1973-05-17</td>\n",
       "      <td>807.0</td>\n",
       "      <td>E</td>\n",
       "      <td>NaN</td>\n",
       "      <td>4</td>\n",
       "      <td>UTE</td>\n",
       "      <td>1.969</td>\n",
       "      <td>4.0</td>\n",
       "      <td>1</td>\n",
       "      <td>2018</td>\n",
       "    </tr>\n",
       "    <tr>\n",
       "      <th>4</th>\n",
       "      <td>37049210</td>\n",
       "      <td>M</td>\n",
       "      <td>6.0</td>\n",
       "      <td>1945-10-02</td>\n",
       "      <td>844.0</td>\n",
       "      <td>C</td>\n",
       "      <td>111.0</td>\n",
       "      <td>1</td>\n",
       "      <td>HBACK</td>\n",
       "      <td>1.969</td>\n",
       "      <td>1.0</td>\n",
       "      <td>1</td>\n",
       "      <td>2018</td>\n",
       "    </tr>\n",
       "  </tbody>\n",
       "</table>\n",
       "</div>"
      ],
      "text/plain": [
       "   quote_number gender  agecat date_of_birth  credit_score area  \\\n",
       "0      29323463      F     4.0    1968-04-14         750.0    C   \n",
       "1      16732441      M     2.0    1984-10-04         567.0    F   \n",
       "2      68744228      M     4.0    1962-11-30         378.0    D   \n",
       "3      30875047      F     3.0    1973-05-17         807.0    E   \n",
       "4      37049210      M     6.0    1945-10-02         844.0    C   \n",
       "\n",
       "   traffic_index  veh_age veh_body  veh_value  agecat2  veh_cnt  pol_year  \n",
       "0          124.5        2    HBACK      1.100      3.0        1      2018  \n",
       "1            NaN        3    STNWG      2.079      5.0        1      2018  \n",
       "2          111.4        3    HDTOP      2.354      3.0        1      2018  \n",
       "3            NaN        4      UTE      1.969      4.0        1      2018  \n",
       "4          111.0        1    HBACK      1.969      1.0        1      2018  "
      ]
     },
     "execution_count": 3,
     "metadata": {},
     "output_type": "execute_result"
    }
   ],
   "source": [
    "inference_data = pd.read_parquet(f\"{input_folder}/inference_data.parquet\")\n",
    "print( inference_data.shape )\n",
    "inference_data.head(5)"
   ]
  },
  {
   "cell_type": "markdown",
   "id": "526cbf93",
   "metadata": {},
   "source": [
    "## Target Variable Analysis\n",
    "### Create target variable"
   ]
  },
  {
   "cell_type": "code",
   "execution_count": 4,
   "id": "5cc27753",
   "metadata": {},
   "outputs": [],
   "source": [
    "# Rename columns for clarity and consistency\n",
    "model_data = model_data.rename(columns={'numclaims': 'claim_cnt'})\n",
    "model_data = model_data.rename(columns={'claimcst0': 'claim_amt'})\n",
    "\n",
    "# Create a new column 'claim_sev' (claim severity) as claim_amt divided by claim_cnt\n",
    "# If claim_cnt is zero, set claim_sev to NaN to avoid division by zero\n",
    "model_data['claim_sev'] = model_data.apply(\n",
    "    lambda row: row['claim_amt'] / row['claim_cnt'] if row['claim_cnt'] != 0 else np.nan,\n",
    "    axis=1\n",
    ")"
   ]
  },
  {
   "cell_type": "markdown",
   "id": "7a2dd9d7",
   "metadata": {},
   "source": [
    "### Visualize target variables\n",
    "#### Visualize claim count/frequency variable"
   ]
  },
  {
   "cell_type": "code",
   "execution_count": 5,
   "id": "401f15ff",
   "metadata": {},
   "outputs": [
    {
     "name": "stdout",
     "output_type": "stream",
     "text": [
      "Mean of claim_cnt: 0.214\n",
      "Variance of claim_cnt: 0.305\n"
     ]
    },
    {
     "data": {
      "image/png": "[encoded data removed]",
      "text/plain": [
       "<Figure size 800x400 with 2 Axes>"
      ]
     },
     "metadata": {},
     "output_type": "display_data"
    }
   ],
   "source": [
    "# Plot a histogram of 'claim_cnt' showing both frequency and relative frequency, with annotations\n",
    "import matplotlib.pyplot as plt\n",
    "import numpy as np\n",
    "\n",
    "# Print the mean and variance of the claim_cnt column\n",
    "mean_claim_cnt = model_data['claim_cnt'].mean()\n",
    "var_claim_cnt = model_data['claim_cnt'].var()\n",
    "print(f\"Mean of claim_cnt: {mean_claim_cnt:.3f}\")\n",
    "print(f\"Variance of claim_cnt: {var_claim_cnt:.3f}\")\n",
    "\n",
    "# Show the claim count distribution\n",
    "counts, bins = np.histogram(model_data['claim_cnt'], bins=range(int(model_data['claim_cnt'].min()), int(model_data['claim_cnt'].max())+2))\n",
    "rel_freq = counts / counts.sum()\n",
    "\n",
    "fig, ax1 = plt.subplots(figsize=(8,4))\n",
    "\n",
    "# Frequency histogram\n",
    "ax1.bar(bins[:-1], counts, width=0.8, color='skyblue', edgecolor='black', label='Frequency')\n",
    "ax1.set_xlabel('claim_cnt')\n",
    "ax1.set_ylabel('Frequency', color='blue')\n",
    "ax1.tick_params(axis='y', labelcolor='blue')\n",
    "\n",
    "# Relative frequency (secondary axis)\n",
    "ax2 = ax1.twinx()\n",
    "ax2.plot(bins[:-1], rel_freq, 'o-', color='red', label='Relative Frequency')\n",
    "ax2.set_ylabel('Relative Frequency', color='red')\n",
    "ax2.tick_params(axis='y', labelcolor='red')\n",
    "\n",
    "# Annotate relative frequency values next to red dots\n",
    "for x, y in zip(bins[:-1], rel_freq):\n",
    "    ax2.text(x, y, f'{y:.3f}', color='red', fontsize=9, ha='left', va='bottom')\n",
    "\n",
    "plt.title('Histogram of claim_cnt: Frequency and Relative Frequency')\n",
    "fig.tight_layout()\n",
    "plt.show()"
   ]
  },
  {
   "cell_type": "markdown",
   "id": "f9e415d3",
   "metadata": {},
   "source": [
    "#### Visualize claim severity\n",
    "\n",
    "Gamma Distribution: Kurtosis and Mean-Variance Relationship\n",
    "- **Kurtosis**: The excess kurtosis of a Gamma distribution with shape parameter $k$ is $6/k$. The total kurtosis is $6/k + 3$.\n",
    "- **Mean and Variance**: For shape $k$ and scale $\\theta$:\n",
    "    - Mean: $\\mu = k\\theta$\n",
    "    - Variance: $\\sigma^2 = k\\theta^2$\n",
    "    - So, $\\text{Variance} = \\text{Mean} \\times \\theta$"
   ]
  },
  {
   "cell_type": "code",
   "execution_count": 6,
   "id": "b18cc855",
   "metadata": {},
   "outputs": [
    {
     "name": "stdout",
     "output_type": "stream",
     "text": [
      "Mean of claim_sev: 3073.604\n",
      "Variance of claim_sev: 34498627.299\n",
      "Skewness of claim_sev: 4.979\n",
      "Kurtosis of claim_sev: 33.045\n"
     ]
    },
    {
     "data": {
      "image/png": "[encoded data removed]",
      "text/plain": [
       "<Figure size 1200x550 with 1 Axes>"
      ]
     },
     "metadata": {},
     "output_type": "display_data"
    }
   ],
   "source": [
    "# Compute mean, variance, skewness, and kurtosis of claim_sev\n",
    "mean_sev = model_data['claim_sev'].dropna().mean()\n",
    "var_sev = model_data['claim_sev'].dropna().var()\n",
    "skew_sev = model_data['claim_sev'].dropna().skew()\n",
    "kurt_sev = model_data['claim_sev'].dropna().kurtosis()\n",
    "print(f\"Mean of claim_sev: {mean_sev:.3f}\")\n",
    "print(f\"Variance of claim_sev: {var_sev:.3f}\")\n",
    "print(f\"Skewness of claim_sev: {skew_sev:.3f}\")\n",
    "print(f\"Kurtosis of claim_sev: {kurt_sev:.3f}\")\n",
    "\n",
    "# Plot a histogram of 'claim_sev' with 100 bins\n",
    "import matplotlib.pyplot as plt\n",
    "plt.figure(figsize=(12,5.5))\n",
    "plt.hist(model_data['claim_sev'].dropna(), bins=200, facecolor='blue', alpha=0.75)\n",
    "plt.xlabel('claim_sev')\n",
    "plt.ylabel('Frequency')\n",
    "plt.title('Histogram of claim_sev (200 bins)')\n",
    "plt.tight_layout()\n",
    "plt.show()"
   ]
  },
  {
   "cell_type": "markdown",
   "id": "95e6726e",
   "metadata": {},
   "source": [
    "Cap severity variable"
   ]
  },
  {
   "cell_type": "code",
   "execution_count": 7,
   "id": "bed03447",
   "metadata": {},
   "outputs": [
    {
     "name": "stdout",
     "output_type": "stream",
     "text": [
      "Kurtosis of original claim_sev: 33.028\n",
      "Kurtosis of capped claim_sev: 23.228\n",
      "After capping at the 99.5 percentile (cap value: 44000.0), the % of total capped claim_sev to the total original claim_sev is 98.6%.\n"
     ]
    },
    {
     "data": {
      "image/png": "[encoded data removed]",
      "text/plain": [
       "<Figure size 1200x550 with 2 Axes>"
      ]
     },
     "metadata": {},
     "output_type": "display_data"
    },
    {
     "data": {
      "image/png": "[encoded data removed]",
      "text/plain": [
       "<Figure size 1200x550 with 1 Axes>"
      ]
     },
     "metadata": {},
     "output_type": "display_data"
    }
   ],
   "source": [
    "# QQ plot for claim_sev before and after capping at a specified percentile\n",
    "import numpy as np\n",
    "import matplotlib.pyplot as plt\n",
    "import scipy.stats as stats\n",
    "from matplotlib.pylab import rcParams\n",
    "\n",
    "# Set capping percentile and calculate cap value\n",
    "cap_percentile = 99.5\n",
    "cap_value = 1000 * round(np.nanpercentile(model_data['claim_sev'], cap_percentile) / 1000, 0)\n",
    "\n",
    "# Cap the claim_sev variable\n",
    "model_data['claim_sev_capped'] = model_data['claim_sev'].clip(upper=cap_value)\n",
    "\n",
    "# Calculate share of capped to original\n",
    "share_incurred = model_data['claim_sev_capped'].sum() / model_data['claim_sev'].sum()\n",
    "\n",
    "# Print kurtosis and share information\n",
    "print(f\"Kurtosis of original claim_sev: {stats.kurtosis(model_data['claim_sev'].dropna()):.3f}\")\n",
    "print(f\"Kurtosis of capped claim_sev: {stats.kurtosis(model_data['claim_sev_capped'].dropna()):.3f}\")\n",
    "print(f\"After capping at the {cap_percentile} percentile (cap value: {cap_value}), the % of total capped claim_sev to the total original claim_sev is {100 * share_incurred:.1f}%.\")\n",
    "\n",
    "# Prepare data for QQ plots\n",
    "y_ori = model_data['claim_sev'].dropna()\n",
    "y_capped = model_data.loc[model_data['claim_sev']<=cap_value, 'claim_sev_capped'].dropna()\n",
    "\n",
    "# Fit gamma distributions\n",
    "sparams_ori = stats.gamma.fit(y_ori, floc=0)\n",
    "sparams_capped = stats.gamma.fit(y_capped, floc=0)\n",
    "\n",
    "# Plot QQ plots\n",
    "rcParams['figure.figsize'] = 12, 5.5\n",
    "fig, (ax1, ax2) = plt.subplots(1, 2)\n",
    "stats.probplot(y_ori, sparams_ori, dist='gamma', plot=ax1)\n",
    "ax1.set_title('Original claim_sev')\n",
    "stats.probplot(y_capped, sparams_capped, dist='gamma', plot=ax2)\n",
    "ax2.set_title('Capped claim_sev')\n",
    "plt.tight_layout()\n",
    "plt.show()\n",
    "\n",
    "# Plot a histogram of 'claim_sev' and 'claim_sev_capped' with 200 bins\n",
    "import matplotlib.pyplot as plt\n",
    "rcParams['figure.figsize'] = 12, 5.5\n",
    "plt.hist(model_data['claim_sev'].dropna(), bins=200, range=[0, 60000], facecolor='blue', alpha=0.5, label='Original')\n",
    "plt.hist(model_data['claim_sev_capped'].dropna(), bins=200, range=[0, 60000], facecolor='orange', alpha=0.5, label='Capped')\n",
    "plt.xlabel('claim_sev')\n",
    "plt.ylabel('Frequency')\n",
    "plt.ylim([0,500])\n",
    "plt.title('Histogram of claim_sev (200 bins)')\n",
    "plt.tight_layout()\n",
    "plt.show()"
   ]
  },
  {
   "cell_type": "markdown",
   "id": "56456f71",
   "metadata": {},
   "source": [
    "#### Compute total claim amount"
   ]
  },
  {
   "cell_type": "code",
   "execution_count": 8,
   "id": "f505550e",
   "metadata": {},
   "outputs": [
    {
     "name": "stdout",
     "output_type": "stream",
     "text": [
      "Average original claim amount: 644.876\n",
      "Average capped claim amount: 637.706\n",
      "Combined original loss ratio: 0.900\n",
      "Combined capped loss ratio: 0.890\n"
     ]
    }
   ],
   "source": [
    "# Compute the capped claim amount\n",
    "model_data['claim_amt_capped'] = model_data.apply(\n",
    "    lambda row: row['claim_cnt'] * row['claim_sev_capped'] if row['claim_cnt']!=0 else 0, \n",
    "    axis=1\n",
    ")\n",
    "\n",
    "# Print the total original and capped claim amounts\n",
    "print(f\"Average original claim amount: {model_data['claim_amt'].mean():.3f}\")\n",
    "print(f\"Average capped claim amount: {model_data['claim_amt_capped'].mean():.3f}\")\n",
    "# Print the combined original and capped loss ratios\n",
    "print(f\"Combined original loss ratio: {model_data['claim_amt'].sum() / model_data['annual_premium'].sum():.3f}\")\n",
    "print(f\"Combined capped loss ratio: {model_data['claim_amt_capped'].sum() / model_data['annual_premium'].sum():.3f}\")"
   ]
  },
  {
   "cell_type": "markdown",
   "id": "eff0ebce",
   "metadata": {},
   "source": [
    "## Consistency Check\n",
    "### Create a combined data set for consistency check purpose"
   ]
  },
  {
   "cell_type": "code",
   "execution_count": 13,
   "id": "69ab3688",
   "metadata": {},
   "outputs": [
    {
     "name": "stdout",
     "output_type": "stream",
     "text": [
      "Combined data shape: (67856, 10)\n"
     ]
    },
    {
     "data": {
      "text/html": [
       "<div>\n",
       "<style scoped>\n",
       "    .dataframe tbody tr th:only-of-type {\n",
       "        vertical-align: middle;\n",
       "    }\n",
       "\n",
       "    .dataframe tbody tr th {\n",
       "        vertical-align: top;\n",
       "    }\n",
       "\n",
       "    .dataframe thead th {\n",
       "        text-align: right;\n",
       "    }\n",
       "</style>\n",
       "<table border=\"1\" class=\"dataframe\">\n",
       "  <thead>\n",
       "    <tr style=\"text-align: right;\">\n",
       "      <th></th>\n",
       "      <th>pol_year</th>\n",
       "      <th>veh_cnt</th>\n",
       "      <th>agecat2</th>\n",
       "      <th>gender</th>\n",
       "      <th>credit_score</th>\n",
       "      <th>area</th>\n",
       "      <th>traffic_index</th>\n",
       "      <th>veh_age</th>\n",
       "      <th>veh_body</th>\n",
       "      <th>veh_value</th>\n",
       "    </tr>\n",
       "  </thead>\n",
       "  <tbody>\n",
       "    <tr>\n",
       "      <th>0</th>\n",
       "      <td>2017</td>\n",
       "      <td>1</td>\n",
       "      <td>5.0</td>\n",
       "      <td>M</td>\n",
       "      <td>631.0</td>\n",
       "      <td>B</td>\n",
       "      <td>140.9</td>\n",
       "      <td>4</td>\n",
       "      <td>TRUCK</td>\n",
       "      <td>0.924</td>\n",
       "    </tr>\n",
       "    <tr>\n",
       "      <th>1</th>\n",
       "      <td>2017</td>\n",
       "      <td>1</td>\n",
       "      <td>5.0</td>\n",
       "      <td>M</td>\n",
       "      <td>531.0</td>\n",
       "      <td>C</td>\n",
       "      <td>136.5</td>\n",
       "      <td>3</td>\n",
       "      <td>HBACK</td>\n",
       "      <td>1.430</td>\n",
       "    </tr>\n",
       "    <tr>\n",
       "      <th>2</th>\n",
       "      <td>2017</td>\n",
       "      <td>1</td>\n",
       "      <td>1.0</td>\n",
       "      <td>M</td>\n",
       "      <td>838.0</td>\n",
       "      <td>D</td>\n",
       "      <td>88.8</td>\n",
       "      <td>3</td>\n",
       "      <td>SEDAN</td>\n",
       "      <td>1.100</td>\n",
       "    </tr>\n",
       "    <tr>\n",
       "      <th>3</th>\n",
       "      <td>2017</td>\n",
       "      <td>1</td>\n",
       "      <td>2.0</td>\n",
       "      <td>M</td>\n",
       "      <td>835.0</td>\n",
       "      <td>E</td>\n",
       "      <td>NaN</td>\n",
       "      <td>2</td>\n",
       "      <td>SEDAN</td>\n",
       "      <td>2.090</td>\n",
       "    </tr>\n",
       "    <tr>\n",
       "      <th>4</th>\n",
       "      <td>2017</td>\n",
       "      <td>1</td>\n",
       "      <td>3.0</td>\n",
       "      <td>F</td>\n",
       "      <td>748.0</td>\n",
       "      <td>C</td>\n",
       "      <td>123.0</td>\n",
       "      <td>3</td>\n",
       "      <td>HBACK</td>\n",
       "      <td>0.803</td>\n",
       "    </tr>\n",
       "  </tbody>\n",
       "</table>\n",
       "</div>"
      ],
      "text/plain": [
       "   pol_year  veh_cnt  agecat2 gender  credit_score area  traffic_index  \\\n",
       "0      2017        1      5.0      M         631.0    B          140.9   \n",
       "1      2017        1      5.0      M         531.0    C          136.5   \n",
       "2      2017        1      1.0      M         838.0    D           88.8   \n",
       "3      2017        1      2.0      M         835.0    E            NaN   \n",
       "4      2017        1      3.0      F         748.0    C          123.0   \n",
       "\n",
       "   veh_age veh_body  veh_value  \n",
       "0        4    TRUCK      0.924  \n",
       "1        3    HBACK      1.430  \n",
       "2        3    SEDAN      1.100  \n",
       "3        2    SEDAN      2.090  \n",
       "4        3    HBACK      0.803  "
      ]
     },
     "execution_count": 13,
     "metadata": {},
     "output_type": "execute_result"
    }
   ],
   "source": [
    "# Create predictor list\n",
    "pred_lst = ['agecat2', 'gender', 'credit_score', 'area', 'traffic_index', 'veh_age', 'veh_body', 'veh_value']\n",
    "cols = ['pol_year', 'veh_cnt'] + pred_lst\n",
    "\n",
    "# Concatenate model_data[cols] and inference_data[cols] vertically\n",
    "combined_expo_pred_data = pd.concat(\n",
    "    [model_data[cols], \n",
    "     inference_data[cols]], \n",
    "     axis=0, \n",
    "     ignore_index=True\n",
    "     )\n",
    "print('Combined data shape:', combined_expo_pred_data.shape)\n",
    "combined_expo_pred_data.head()"
   ]
  },
  {
   "cell_type": "code",
   "execution_count": null,
   "id": "85bc50fa",
   "metadata": {},
   "outputs": [],
   "source": [
    "# input\n",
    "pred_var = 'agecat2'\n",
    "exp_var = 'traffic_index'\n",
    "year_var = 'pol_year'\n",
    "\n",
    "# construct\n"
   ]
  },
  {
   "cell_type": "markdown",
   "id": "d8555906",
   "metadata": {},
   "source": [
    "## Predictiveness Check"
   ]
  },
  {
   "cell_type": "code",
   "execution_count": null,
   "id": "c2ee33ca",
   "metadata": {},
   "outputs": [],
   "source": []
  },
  {
   "cell_type": "markdown",
   "id": "36865487",
   "metadata": {},
   "source": [
    "## Variable Reduction"
   ]
  },
  {
   "cell_type": "code",
   "execution_count": null,
   "id": "7f08f066",
   "metadata": {},
   "outputs": [],
   "source": []
  },
  {
   "cell_type": "code",
   "execution_count": null,
   "id": "01ccc70c",
   "metadata": {},
   "outputs": [],
   "source": []
  },
  {
   "cell_type": "markdown",
   "id": "24440e4e",
   "metadata": {},
   "source": []
  },
  {
   "cell_type": "code",
   "execution_count": null,
   "id": "cb63678a",
   "metadata": {},
   "outputs": [],
   "source": [
    "\n"
   ]
  },
  {
   "cell_type": "code",
   "execution_count": null,
   "id": "c1f177c8",
   "metadata": {},
   "outputs": [],
   "source": []
  },
  {
   "cell_type": "code",
   "execution_count": null,
   "id": "aed29d42",
   "metadata": {},
   "outputs": [],
   "source": []
  }
 ],
 "metadata": {
  "kernelspec": {
   "display_name": "data_science_bootcamp_lecture_1",
   "language": "python",
   "name": "python3"
  },
  "language_info": {
   "codemirror_mode": {
    "name": "ipython",
    "version": 3
   },
   "file_extension": ".py",
   "mimetype": "text/x-python",
   "name": "python",
   "nbconvert_exporter": "python",
   "pygments_lexer": "ipython3",
   "version": "3.10.18"
  }
 },
 "nbformat": 4,
 "nbformat_minor": 5
}
