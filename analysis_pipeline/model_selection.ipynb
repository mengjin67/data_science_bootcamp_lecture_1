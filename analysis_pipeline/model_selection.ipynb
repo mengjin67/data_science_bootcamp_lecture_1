{
 "cells": [
  {
   "cell_type": "markdown",
   "id": "abbef9e4",
   "metadata": {},
   "source": [
    "# Model Selection\n",
    "Model selection Model selection is a critical step in the modeling procedure where you compare, evaluate, and choose the best predictive model from a set of candidates. The goal of model selection is to identify the model that will perform best on future data, not just the training set. The process typically involves:\n",
    "- Comparing different algorithms (e.g., linear regression, decision trees, random forests, etc.).\n",
    "- Tuning model hyperparameters to optimize performance.\n",
    "- Using statistical criteria (such as AIC, BIC, or adjusted R²) and/or validation metrics (such as accuracy, RMSE, ROC-AUC) to assess model quality.\n",
    "- Employing cross-validation or holdout validation to estimate how well each model generalizes to new, unseen data.\n",
    "- Selecting the model that best balances predictive accuracy, interpretability, and complexity for your specific problem."
   ]
  },
  {
   "cell_type": "markdown",
   "id": "f5cb2f5d",
   "metadata": {},
   "source": [
    "## Initialization"
   ]
  },
  {
   "cell_type": "code",
   "execution_count": 1,
   "id": "0232b8a5",
   "metadata": {},
   "outputs": [],
   "source": [
    "import pandas as pd\n",
    "import numpy as np\n",
    "import os\n",
    "import rich"
   ]
  },
  {
   "cell_type": "markdown",
   "id": "29ac57ac",
   "metadata": {},
   "source": [
    "## Load Data"
   ]
  },
  {
   "cell_type": "code",
   "execution_count": 2,
   "id": "4cd226a9",
   "metadata": {},
   "outputs": [],
   "source": [
    "input_folder = \"../.local/analysis_pipeline/data_exploration\"\n",
    "model_data = pd.read_parquet(f\"{input_folder}/model_data.parquet\")"
   ]
  },
  {
   "cell_type": "markdown",
   "id": "7a72eea1",
   "metadata": {},
   "source": [
    "## Build Model"
   ]
  },
  {
   "cell_type": "code",
   "execution_count": 3,
   "id": "97c861fd",
   "metadata": {},
   "outputs": [
    {
     "data": {
      "text/html": [
       "<pre style=\"white-space:pre;overflow-x:auto;line-height:normal;font-family:Menlo,'DejaVu Sans Mono',consolas,'Courier New',monospace\"><span style=\"font-weight: bold\">(</span><span style=\"color: #008080; text-decoration-color: #008080; font-weight: bold\">45300</span>, <span style=\"color: #008080; text-decoration-color: #008080; font-weight: bold\">24</span><span style=\"font-weight: bold\">)</span>\n",
       "<span style=\"font-weight: bold\">(</span><span style=\"color: #008080; text-decoration-color: #008080; font-weight: bold\">15092</span>, <span style=\"color: #008080; text-decoration-color: #008080; font-weight: bold\">24</span><span style=\"font-weight: bold\">)</span>\n",
       "</pre>\n"
      ],
      "text/plain": [
       "\u001b[1m(\u001b[0m\u001b[1;36m45300\u001b[0m, \u001b[1;36m24\u001b[0m\u001b[1m)\u001b[0m\n",
       "\u001b[1m(\u001b[0m\u001b[1;36m15092\u001b[0m, \u001b[1;36m24\u001b[0m\u001b[1m)\u001b[0m\n"
      ]
     },
     "metadata": {},
     "output_type": "display_data"
    },
    {
     "data": {
      "text/html": [
       "<div>\n",
       "<style scoped>\n",
       "    .dataframe tbody tr th:only-of-type {\n",
       "        vertical-align: middle;\n",
       "    }\n",
       "\n",
       "    .dataframe tbody tr th {\n",
       "        vertical-align: top;\n",
       "    }\n",
       "\n",
       "    .dataframe thead th {\n",
       "        text-align: right;\n",
       "    }\n",
       "</style>\n",
       "<table border=\"1\" class=\"dataframe\">\n",
       "  <thead>\n",
       "    <tr style=\"text-align: right;\">\n",
       "      <th></th>\n",
       "      <th>pol_number</th>\n",
       "      <th>pol_eff_dt</th>\n",
       "      <th>gender</th>\n",
       "      <th>agecat</th>\n",
       "      <th>date_of_birth</th>\n",
       "      <th>credit_score</th>\n",
       "      <th>area</th>\n",
       "      <th>traffic_index</th>\n",
       "      <th>veh_age</th>\n",
       "      <th>veh_body</th>\n",
       "      <th>...</th>\n",
       "      <th>annual_premium</th>\n",
       "      <th>agecat2</th>\n",
       "      <th>pol_year</th>\n",
       "      <th>pol_quarter</th>\n",
       "      <th>veh_cnt</th>\n",
       "      <th>claim_sev</th>\n",
       "      <th>claim_sev_capped</th>\n",
       "      <th>claim_amt_capped</th>\n",
       "      <th>fold</th>\n",
       "      <th>sample</th>\n",
       "    </tr>\n",
       "  </thead>\n",
       "  <tbody>\n",
       "    <tr>\n",
       "      <th>0</th>\n",
       "      <td>64080188</td>\n",
       "      <td>2017-07-10</td>\n",
       "      <td>M</td>\n",
       "      <td>2.0</td>\n",
       "      <td>1989-01-04</td>\n",
       "      <td>631.0</td>\n",
       "      <td>B</td>\n",
       "      <td>140.9</td>\n",
       "      <td>4</td>\n",
       "      <td>TRUCK</td>\n",
       "      <td>...</td>\n",
       "      <td>716.53</td>\n",
       "      <td>5.0</td>\n",
       "      <td>2017</td>\n",
       "      <td>3</td>\n",
       "      <td>1</td>\n",
       "      <td>NaN</td>\n",
       "      <td>NaN</td>\n",
       "      <td>0.000000</td>\n",
       "      <td>3</td>\n",
       "      <td>1|bld</td>\n",
       "    </tr>\n",
       "    <tr>\n",
       "      <th>2</th>\n",
       "      <td>82742606</td>\n",
       "      <td>2017-02-01</td>\n",
       "      <td>M</td>\n",
       "      <td>6.0</td>\n",
       "      <td>1942-07-25</td>\n",
       "      <td>838.0</td>\n",
       "      <td>D</td>\n",
       "      <td>88.8</td>\n",
       "      <td>3</td>\n",
       "      <td>SEDAN</td>\n",
       "      <td>...</td>\n",
       "      <td>716.53</td>\n",
       "      <td>1.0</td>\n",
       "      <td>2017</td>\n",
       "      <td>1</td>\n",
       "      <td>1</td>\n",
       "      <td>159.375757</td>\n",
       "      <td>159.375757</td>\n",
       "      <td>159.375757</td>\n",
       "      <td>1</td>\n",
       "      <td>1|bld</td>\n",
       "    </tr>\n",
       "    <tr>\n",
       "      <th>3</th>\n",
       "      <td>43601997</td>\n",
       "      <td>2017-10-17</td>\n",
       "      <td>M</td>\n",
       "      <td>5.0</td>\n",
       "      <td>1959-06-08</td>\n",
       "      <td>835.0</td>\n",
       "      <td>E</td>\n",
       "      <td>NaN</td>\n",
       "      <td>2</td>\n",
       "      <td>SEDAN</td>\n",
       "      <td>...</td>\n",
       "      <td>716.53</td>\n",
       "      <td>2.0</td>\n",
       "      <td>2017</td>\n",
       "      <td>4</td>\n",
       "      <td>1</td>\n",
       "      <td>NaN</td>\n",
       "      <td>NaN</td>\n",
       "      <td>0.000000</td>\n",
       "      <td>3</td>\n",
       "      <td>1|bld</td>\n",
       "    </tr>\n",
       "    <tr>\n",
       "      <th>4</th>\n",
       "      <td>58746861</td>\n",
       "      <td>2017-04-13</td>\n",
       "      <td>F</td>\n",
       "      <td>4.0</td>\n",
       "      <td>1967-05-16</td>\n",
       "      <td>748.0</td>\n",
       "      <td>C</td>\n",
       "      <td>123.0</td>\n",
       "      <td>3</td>\n",
       "      <td>HBACK</td>\n",
       "      <td>...</td>\n",
       "      <td>716.53</td>\n",
       "      <td>3.0</td>\n",
       "      <td>2017</td>\n",
       "      <td>2</td>\n",
       "      <td>1</td>\n",
       "      <td>143.555642</td>\n",
       "      <td>143.555642</td>\n",
       "      <td>143.555642</td>\n",
       "      <td>3</td>\n",
       "      <td>1|bld</td>\n",
       "    </tr>\n",
       "    <tr>\n",
       "      <th>6</th>\n",
       "      <td>92111059</td>\n",
       "      <td>2017-11-29</td>\n",
       "      <td>M</td>\n",
       "      <td>3.0</td>\n",
       "      <td>1976-10-31</td>\n",
       "      <td>759.0</td>\n",
       "      <td>E</td>\n",
       "      <td>75.0</td>\n",
       "      <td>4</td>\n",
       "      <td>STNWG</td>\n",
       "      <td>...</td>\n",
       "      <td>716.53</td>\n",
       "      <td>4.0</td>\n",
       "      <td>2017</td>\n",
       "      <td>4</td>\n",
       "      <td>1</td>\n",
       "      <td>NaN</td>\n",
       "      <td>NaN</td>\n",
       "      <td>0.000000</td>\n",
       "      <td>1</td>\n",
       "      <td>1|bld</td>\n",
       "    </tr>\n",
       "  </tbody>\n",
       "</table>\n",
       "<p>5 rows × 24 columns</p>\n",
       "</div>"
      ],
      "text/plain": [
       "   pol_number pol_eff_dt gender  agecat date_of_birth  credit_score area  \\\n",
       "0    64080188 2017-07-10      M     2.0    1989-01-04         631.0    B   \n",
       "2    82742606 2017-02-01      M     6.0    1942-07-25         838.0    D   \n",
       "3    43601997 2017-10-17      M     5.0    1959-06-08         835.0    E   \n",
       "4    58746861 2017-04-13      F     4.0    1967-05-16         748.0    C   \n",
       "6    92111059 2017-11-29      M     3.0    1976-10-31         759.0    E   \n",
       "\n",
       "   traffic_index  veh_age veh_body  ...  annual_premium agecat2  pol_year  \\\n",
       "0          140.9        4    TRUCK  ...          716.53     5.0      2017   \n",
       "2           88.8        3    SEDAN  ...          716.53     1.0      2017   \n",
       "3            NaN        2    SEDAN  ...          716.53     2.0      2017   \n",
       "4          123.0        3    HBACK  ...          716.53     3.0      2017   \n",
       "6           75.0        4    STNWG  ...          716.53     4.0      2017   \n",
       "\n",
       "   pol_quarter  veh_cnt   claim_sev  claim_sev_capped  claim_amt_capped  fold  \\\n",
       "0            3        1         NaN               NaN          0.000000     3   \n",
       "2            1        1  159.375757        159.375757        159.375757     1   \n",
       "3            4        1         NaN               NaN          0.000000     3   \n",
       "4            2        1  143.555642        143.555642        143.555642     3   \n",
       "6            4        1         NaN               NaN          0.000000     1   \n",
       "\n",
       "   sample  \n",
       "0   1|bld  \n",
       "2   1|bld  \n",
       "3   1|bld  \n",
       "4   1|bld  \n",
       "6   1|bld  \n",
       "\n",
       "[5 rows x 24 columns]"
      ]
     },
     "execution_count": 3,
     "metadata": {},
     "output_type": "execute_result"
    }
   ],
   "source": [
    "# Define the list of predictors\n",
    "pred_lst = ['agecat2', 'gender', 'credit_score', 'area', 'traffic_index', 'veh_age', 'veh_body', 'veh_value']\n",
    "# Split the data into training and validation sets\n",
    "train_data = model_data.loc[model_data['sample'] == '1|bld']\n",
    "val_data = model_data.loc[model_data['sample'] == '2|val']\n",
    "rich.print( train_data.shape, val_data.shape )\n",
    "train_data.head(5)"
   ]
  },
  {
   "cell_type": "code",
   "execution_count": 4,
   "id": "f7be15d5",
   "metadata": {},
   "outputs": [
    {
     "name": "stdout",
     "output_type": "stream",
     "text": [
      "[0]\ttrain-rmse:3314.96002+44.38601\ttest-rmse:3311.03859+172.07629\n",
      "[50]\ttrain-rmse:2822.35755+29.34812\ttest-rmse:2869.58320+144.40096\n",
      "[50]\ttrain-rmse:2822.35755+29.34812\ttest-rmse:2869.58320+144.40096\n",
      "[100]\ttrain-rmse:2510.43536+25.17595\ttest-rmse:2648.70152+123.77413\n",
      "[100]\ttrain-rmse:2510.43536+25.17595\ttest-rmse:2648.70152+123.77413\n",
      "[150]\ttrain-rmse:2417.66439+21.29564\ttest-rmse:2622.34868+131.57636\n",
      "[150]\ttrain-rmse:2417.66439+21.29564\ttest-rmse:2622.34868+131.57636\n",
      "[175]\ttrain-rmse:2388.99340+19.39637\ttest-rmse:2625.40212+133.39118\n",
      "[175]\ttrain-rmse:2388.99340+19.39637\ttest-rmse:2625.40212+133.39118\n",
      "Best num_boost_round from CV: 147\n",
      "Best num_boost_round from CV: 147\n"
     ]
    }
   ],
   "source": [
    "# XGBoost Tweedie Regression with Cross-Validation Early Stopping and Native Categorical Support\n",
    "import xgboost as xgb\n",
    "\n",
    "# Define features and target\n",
    "y = train_data['claim_amt_capped']\n",
    "X = train_data[pred_lst].copy()\n",
    "\n",
    "# Convert object columns to pandas Categorical dtype for XGBoost native categorical support\n",
    "for col in ['gender', 'area', 'veh_body']:\n",
    "    if X[col].dtype == 'object':\n",
    "        X[col] = X[col].astype('category')\n",
    "\n",
    "# XGBoost DMatrix for all training data with categorical support\n",
    "dtrain = xgb.DMatrix(X, label=y, enable_categorical=True)\n",
    "\n",
    "# Define XGBoost parameters for Tweedie regression\n",
    "params = {\n",
    "    'objective': 'reg:tweedie',         # Tweedie regression objective\n",
    "    'tweedie_variance_power': 1.5,      # Tweedie power (1=Poisson, 2=Gamma, 1<p<2 for insurance)\n",
    "    'learning_rate': 0.05,              # Step size shrinkage (smaller = more robust, slower learning)\n",
    "    'max_depth': 4,                     # Maximum tree depth (controls model complexity)\n",
    "    'min_child_weight': 100,            # Minimum sum of instance weight (hessian) needed in a child (min samples per leaf, set for 45,300 samples)\n",
    "    'subsample': 0.8,                   # Fraction of samples used per tree (prevents overfitting)\n",
    "    'colsample_bytree': 0.8,            # Fraction of features used per tree (prevents overfitting)\n",
    "    'lambda': 1.0,                      # L2 regularization term (prevents overfitting)\n",
    "    'alpha': 0.0,                       # L1 regularization term (prevents overfitting)\n",
    "    'nthread': -1,                      # Use all CPU cores\n",
    "    'seed': 42                          # Random seed for reproducibility\n",
    "}\n",
    "\n",
    "# Cross-validation with early stopping\n",
    "cv_results = xgb.cv(\n",
    "    params,\n",
    "    dtrain,\n",
    "    num_boost_round=1000,\n",
    "    nfold=5,  # 5-fold cross-validation\n",
    "    metrics='rmse',  # or another appropriate metric\n",
    "    early_stopping_rounds=30,\n",
    "    seed=42,\n",
    "    verbose_eval=50\n",
    " )\n",
    "\n",
    "# The best number of boosting rounds is:\n",
    "best_num_boost_round = len(cv_results)\n",
    "print(f\"Best num_boost_round from CV: {best_num_boost_round}\")\n",
    "\n",
    "# Train final model on all data using best_num_boost_round\n",
    "model = xgb.train(\n",
    "    params,\n",
    "    dtrain,\n",
    "    num_boost_round=best_num_boost_round\n",
    " )\n",
    "\n",
    "# --- Hyper-parameter definitions ---\n",
    "# objective:      Loss function to optimize (here, Tweedie regression for insurance data)\n",
    "# tweedie_variance_power: Tweedie power parameter (1=Poisson, 2=Gamma, 1<p<2 for insurance)\n",
    "# learning_rate:  Step size shrinkage to prevent overfitting (lower = slower, more robust)\n",
    "# max_depth:      Maximum depth of each tree (higher = more complex, risk of overfitting)\n",
    "# min_child_weight: Minimum sum of instance weight (hessian) needed in a child (higher = more conservative, prevents overfitting, set to 100 for 45,300 samples)\n",
    "# subsample:      Fraction of samples used per tree (lower = more regularization)\n",
    "# colsample_bytree: Fraction of features used per tree (lower = more regularization)\n",
    "# lambda:         L2 regularization term on weights (higher = more regularization)\n",
    "# alpha:          L1 regularization term on weights (higher = more regularization)\n",
    "# nthread:        Number of parallel threads (set to -1 to use all cores)\n",
    "# seed:           Random seed for reproducibility\n",
    "# early_stopping_rounds: Stop training if validation metric does not improve for this many rounds"
   ]
  },
  {
   "cell_type": "code",
   "execution_count": 5,
   "id": "c2ea8399",
   "metadata": {},
   "outputs": [
    {
     "name": "stderr",
     "output_type": "stream",
     "text": [
      "C:\\Users\\mengjin6\\AppData\\Local\\Temp\\ipykernel_4300\\344244991.py:19: SettingWithCopyWarning: \n",
      "A value is trying to be set on a copy of a slice from a DataFrame.\n",
      "Try using .loc[row_indexer,col_indexer] = value instead\n",
      "\n",
      "See the caveats in the documentation: https://pandas.pydata.org/pandas-docs/stable/user_guide/indexing.html#returning-a-view-versus-a-copy\n",
      "  train_data['xgb_tweedie_pred'] = train_pred\n",
      "C:\\Users\\mengjin6\\AppData\\Local\\Temp\\ipykernel_4300\\344244991.py:23: SettingWithCopyWarning: \n",
      "A value is trying to be set on a copy of a slice from a DataFrame.\n",
      "Try using .loc[row_indexer,col_indexer] = value instead\n",
      "\n",
      "See the caveats in the documentation: https://pandas.pydata.org/pandas-docs/stable/user_guide/indexing.html#returning-a-view-versus-a-copy\n",
      "  val_data['xgb_tweedie_pred'] = val_pred\n"
     ]
    }
   ],
   "source": [
    "# --- Model Fitting Score and Prediction ---\n",
    "# Prepare train and validation data for prediction\n",
    "X_train = train_data[pred_lst].copy()\n",
    "X_val = val_data[pred_lst].copy()\n",
    "\n",
    "# Convert object columns to category for both sets\n",
    "for col in ['gender', 'area', 'veh_body']:\n",
    "    if X_train[col].dtype == 'object':\n",
    "        X_train[col] = X_train[col].astype('category')\n",
    "    if X_val[col].dtype == 'object':\n",
    "        X_val[col] = X_val[col].astype('category')\n",
    "\n",
    "# DMatrix for prediction\n",
    "dtrain_pred = xgb.DMatrix(X_train, enable_categorical=True)\n",
    "dval_pred = xgb.DMatrix(X_val, enable_categorical=True)\n",
    "\n",
    "# In-sample fitted values\n",
    "train_pred = model.predict(dtrain_pred)\n",
    "train_data['xgb_tweedie_pred'] = train_pred\n",
    "\n",
    "# Out-of-sample prediction on validation set\n",
    "val_pred = model.predict(dval_pred)\n",
    "val_data['xgb_tweedie_pred'] = val_pred\n"
   ]
  },
  {
   "cell_type": "markdown",
   "id": "f0c8e71c",
   "metadata": {},
   "source": [
    "## Model Evaluation\n",
    "Below please find resources on different model evaluation metrics:\n",
    "1. Gini coefficient: The Gini coefficient is a statistical measure of inequality, but in the context of the Casualty Actuarial Society (CAS), it is used to evaluate the effectiveness of predictive models, such as those used for insurance ratemaking. In this application, a Gini index measures how well a model's predictions (like for pure premium or risk scores) distinguish between high-risk and low-risk policyholders, with a higher Gini coefficient indicating better model performance. (Source: Search \"Gini coefficient Casualty Actuarial Society\").\n",
    "2. https://www.casact.org/sites/default/files/presentation/rpm_2019_presentations_m-4_williams.pdf"
   ]
  },
  {
   "cell_type": "markdown",
   "id": "9ddd5a4d",
   "metadata": {},
   "source": [
    "### On training data"
   ]
  },
  {
   "cell_type": "code",
   "execution_count": null,
   "id": "b583e0aa",
   "metadata": {},
   "outputs": [
    {
     "name": "stdout",
     "output_type": "stream",
     "text": [
      "Top Lift: 7.6513\n",
      "R^2: 0.4557\n",
      "RMSE: 2450.30\n",
      "MAE: 679.45\n"
     ]
    },
    {
     "data": {
      "image/png": "[encoded data removed]",
      "text/plain": [
       "<Figure size 1000x400 with 2 Axes>"
      ]
     },
     "metadata": {},
     "output_type": "display_data"
    }
   ],
   "source": [
    "# Ensure the parent directory is in the path for module import\n",
    "import sys\n",
    "sys.path.append(os.path.abspath(\"..\"))\n",
    "from analysis_tool_chest.data_exploration import PredictivenessCheck\n",
    "\n",
    "# Select validation sample for predictiveness check\n",
    "data = train_data\n",
    "\n",
    "# Define variables\n",
    "exp_var = 'veh_cnt'\n",
    "pred_var = 'xgb_tweedie_pred'\n",
    "var_1 = 'claim_amt_capped'\n",
    "var_2 = 'xgb_tweedie_pred'\n",
    "nbins = 10\n",
    "\n",
    "\n",
    "# Create and run PredictivenessCheck\n",
    "pc = PredictivenessCheck(\n",
    "    df=data,\n",
    "    pred_var=pred_var,\n",
    "    exp_var=exp_var,\n",
    "    var_1=var_1,\n",
    "    var_2=var_2\n",
    ")\n",
    "\n",
    "pc.binning(nbins=nbins)\n",
    "pc.aggregate()\n",
    "\n",
    "pc.top_lift()\n",
    "print(f\"Top Lift: {pc.top_lift:.4f}\")\n",
    "# Compute R^2, RMSE, and MAE\n",
    "from sklearn.metrics import r2_score, mean_absolute_error, root_mean_squared_error\n",
    "r2_train = r2_score(data[var_1], data[var_2])\n",
    "rmse_train = root_mean_squared_error(data[var_1], data[var_2])\n",
    "mae_train = mean_absolute_error(data[var_1], data[var_2])\n",
    "print(f\"R^2: {r2_train:.4f}\")\n",
    "print(f\"RMSE: {rmse_train:.2f}\")\n",
    "print(f\"MAE: {mae_train:.2f}\")\n",
    "\n",
    "pc.plot(figsize=(10, 4))\n",
    "\n"
   ]
  },
  {
   "cell_type": "code",
   "execution_count": 7,
   "id": "95be0717",
   "metadata": {},
   "outputs": [
    {
     "name": "stdout",
     "output_type": "stream",
     "text": [
      "R^2: 0.4557\n",
      "RMSE: 2450.30\n",
      "MAE: 679.45\n"
     ]
    }
   ],
   "source": [
    "\n",
    "# Compute R^2, RMSE, and MAE\n",
    "from sklearn.metrics import r2_score, mean_absolute_error, root_mean_squared_error\n",
    "r2_train = r2_score(data[var_1], data[var_2])\n",
    "rmse_train = root_mean_squared_error(data[var_1], data[var_2])\n",
    "mae_train = mean_absolute_error(data[var_1], data[var_2])\n",
    "print(f\"R^2: {r2_train:.4f}\")\n",
    "print(f\"RMSE: {rmse_train:.2f}\")\n",
    "print(f\"MAE: {mae_train:.2f}\")"
   ]
  },
  {
   "cell_type": "code",
   "execution_count": 8,
   "id": "08a61659",
   "metadata": {},
   "outputs": [
    {
     "ename": "TypeError",
     "evalue": "'numpy.float64' object is not callable",
     "output_type": "error",
     "traceback": [
      "\u001b[1;31m---------------------------------------------------------------------------\u001b[0m",
      "\u001b[1;31mTypeError\u001b[0m                                 Traceback (most recent call last)",
      "Cell \u001b[1;32mIn[8], line 1\u001b[0m\n\u001b[1;32m----> 1\u001b[0m \u001b[43mpc\u001b[49m\u001b[38;5;241;43m.\u001b[39;49m\u001b[43mtop_lift\u001b[49m\u001b[43m(\u001b[49m\u001b[43m)\u001b[49m\n",
      "\u001b[1;31mTypeError\u001b[0m: 'numpy.float64' object is not callable"
     ]
    }
   ],
   "source": [
    "pc.top_lift()"
   ]
  },
  {
   "cell_type": "code",
   "execution_count": null,
   "id": "d0edf9f8",
   "metadata": {},
   "outputs": [],
   "source": []
  }
 ],
 "metadata": {
  "kernelspec": {
   "display_name": "data_science_bootcamp_lecture_1",
   "language": "python",
   "name": "python3"
  },
  "language_info": {
   "codemirror_mode": {
    "name": "ipython",
    "version": 3
   },
   "file_extension": ".py",
   "mimetype": "text/x-python",
   "name": "python",
   "nbconvert_exporter": "python",
   "pygments_lexer": "ipython3",
   "version": "3.10.18"
  }
 },
 "nbformat": 4,
 "nbformat_minor": 5
}
