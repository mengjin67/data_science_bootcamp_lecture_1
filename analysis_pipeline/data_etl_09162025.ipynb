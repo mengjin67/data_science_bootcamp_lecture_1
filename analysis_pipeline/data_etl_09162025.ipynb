{
 "cells": [
  {
   "cell_type": "markdown",
   "id": "0c7f73c5",
   "metadata": {},
   "source": [
    "# Data ETL\n",
    "ETL - Extract, Transform, Load: Gather raw data from various sources, clean and consolidate it, and then load it into a single centralized destination\n",
    "- Extract data from various sources (databases, files, APIs, etc.)\n",
    "- Transform the data by cleaning, formatting, or combining it as needed\n",
    "- Load the processed data into a destination, such as a database, data warehouse, or analytics tool\n",
    "ETL is a foundational step in data engineering and analytics pipelines, ensuring data is ready for analysis or further processing."
   ]
  },
  {
   "cell_type": "markdown",
   "id": "3df5fb88",
   "metadata": {},
   "source": [
    "## Initialize"
   ]
  },
  {
   "cell_type": "code",
   "execution_count": 1,
   "id": "24bff0b6",
   "metadata": {},
   "outputs": [],
   "source": [
    "import pandas as pd\n",
    "import numpy as np\n",
    "# import polars as pl\n",
    "import gdown\n",
    "import os\n",
    "import rich"
   ]
  },
  {
   "cell_type": "code",
   "execution_count": 2,
   "id": "d4688ab9",
   "metadata": {},
   "outputs": [],
   "source": [
    "# ## Onetime data downloading\n",
    "# model_file_id = \"15DamSAHtEUsLn2qwnwmJFgD7Djk1MizJ\"\n",
    "# data_folder = \"c:/teaching/fall2025/data_science_bootcamp_lecture_1\"\n",
    "# gdown.download(\n",
    "#     f\"https://drive.google.com/uc?id={model_file_id}\",\n",
    "#     f'{data_folder}/.local/auto_policies_2017.csv', \n",
    "#     quiet=False)\n",
    "# inference_file_id = \"1ZppcSp8WMinV3iUdNUDapfDg3bMEqMat\"\n",
    "# gdown.download(\n",
    "#     f\"https://drive.google.com/uc?id={inference_file_id}\",\n",
    "#     f'{data_folder}/.local/auto_potential_customers_2018.csv', \n",
    "#     quiet=False)"
   ]
  },
  {
   "cell_type": "markdown",
   "id": "8f177290",
   "metadata": {},
   "source": [
    "## Extract Data"
   ]
  },
  {
   "cell_type": "code",
   "execution_count": 3,
   "id": "20c30d81",
   "metadata": {},
   "outputs": [
    {
     "name": "stdout",
     "output_type": "stream",
     "text": [
      "(50000, 15)\n"
     ]
    },
    {
     "data": {
      "text/html": [
       "<div>\n",
       "<style scoped>\n",
       "    .dataframe tbody tr th:only-of-type {\n",
       "        vertical-align: middle;\n",
       "    }\n",
       "\n",
       "    .dataframe tbody tr th {\n",
       "        vertical-align: top;\n",
       "    }\n",
       "\n",
       "    .dataframe thead th {\n",
       "        text-align: right;\n",
       "    }\n",
       "</style>\n",
       "<table border=\"1\" class=\"dataframe\">\n",
       "  <thead>\n",
       "    <tr style=\"text-align: right;\">\n",
       "      <th></th>\n",
       "      <th>pol_number</th>\n",
       "      <th>pol_eff_dt</th>\n",
       "      <th>agecat</th>\n",
       "      <th>date_of_birth</th>\n",
       "      <th>credit_score</th>\n",
       "      <th>traffic_index</th>\n",
       "      <th>veh_age</th>\n",
       "      <th>veh_value</th>\n",
       "      <th>numclaims</th>\n",
       "      <th>claimcst0</th>\n",
       "      <th>annual_premium</th>\n",
       "      <th>gender</th>\n",
       "      <th>area</th>\n",
       "      <th>veh_body</th>\n",
       "      <th>claim_office</th>\n",
       "    </tr>\n",
       "  </thead>\n",
       "  <tbody>\n",
       "    <tr>\n",
       "      <th>0</th>\n",
       "      <td>5.370332e+07</td>\n",
       "      <td>2017-07-19</td>\n",
       "      <td>-5.985015</td>\n",
       "      <td>1967-08-09</td>\n",
       "      <td>566.644937</td>\n",
       "      <td>72.104017</td>\n",
       "      <td>2.557480</td>\n",
       "      <td>2.289678</td>\n",
       "      <td>1</td>\n",
       "      <td>7228.00554</td>\n",
       "      <td>716.53</td>\n",
       "      <td>M</td>\n",
       "      <td>A</td>\n",
       "      <td>SEDAN</td>\n",
       "      <td>A</td>\n",
       "    </tr>\n",
       "    <tr>\n",
       "      <th>1</th>\n",
       "      <td>5.565691e+07</td>\n",
       "      <td>2017-06-29</td>\n",
       "      <td>-4.353750</td>\n",
       "      <td>1966-04-15</td>\n",
       "      <td>691.515821</td>\n",
       "      <td>107.602505</td>\n",
       "      <td>2.792034</td>\n",
       "      <td>1.826403</td>\n",
       "      <td>0</td>\n",
       "      <td>0.00000</td>\n",
       "      <td>716.53</td>\n",
       "      <td>F</td>\n",
       "      <td>C</td>\n",
       "      <td>SEDAN</td>\n",
       "      <td>Missing</td>\n",
       "    </tr>\n",
       "    <tr>\n",
       "      <th>2</th>\n",
       "      <td>5.627846e+07</td>\n",
       "      <td>2017-06-30</td>\n",
       "      <td>-3.997989</td>\n",
       "      <td>1972-08-14</td>\n",
       "      <td>614.973556</td>\n",
       "      <td>80.482879</td>\n",
       "      <td>2.452349</td>\n",
       "      <td>2.899493</td>\n",
       "      <td>0</td>\n",
       "      <td>0.00000</td>\n",
       "      <td>716.53</td>\n",
       "      <td>M</td>\n",
       "      <td>A</td>\n",
       "      <td>STNWG</td>\n",
       "      <td>Missing</td>\n",
       "    </tr>\n",
       "    <tr>\n",
       "      <th>3</th>\n",
       "      <td>5.491015e+07</td>\n",
       "      <td>2017-07-03</td>\n",
       "      <td>-5.121608</td>\n",
       "      <td>1971-09-13</td>\n",
       "      <td>614.002052</td>\n",
       "      <td>85.560472</td>\n",
       "      <td>2.462938</td>\n",
       "      <td>2.702998</td>\n",
       "      <td>0</td>\n",
       "      <td>0.00000</td>\n",
       "      <td>716.53</td>\n",
       "      <td>M</td>\n",
       "      <td>A</td>\n",
       "      <td>STNWG</td>\n",
       "      <td>Missing</td>\n",
       "    </tr>\n",
       "    <tr>\n",
       "      <th>4</th>\n",
       "      <td>5.371561e+07</td>\n",
       "      <td>2017-07-09</td>\n",
       "      <td>-5.724952</td>\n",
       "      <td>1966-04-03</td>\n",
       "      <td>682.434840</td>\n",
       "      <td>67.920249</td>\n",
       "      <td>2.644569</td>\n",
       "      <td>2.287953</td>\n",
       "      <td>0</td>\n",
       "      <td>0.00000</td>\n",
       "      <td>716.53</td>\n",
       "      <td>M</td>\n",
       "      <td>A</td>\n",
       "      <td>SEDAN</td>\n",
       "      <td>Missing</td>\n",
       "    </tr>\n",
       "  </tbody>\n",
       "</table>\n",
       "</div>"
      ],
      "text/plain": [
       "     pol_number  pol_eff_dt    agecat date_of_birth  credit_score  \\\n",
       "0  5.370332e+07  2017-07-19 -5.985015    1967-08-09    566.644937   \n",
       "1  5.565691e+07  2017-06-29 -4.353750    1966-04-15    691.515821   \n",
       "2  5.627846e+07  2017-06-30 -3.997989    1972-08-14    614.973556   \n",
       "3  5.491015e+07  2017-07-03 -5.121608    1971-09-13    614.002052   \n",
       "4  5.371561e+07  2017-07-09 -5.724952    1966-04-03    682.434840   \n",
       "\n",
       "   traffic_index   veh_age  veh_value  numclaims   claimcst0  annual_premium  \\\n",
       "0      72.104017  2.557480   2.289678          1  7228.00554          716.53   \n",
       "1     107.602505  2.792034   1.826403          0     0.00000          716.53   \n",
       "2      80.482879  2.452349   2.899493          0     0.00000          716.53   \n",
       "3      85.560472  2.462938   2.702998          0     0.00000          716.53   \n",
       "4      67.920249  2.644569   2.287953          0     0.00000          716.53   \n",
       "\n",
       "  gender area veh_body claim_office  \n",
       "0      M    A    SEDAN            A  \n",
       "1      F    C    SEDAN      Missing  \n",
       "2      M    A    STNWG      Missing  \n",
       "3      M    A    STNWG      Missing  \n",
       "4      M    A    SEDAN      Missing  "
      ]
     },
     "execution_count": 3,
     "metadata": {},
     "output_type": "execute_result"
    }
   ],
   "source": [
    "data_folder = \"c:/teaching/fall2025/data_science_bootcamp_lecture_1\"\n",
    "# model_data = pd.read_csv(f'{data_folder}/.local/auto_policies_2017.csv')\n",
    "model_data = pd.read_csv(f'{data_folder}/.local/synthetic_model_data.csv')\n",
    "print( model_data.shape )\n",
    "model_data.head(5)"
   ]
  },
  {
   "cell_type": "code",
   "execution_count": 4,
   "id": "a2e22756",
   "metadata": {},
   "outputs": [
    {
     "name": "stdout",
     "output_type": "stream",
     "text": [
      "(5000, 10)\n"
     ]
    },
    {
     "data": {
      "text/html": [
       "<div>\n",
       "<style scoped>\n",
       "    .dataframe tbody tr th:only-of-type {\n",
       "        vertical-align: middle;\n",
       "    }\n",
       "\n",
       "    .dataframe tbody tr th {\n",
       "        vertical-align: top;\n",
       "    }\n",
       "\n",
       "    .dataframe thead th {\n",
       "        text-align: right;\n",
       "    }\n",
       "</style>\n",
       "<table border=\"1\" class=\"dataframe\">\n",
       "  <thead>\n",
       "    <tr style=\"text-align: right;\">\n",
       "      <th></th>\n",
       "      <th>quote_number</th>\n",
       "      <th>agecat</th>\n",
       "      <th>date_of_birth</th>\n",
       "      <th>credit_score</th>\n",
       "      <th>traffic_index</th>\n",
       "      <th>veh_age</th>\n",
       "      <th>veh_value</th>\n",
       "      <th>gender</th>\n",
       "      <th>area</th>\n",
       "      <th>veh_body</th>\n",
       "    </tr>\n",
       "  </thead>\n",
       "  <tbody>\n",
       "    <tr>\n",
       "      <th>0</th>\n",
       "      <td>5.490897e+07</td>\n",
       "      <td>-5.336328</td>\n",
       "      <td>1969-09-03</td>\n",
       "      <td>610.778720</td>\n",
       "      <td>88.917854</td>\n",
       "      <td>2.900500</td>\n",
       "      <td>1.518183</td>\n",
       "      <td>M</td>\n",
       "      <td>C</td>\n",
       "      <td>UTE</td>\n",
       "    </tr>\n",
       "    <tr>\n",
       "      <th>1</th>\n",
       "      <td>5.402080e+07</td>\n",
       "      <td>-4.865684</td>\n",
       "      <td>1968-06-01</td>\n",
       "      <td>647.422732</td>\n",
       "      <td>112.836114</td>\n",
       "      <td>2.772218</td>\n",
       "      <td>1.256718</td>\n",
       "      <td>F</td>\n",
       "      <td>C</td>\n",
       "      <td>SEDAN</td>\n",
       "    </tr>\n",
       "    <tr>\n",
       "      <th>2</th>\n",
       "      <td>5.521873e+07</td>\n",
       "      <td>-5.558392</td>\n",
       "      <td>1970-08-12</td>\n",
       "      <td>628.717026</td>\n",
       "      <td>100.190509</td>\n",
       "      <td>2.508692</td>\n",
       "      <td>2.023435</td>\n",
       "      <td>F</td>\n",
       "      <td>C</td>\n",
       "      <td>SEDAN</td>\n",
       "    </tr>\n",
       "    <tr>\n",
       "      <th>3</th>\n",
       "      <td>5.352436e+07</td>\n",
       "      <td>-7.677538</td>\n",
       "      <td>1978-04-11</td>\n",
       "      <td>587.018013</td>\n",
       "      <td>118.913016</td>\n",
       "      <td>1.858794</td>\n",
       "      <td>4.418014</td>\n",
       "      <td>F</td>\n",
       "      <td>C</td>\n",
       "      <td>STNWG</td>\n",
       "    </tr>\n",
       "    <tr>\n",
       "      <th>4</th>\n",
       "      <td>5.522919e+07</td>\n",
       "      <td>-5.302583</td>\n",
       "      <td>1968-05-13</td>\n",
       "      <td>620.665220</td>\n",
       "      <td>69.924154</td>\n",
       "      <td>2.721533</td>\n",
       "      <td>1.688835</td>\n",
       "      <td>M</td>\n",
       "      <td>A</td>\n",
       "      <td>HBACK</td>\n",
       "    </tr>\n",
       "  </tbody>\n",
       "</table>\n",
       "</div>"
      ],
      "text/plain": [
       "   quote_number    agecat date_of_birth  credit_score  traffic_index  \\\n",
       "0  5.490897e+07 -5.336328    1969-09-03    610.778720      88.917854   \n",
       "1  5.402080e+07 -4.865684    1968-06-01    647.422732     112.836114   \n",
       "2  5.521873e+07 -5.558392    1970-08-12    628.717026     100.190509   \n",
       "3  5.352436e+07 -7.677538    1978-04-11    587.018013     118.913016   \n",
       "4  5.522919e+07 -5.302583    1968-05-13    620.665220      69.924154   \n",
       "\n",
       "    veh_age  veh_value gender area veh_body  \n",
       "0  2.900500   1.518183      M    C      UTE  \n",
       "1  2.772218   1.256718      F    C    SEDAN  \n",
       "2  2.508692   2.023435      F    C    SEDAN  \n",
       "3  1.858794   4.418014      F    C    STNWG  \n",
       "4  2.721533   1.688835      M    A    HBACK  "
      ]
     },
     "execution_count": 4,
     "metadata": {},
     "output_type": "execute_result"
    }
   ],
   "source": [
    "# inference_data = pd.read_csv(f'{data_folder}/.local/auto_potential_customers_2018.csv')\n",
    "inference_data = pd.read_csv(f'{data_folder}/.local/synthetic_inference_data.csv')\n",
    "print( inference_data.shape )\n",
    "inference_data.head(5)"
   ]
  },
  {
   "cell_type": "markdown",
   "id": "32d93f72",
   "metadata": {},
   "source": [
    "## Transform Data\n",
    "### Visualize data"
   ]
  },
  {
   "cell_type": "code",
   "execution_count": 5,
   "id": "f91f44f0",
   "metadata": {},
   "outputs": [],
   "source": [
    "output_folder = \"../.local/analysis_pipeline/data_etl\"\n",
    "os.makedirs(output_folder, exist_ok=True)"
   ]
  },
  {
   "cell_type": "code",
   "execution_count": 6,
   "id": "fce89825",
   "metadata": {},
   "outputs": [
    {
     "data": {
      "text/html": [
       "\n",
       "            <div>\n",
       "                <ins><a href=\"https://ydata.ai/register\">Upgrade to ydata-sdk</a></ins>\n",
       "                <p>\n",
       "                    Improve your data and profiling with ydata-sdk, featuring data quality scoring, redundancy detection, outlier identification, text validation, and synthetic data generation.\n",
       "                </p>\n",
       "            </div>\n",
       "            "
      ],
      "text/plain": [
       "<IPython.core.display.HTML object>"
      ]
     },
     "metadata": {},
     "output_type": "display_data"
    }
   ],
   "source": [
    "from ydata_profiling import ProfileReport\n",
    "\n",
    "model_data_profile = ProfileReport(model_data, title=\"Model Data Profiling Report\")"
   ]
  },
  {
   "cell_type": "code",
   "execution_count": 7,
   "id": "a2b20dbf",
   "metadata": {},
   "outputs": [
    {
     "data": {
      "application/vnd.jupyter.widget-view+json": {
       "model_id": "9a7b538afe9541d7a888a64cad20388c",
       "version_major": 2,
       "version_minor": 0
      },
      "text/plain": [
       "Summarize dataset:   0%|          | 0/5 [00:00<?, ?it/s]"
      ]
     },
     "metadata": {},
     "output_type": "display_data"
    },
    {
     "name": "stderr",
     "output_type": "stream",
     "text": [
      "100%|██████████| 15/15 [00:00<00:00, 27.16it/s]\n"
     ]
    },
    {
     "data": {
      "application/vnd.jupyter.widget-view+json": {
       "model_id": "de939a4d60d94142b793cea7f9dd3506",
       "version_major": 2,
       "version_minor": 0
      },
      "text/plain": [
       "Generate report structure:   0%|          | 0/1 [00:00<?, ?it/s]"
      ]
     },
     "metadata": {},
     "output_type": "display_data"
    },
    {
     "data": {
      "application/vnd.jupyter.widget-view+json": {
       "model_id": "4175fad35727411e9e160069ac8aece8",
       "version_major": 2,
       "version_minor": 0
      },
      "text/plain": [
       "Render HTML:   0%|          | 0/1 [00:00<?, ?it/s]"
      ]
     },
     "metadata": {},
     "output_type": "display_data"
    },
    {
     "data": {
      "application/vnd.jupyter.widget-view+json": {
       "model_id": "a7ac7eb75f8a4202bf1bb455c4e8a7ac",
       "version_major": 2,
       "version_minor": 0
      },
      "text/plain": [
       "Export report to file:   0%|          | 0/1 [00:00<?, ?it/s]"
      ]
     },
     "metadata": {},
     "output_type": "display_data"
    }
   ],
   "source": [
    "# model_data_profile.to_notebook_iframe()\n",
    "model_data_profile.to_file(f\"{output_folder}/model_data_profile_09162025.html\") "
   ]
  },
  {
   "cell_type": "markdown",
   "id": "94a292f6",
   "metadata": {},
   "source": [
    "### Clean data"
   ]
  },
  {
   "cell_type": "code",
   "execution_count": 8,
   "id": "e0c8e78d",
   "metadata": {},
   "outputs": [
    {
     "name": "stdout",
     "output_type": "stream",
     "text": [
      "<class 'pandas.core.frame.DataFrame'>\n",
      "RangeIndex: 50000 entries, 0 to 49999\n",
      "Data columns (total 15 columns):\n",
      " #   Column          Non-Null Count  Dtype  \n",
      "---  ------          --------------  -----  \n",
      " 0   pol_number      50000 non-null  float64\n",
      " 1   pol_eff_dt      50000 non-null  object \n",
      " 2   agecat          50000 non-null  float64\n",
      " 3   date_of_birth   50000 non-null  object \n",
      " 4   credit_score    50000 non-null  float64\n",
      " 5   traffic_index   50000 non-null  float64\n",
      " 6   veh_age         50000 non-null  float64\n",
      " 7   veh_value       50000 non-null  float64\n",
      " 8   numclaims       50000 non-null  int64  \n",
      " 9   claimcst0       50000 non-null  float64\n",
      " 10  annual_premium  50000 non-null  float64\n",
      " 11  gender          50000 non-null  object \n",
      " 12  area            50000 non-null  object \n",
      " 13  veh_body        50000 non-null  object \n",
      " 14  claim_office    50000 non-null  object \n",
      "dtypes: float64(8), int64(1), object(6)\n",
      "memory usage: 5.7+ MB\n"
     ]
    },
    {
     "data": {
      "text/html": [
       "<pre style=\"white-space:pre;overflow-x:auto;line-height:normal;font-family:Menlo,'DejaVu Sans Mono',consolas,'Courier New',monospace\"><span style=\"color: #800080; text-decoration-color: #800080; font-style: italic\">None</span>\n",
       "</pre>\n"
      ],
      "text/plain": [
       "\u001b[3;35mNone\u001b[0m\n"
      ]
     },
     "metadata": {},
     "output_type": "display_data"
    }
   ],
   "source": [
    "## Show column information for abnormal checking purpose\n",
    "rich.print( model_data.info() )"
   ]
  },
  {
   "cell_type": "code",
   "execution_count": 9,
   "id": "f9e71799",
   "metadata": {},
   "outputs": [],
   "source": [
    "## Format data into correct types\n",
    "# Convert 'date_of_birth' to datetime, coercing errors to NaT for invalid formats\n",
    "model_data['pol_eff_dt'] = pd.to_datetime(model_data['pol_eff_dt'], format='%m/%d/%Y', errors='coerce')\n",
    "model_data['date_of_birth'] = pd.to_datetime(model_data['date_of_birth'], format='%m/%d/%Y', errors='coerce')"
   ]
  },
  {
   "cell_type": "code",
   "execution_count": 10,
   "id": "95610a76",
   "metadata": {},
   "outputs": [
    {
     "data": {
      "text/html": [
       "<pre style=\"white-space:pre;overflow-x:auto;line-height:normal;font-family:Menlo,'DejaVu Sans Mono',consolas,'Courier New',monospace\">      date_of_birth\n",
       "count             <span style=\"color: #008080; text-decoration-color: #008080; font-weight: bold\">0</span>\n",
       "mean            NaT\n",
       "min             NaT\n",
       "<span style=\"color: #008080; text-decoration-color: #008080; font-weight: bold\">25</span>%             NaT\n",
       "<span style=\"color: #008080; text-decoration-color: #008080; font-weight: bold\">50</span>%             NaT\n",
       "<span style=\"color: #008080; text-decoration-color: #008080; font-weight: bold\">75</span>%             NaT\n",
       "max             NaT\n",
       "</pre>\n"
      ],
      "text/plain": [
       "      date_of_birth\n",
       "count             \u001b[1;36m0\u001b[0m\n",
       "mean            NaT\n",
       "min             NaT\n",
       "\u001b[1;36m25\u001b[0m%             NaT\n",
       "\u001b[1;36m50\u001b[0m%             NaT\n",
       "\u001b[1;36m75\u001b[0m%             NaT\n",
       "max             NaT\n"
      ]
     },
     "metadata": {},
     "output_type": "display_data"
    },
    {
     "data": {
      "text/html": [
       "<pre style=\"white-space:pre;overflow-x:auto;line-height:normal;font-family:Menlo,'DejaVu Sans Mono',consolas,'Courier New',monospace\">      date_of_birth\n",
       "count             <span style=\"color: #008080; text-decoration-color: #008080; font-weight: bold\">0</span>\n",
       "mean            NaT\n",
       "min             NaT\n",
       "<span style=\"color: #008080; text-decoration-color: #008080; font-weight: bold\">25</span>%             NaT\n",
       "<span style=\"color: #008080; text-decoration-color: #008080; font-weight: bold\">50</span>%             NaT\n",
       "<span style=\"color: #008080; text-decoration-color: #008080; font-weight: bold\">75</span>%             NaT\n",
       "max             NaT\n",
       "</pre>\n"
      ],
      "text/plain": [
       "      date_of_birth\n",
       "count             \u001b[1;36m0\u001b[0m\n",
       "mean            NaT\n",
       "min             NaT\n",
       "\u001b[1;36m25\u001b[0m%             NaT\n",
       "\u001b[1;36m50\u001b[0m%             NaT\n",
       "\u001b[1;36m75\u001b[0m%             NaT\n",
       "max             NaT\n"
      ]
     },
     "metadata": {},
     "output_type": "display_data"
    }
   ],
   "source": [
    "## Validate 'date_of_birth'\n",
    "# Show 'date_of_birth' for null 'agecat'\n",
    "rich.print( model_data.loc[model_data['agecat'].isnull(), ['date_of_birth']].describe() )\n",
    "# Find 'agecat' cutoff for each 'agecat'\n",
    "# Here, we are giving an example on 'agecat' = 1\n",
    "rich.print( model_data.loc[model_data['agecat'].isin([1]), ['date_of_birth']].describe() )"
   ]
  },
  {
   "cell_type": "code",
   "execution_count": 12,
   "id": "05eaf014",
   "metadata": {},
   "outputs": [],
   "source": [
    "## Correct 'date_of_birth'\n",
    "# Define bins and labels for age categories\n",
    "bins = [\n",
    "    pd.Timestamp('1900-01-01'), \n",
    "    pd.Timestamp('1950-01-01'), \n",
    "    pd.Timestamp('1960-01-01'),\n",
    "    pd.Timestamp('1970-01-01'), \n",
    "    pd.Timestamp('1980-01-01'), \n",
    "    pd.Timestamp('1990-01-01'), \n",
    "    pd.Timestamp.max \n",
    "    ]\n",
    "labels = [1, 2, 3, 4, 5, 6]\n",
    "# Use pd.cut to assign agecat2 based on date_of_birth\n",
    "model_data['agecat2'] = pd.cut(model_data['date_of_birth'], bins=bins, labels=labels, right=False)\n",
    "# Ensure float type for consistency\n",
    "model_data['agecat2'] = model_data['agecat2'].astype(float)  "
   ]
  },
  {
   "cell_type": "markdown",
   "id": "d0100275",
   "metadata": {},
   "source": [
    "### Consolidate Data"
   ]
  },
  {
   "cell_type": "code",
   "execution_count": 13,
   "id": "7aa7f88a",
   "metadata": {},
   "outputs": [
    {
     "data": {
      "text/html": [
       "<pre style=\"white-space:pre;overflow-x:auto;line-height:normal;font-family:Menlo,'DejaVu Sans Mono',consolas,'Courier New',monospace\">veh_body\n",
       "STNWG    <span style=\"color: #008080; text-decoration-color: #008080; font-weight: bold\">21125</span>\n",
       "SEDAN    <span style=\"color: #008080; text-decoration-color: #008080; font-weight: bold\">16882</span>\n",
       "HBACK    <span style=\"color: #008080; text-decoration-color: #008080; font-weight: bold\">11993</span>\n",
       "Name: count, dtype: int64\n",
       "</pre>\n"
      ],
      "text/plain": [
       "veh_body\n",
       "STNWG    \u001b[1;36m21125\u001b[0m\n",
       "SEDAN    \u001b[1;36m16882\u001b[0m\n",
       "HBACK    \u001b[1;36m11993\u001b[0m\n",
       "Name: count, dtype: int64\n"
      ]
     },
     "metadata": {},
     "output_type": "display_data"
    }
   ],
   "source": [
    "# Check category distribution of 'veh_body'\n",
    "rich.print( model_data['veh_body'].value_counts() )\n",
    "# Group 'MCARA', 'CONVT', 'BUS', and 'RDSTR' 'veh_body' as 'Other'\n",
    "model_data.loc[model_data['veh_body'].isin(['MCARA','CONVT','BUS','RDSTR']), 'veh_body'] = 'Other'"
   ]
  },
  {
   "cell_type": "code",
   "execution_count": 14,
   "id": "96ee8c41",
   "metadata": {},
   "outputs": [],
   "source": [
    "# Add a year and quarter variable for later consistency check purpose\n",
    "model_data['pol_year'] = model_data['pol_eff_dt'].dt.year\n",
    "model_data['pol_quarter'] = model_data['pol_eff_dt'].dt.quarter"
   ]
  },
  {
   "cell_type": "code",
   "execution_count": 15,
   "id": "90e1569d",
   "metadata": {},
   "outputs": [
    {
     "name": "stdout",
     "output_type": "stream",
     "text": [
      "veh_value cap at 99th percentile: 3.815\n",
      "traffic_index cap at 99th percentile: 125.635\n"
     ]
    }
   ],
   "source": [
    "# Cap 'veh_value' and 'traffic_index' at the 99th percentile for outlier control\n",
    "veh_value_cap = round(np.nanpercentile(model_data['veh_value'], 99), 3)\n",
    "traffic_index_cap = round(np.nanpercentile(model_data['traffic_index'], 99), 3)\n",
    "print(f\"veh_value cap at 99th percentile: {veh_value_cap}\")\n",
    "print(f\"traffic_index cap at 99th percentile: {traffic_index_cap}\")\n",
    "model_data['veh_value'] = model_data['veh_value'].clip(upper=veh_value_cap)\n",
    "model_data['traffic_index'] = model_data['traffic_index'].clip(upper=traffic_index_cap)"
   ]
  },
  {
   "cell_type": "code",
   "execution_count": 16,
   "id": "72e13d2b",
   "metadata": {},
   "outputs": [],
   "source": [
    "# Assume single vehicle policy and create a vehicle count variable\n",
    "model_data['veh_cnt'] = 1\n",
    "\n",
    "# Add policy year \n",
    "model_data['pol_year'] = 2017"
   ]
  },
  {
   "cell_type": "markdown",
   "id": "0b2235a1",
   "metadata": {},
   "source": [
    "### Carry the above steps to inference data "
   ]
  },
  {
   "cell_type": "code",
   "execution_count": 17,
   "id": "07d05b91",
   "metadata": {},
   "outputs": [
    {
     "data": {
      "application/vnd.jupyter.widget-view+json": {
       "model_id": "d07e6f234c06426395f6b8edfd29d27f",
       "version_major": 2,
       "version_minor": 0
      },
      "text/plain": [
       "Summarize dataset:   0%|          | 0/5 [00:00<?, ?it/s]"
      ]
     },
     "metadata": {},
     "output_type": "display_data"
    },
    {
     "name": "stderr",
     "output_type": "stream",
     "text": [
      "100%|██████████| 10/10 [00:00<00:00, 223.92it/s]\n"
     ]
    },
    {
     "data": {
      "application/vnd.jupyter.widget-view+json": {
       "model_id": "9749c134babd44b180f74317e4f2d0f0",
       "version_major": 2,
       "version_minor": 0
      },
      "text/plain": [
       "Generate report structure:   0%|          | 0/1 [00:00<?, ?it/s]"
      ]
     },
     "metadata": {},
     "output_type": "display_data"
    },
    {
     "data": {
      "application/vnd.jupyter.widget-view+json": {
       "model_id": "bf30e916bc8a435eb59545a7f8158be7",
       "version_major": 2,
       "version_minor": 0
      },
      "text/plain": [
       "Render HTML:   0%|          | 0/1 [00:00<?, ?it/s]"
      ]
     },
     "metadata": {},
     "output_type": "display_data"
    },
    {
     "data": {
      "application/vnd.jupyter.widget-view+json": {
       "model_id": "a069c7be7dac41d5a3f90d1abeb9a1f2",
       "version_major": 2,
       "version_minor": 0
      },
      "text/plain": [
       "Export report to file:   0%|          | 0/1 [00:00<?, ?it/s]"
      ]
     },
     "metadata": {},
     "output_type": "display_data"
    },
    {
     "name": "stdout",
     "output_type": "stream",
     "text": [
      "veh_value capped at 3.815\n",
      "traffic_index capped at 125.635\n"
     ]
    }
   ],
   "source": [
    "import sys\n",
    "sys.path.append(os.path.abspath(\"..\"))\n",
    "from analysis_tool_chest.data_etl import DataETL\n",
    "\n",
    "output_folder = \"../.local/analysis_pipeline/data_etl\"\n",
    "os.makedirs(output_folder, exist_ok=True)\n",
    "etl = DataETL(inference_data)\n",
    "etl.profile_analysis(output_folder, file_name=\"inference_data_profile_09162025.html\", title=\"Inference Data Profiling Report\")\n",
    "processed_inference_data = etl.transform(cap_dict={'veh_value': veh_value_cap, 'traffic_index': traffic_index_cap})"
   ]
  },
  {
   "cell_type": "markdown",
   "id": "0054d497",
   "metadata": {},
   "source": [
    "## Load Data Into Memory"
   ]
  },
  {
   "cell_type": "code",
   "execution_count": 18,
   "id": "8e84812b",
   "metadata": {},
   "outputs": [],
   "source": [
    "output_folder = \"../.local/analysis_pipeline/data_etl\"\n",
    "model_data.to_parquet(f\"{output_folder}/model_data_09162025.parquet\", index=False)\n",
    "processed_inference_data.to_parquet(f\"{output_folder}/inference_data_09162025.parquet\", index=False)"
   ]
  },
  {
   "cell_type": "code",
   "execution_count": null,
   "id": "7a614b5f",
   "metadata": {},
   "outputs": [],
   "source": []
  }
 ],
 "metadata": {
  "kernelspec": {
   "display_name": "data_science_bootcamp_lecture_1",
   "language": "python",
   "name": "python3"
  },
  "language_info": {
   "codemirror_mode": {
    "name": "ipython",
    "version": 3
   },
   "file_extension": ".py",
   "mimetype": "text/x-python",
   "name": "python",
   "nbconvert_exporter": "python",
   "pygments_lexer": "ipython3",
   "version": "3.10.18"
  }
 },
 "nbformat": 4,
 "nbformat_minor": 5
}
