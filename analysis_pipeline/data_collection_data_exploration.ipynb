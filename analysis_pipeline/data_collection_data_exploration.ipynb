{
 "cells": [
  {
   "cell_type": "code",
   "execution_count": 1,
   "id": "24bff0b6",
   "metadata": {},
   "outputs": [],
   "source": [
    "import pandas as pd\n",
    "import numpy as py\n",
    "import polars as pl\n",
    "import gdown\n",
    "import os"
   ]
  },
  {
   "cell_type": "code",
   "execution_count": 2,
   "id": "d4688ab9",
   "metadata": {},
   "outputs": [
    {
     "name": "stderr",
     "output_type": "stream",
     "text": [
      "Downloading...\n",
      "From: https://drive.google.com/uc?id=15DamSAHtEUsLn2qwnwmJFgD7Djk1MizJ\n",
      "To: c:\\teaching\\fall2025\\data_science_bootcamp_lecture_1\\.local\\auto_policies_2017.csv\n",
      "100%|██████████| 4.35M/4.35M [00:00<00:00, 18.1MB/s]\n"
     ]
    },
    {
     "data": {
      "text/plain": [
       "'c:/teaching/fall2025/data_science_bootcamp_lecture_1/.local/auto_policies_2017.csv'"
      ]
     },
     "execution_count": 2,
     "metadata": {},
     "output_type": "execute_result"
    }
   ],
   "source": [
    "## Onetime data downloading\n",
    "file_id = \"15DamSAHtEUsLn2qwnwmJFgD7Djk1MizJ\"\n",
    "data_folder = \"c:/teaching/fall2025/data_science_bootcamp_lecture_1\"\n",
    "gdown.download(\n",
    "    f\"https://drive.google.com/uc?id={file_id}\",\n",
    "    f'{data_folder}/.local/auto_policies_2017.csv', \n",
    "    quiet=False)"
   ]
  },
  {
   "cell_type": "code",
   "execution_count": 3,
   "id": "20c30d81",
   "metadata": {},
   "outputs": [],
   "source": [
    "## Collect input links\n",
    "data_folder = \"c:/teaching/fall2025/data_science_bootcamp_lecture_1\""
   ]
  },
  {
   "cell_type": "code",
   "execution_count": 4,
   "id": "8c73eb48",
   "metadata": {},
   "outputs": [
    {
     "name": "stdout",
     "output_type": "stream",
     "text": [
      "(60392, 15)\n"
     ]
    },
    {
     "data": {
      "text/html": [
       "<div>\n",
       "<style scoped>\n",
       "    .dataframe tbody tr th:only-of-type {\n",
       "        vertical-align: middle;\n",
       "    }\n",
       "\n",
       "    .dataframe tbody tr th {\n",
       "        vertical-align: top;\n",
       "    }\n",
       "\n",
       "    .dataframe thead th {\n",
       "        text-align: right;\n",
       "    }\n",
       "</style>\n",
       "<table border=\"1\" class=\"dataframe\">\n",
       "  <thead>\n",
       "    <tr style=\"text-align: right;\">\n",
       "      <th></th>\n",
       "      <th>pol_number</th>\n",
       "      <th>pol_eff_dt</th>\n",
       "      <th>gender</th>\n",
       "      <th>agecat</th>\n",
       "      <th>date_of_birth</th>\n",
       "      <th>credit_score</th>\n",
       "      <th>area</th>\n",
       "      <th>traffic_index</th>\n",
       "      <th>veh_age</th>\n",
       "      <th>veh_body</th>\n",
       "      <th>veh_value</th>\n",
       "      <th>claim_office</th>\n",
       "      <th>numclaims</th>\n",
       "      <th>claimcst0</th>\n",
       "      <th>annual_premium</th>\n",
       "    </tr>\n",
       "  </thead>\n",
       "  <tbody>\n",
       "    <tr>\n",
       "      <th>0</th>\n",
       "      <td>64080188</td>\n",
       "      <td>7/10/2017</td>\n",
       "      <td>M</td>\n",
       "      <td>2.0</td>\n",
       "      <td>1/4/1989</td>\n",
       "      <td>631.0</td>\n",
       "      <td>B</td>\n",
       "      <td>140.9</td>\n",
       "      <td>4</td>\n",
       "      <td>TRUCK</td>\n",
       "      <td>0.924</td>\n",
       "      <td>NaN</td>\n",
       "      <td>0</td>\n",
       "      <td>0.000000</td>\n",
       "      <td>716.53</td>\n",
       "    </tr>\n",
       "    <tr>\n",
       "      <th>1</th>\n",
       "      <td>18917133</td>\n",
       "      <td>7/31/2017</td>\n",
       "      <td>M</td>\n",
       "      <td>2.0</td>\n",
       "      <td>6/21/1985</td>\n",
       "      <td>531.0</td>\n",
       "      <td>C</td>\n",
       "      <td>136.5</td>\n",
       "      <td>3</td>\n",
       "      <td>HBACK</td>\n",
       "      <td>1.430</td>\n",
       "      <td>B</td>\n",
       "      <td>1</td>\n",
       "      <td>583.010876</td>\n",
       "      <td>716.53</td>\n",
       "    </tr>\n",
       "    <tr>\n",
       "      <th>2</th>\n",
       "      <td>82742606</td>\n",
       "      <td>2/1/2017</td>\n",
       "      <td>M</td>\n",
       "      <td>6.0</td>\n",
       "      <td>7/25/1942</td>\n",
       "      <td>838.0</td>\n",
       "      <td>D</td>\n",
       "      <td>88.8</td>\n",
       "      <td>3</td>\n",
       "      <td>SEDAN</td>\n",
       "      <td>1.100</td>\n",
       "      <td>D</td>\n",
       "      <td>1</td>\n",
       "      <td>159.375757</td>\n",
       "      <td>716.53</td>\n",
       "    </tr>\n",
       "    <tr>\n",
       "      <th>3</th>\n",
       "      <td>43601997</td>\n",
       "      <td>10/17/2017</td>\n",
       "      <td>M</td>\n",
       "      <td>5.0</td>\n",
       "      <td>6/8/1959</td>\n",
       "      <td>835.0</td>\n",
       "      <td>E</td>\n",
       "      <td>NaN</td>\n",
       "      <td>2</td>\n",
       "      <td>SEDAN</td>\n",
       "      <td>2.090</td>\n",
       "      <td>NaN</td>\n",
       "      <td>0</td>\n",
       "      <td>0.000000</td>\n",
       "      <td>716.53</td>\n",
       "    </tr>\n",
       "    <tr>\n",
       "      <th>4</th>\n",
       "      <td>58746861</td>\n",
       "      <td>4/13/2017</td>\n",
       "      <td>F</td>\n",
       "      <td>4.0</td>\n",
       "      <td>5/16/1967</td>\n",
       "      <td>748.0</td>\n",
       "      <td>C</td>\n",
       "      <td>123.0</td>\n",
       "      <td>3</td>\n",
       "      <td>HBACK</td>\n",
       "      <td>0.803</td>\n",
       "      <td>C</td>\n",
       "      <td>1</td>\n",
       "      <td>143.555642</td>\n",
       "      <td>716.53</td>\n",
       "    </tr>\n",
       "  </tbody>\n",
       "</table>\n",
       "</div>"
      ],
      "text/plain": [
       "   pol_number  pol_eff_dt gender  agecat date_of_birth  credit_score area  \\\n",
       "0    64080188   7/10/2017      M     2.0      1/4/1989         631.0    B   \n",
       "1    18917133   7/31/2017      M     2.0     6/21/1985         531.0    C   \n",
       "2    82742606    2/1/2017      M     6.0     7/25/1942         838.0    D   \n",
       "3    43601997  10/17/2017      M     5.0      6/8/1959         835.0    E   \n",
       "4    58746861   4/13/2017      F     4.0     5/16/1967         748.0    C   \n",
       "\n",
       "   traffic_index  veh_age veh_body  veh_value claim_office  numclaims  \\\n",
       "0          140.9        4    TRUCK      0.924          NaN          0   \n",
       "1          136.5        3    HBACK      1.430            B          1   \n",
       "2           88.8        3    SEDAN      1.100            D          1   \n",
       "3            NaN        2    SEDAN      2.090          NaN          0   \n",
       "4          123.0        3    HBACK      0.803            C          1   \n",
       "\n",
       "    claimcst0  annual_premium  \n",
       "0    0.000000          716.53  \n",
       "1  583.010876          716.53  \n",
       "2  159.375757          716.53  \n",
       "3    0.000000          716.53  \n",
       "4  143.555642          716.53  "
      ]
     },
     "execution_count": 4,
     "metadata": {},
     "output_type": "execute_result"
    }
   ],
   "source": [
    "data = pd.read_csv(f'{data_folder}/.local/auto_policies_2017.csv')\n",
    "print( data.shape )\n",
    "data.head(5)"
   ]
  },
  {
   "cell_type": "code",
   "execution_count": null,
   "id": "32d93f72",
   "metadata": {},
   "outputs": [],
   "source": []
  }
 ],
 "metadata": {
  "kernelspec": {
   "display_name": "data_science_bootcamp_lecture_1",
   "language": "python",
   "name": "python3"
  },
  "language_info": {
   "codemirror_mode": {
    "name": "ipython",
    "version": 3
   },
   "file_extension": ".py",
   "mimetype": "text/x-python",
   "name": "python",
   "nbconvert_exporter": "python",
   "pygments_lexer": "ipython3",
   "version": "3.13.5"
  }
 },
 "nbformat": 4,
 "nbformat_minor": 5
}
