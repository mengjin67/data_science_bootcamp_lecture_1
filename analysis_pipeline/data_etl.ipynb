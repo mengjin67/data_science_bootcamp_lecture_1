{
 "cells": [
  {
   "cell_type": "markdown",
   "id": "0c7f73c5",
   "metadata": {},
   "source": [
    "# Data ETL\n",
    "> ETL - Extract, Transform, Load: Gather raw data from various sources, clean and consolidate it, and then load it into a single centralized destination\n",
    "> - Extract data from various sources (databases, files, APIs, etc.)\n",
    "> - Transform the data by cleaning, formatting, or combining it as needed\n",
    "> - Load the processed data into a destination, such as a database, data warehouse, or analytics tool\n",
    "> ETL is a foundational step in data engineering and analytics pipelines, ensuring data is ready for analysis or further processing."
   ]
  },
  {
   "cell_type": "markdown",
   "id": "3df5fb88",
   "metadata": {},
   "source": [
    "## Initialize"
   ]
  },
  {
   "cell_type": "code",
   "execution_count": 1,
   "id": "24bff0b6",
   "metadata": {},
   "outputs": [],
   "source": [
    "import pandas as pd\n",
    "import numpy as np\n",
    "# import polars as pl\n",
    "import gdown\n",
    "import os\n",
    "import rich"
   ]
  },
  {
   "cell_type": "code",
   "execution_count": 2,
   "id": "d4688ab9",
   "metadata": {},
   "outputs": [],
   "source": [
    "# ## Onetime data downloading\n",
    "# model_file_id = \"15DamSAHtEUsLn2qwnwmJFgD7Djk1MizJ\"\n",
    "# data_folder = \"c:/teaching/fall2025/data_science_bootcamp_lecture_1\"\n",
    "# gdown.download(\n",
    "#     f\"https://drive.google.com/uc?id={model_file_id}\",\n",
    "#     f'{data_folder}/.local/auto_policies_2017.csv', \n",
    "#     quiet=False)\n",
    "# inference_file_id = \"1ZppcSp8WMinV3iUdNUDapfDg3bMEqMat\"\n",
    "# gdown.download(\n",
    "#     f\"https://drive.google.com/uc?id={inference_file_id}\",\n",
    "#     f'{data_folder}/.local/auto_potential_customers_2018.csv', \n",
    "#     quiet=False)"
   ]
  },
  {
   "cell_type": "markdown",
   "id": "8f177290",
   "metadata": {},
   "source": [
    "## Extract Data"
   ]
  },
  {
   "cell_type": "code",
   "execution_count": 3,
   "id": "20c30d81",
   "metadata": {},
   "outputs": [
    {
     "name": "stdout",
     "output_type": "stream",
     "text": [
      "(60392, 15)\n"
     ]
    },
    {
     "data": {
      "text/html": [
       "<div>\n",
       "<style scoped>\n",
       "    .dataframe tbody tr th:only-of-type {\n",
       "        vertical-align: middle;\n",
       "    }\n",
       "\n",
       "    .dataframe tbody tr th {\n",
       "        vertical-align: top;\n",
       "    }\n",
       "\n",
       "    .dataframe thead th {\n",
       "        text-align: right;\n",
       "    }\n",
       "</style>\n",
       "<table border=\"1\" class=\"dataframe\">\n",
       "  <thead>\n",
       "    <tr style=\"text-align: right;\">\n",
       "      <th></th>\n",
       "      <th>pol_number</th>\n",
       "      <th>pol_eff_dt</th>\n",
       "      <th>gender</th>\n",
       "      <th>agecat</th>\n",
       "      <th>date_of_birth</th>\n",
       "      <th>credit_score</th>\n",
       "      <th>area</th>\n",
       "      <th>traffic_index</th>\n",
       "      <th>veh_age</th>\n",
       "      <th>veh_body</th>\n",
       "      <th>veh_value</th>\n",
       "      <th>claim_office</th>\n",
       "      <th>numclaims</th>\n",
       "      <th>claimcst0</th>\n",
       "      <th>annual_premium</th>\n",
       "    </tr>\n",
       "  </thead>\n",
       "  <tbody>\n",
       "    <tr>\n",
       "      <th>0</th>\n",
       "      <td>64080188</td>\n",
       "      <td>7/10/2017</td>\n",
       "      <td>M</td>\n",
       "      <td>2.0</td>\n",
       "      <td>1/4/1989</td>\n",
       "      <td>631.0</td>\n",
       "      <td>B</td>\n",
       "      <td>140.9</td>\n",
       "      <td>4</td>\n",
       "      <td>TRUCK</td>\n",
       "      <td>0.924</td>\n",
       "      <td>NaN</td>\n",
       "      <td>0</td>\n",
       "      <td>0.000000</td>\n",
       "      <td>716.53</td>\n",
       "    </tr>\n",
       "    <tr>\n",
       "      <th>1</th>\n",
       "      <td>18917133</td>\n",
       "      <td>7/31/2017</td>\n",
       "      <td>M</td>\n",
       "      <td>2.0</td>\n",
       "      <td>6/21/1985</td>\n",
       "      <td>531.0</td>\n",
       "      <td>C</td>\n",
       "      <td>136.5</td>\n",
       "      <td>3</td>\n",
       "      <td>HBACK</td>\n",
       "      <td>1.430</td>\n",
       "      <td>B</td>\n",
       "      <td>1</td>\n",
       "      <td>583.010876</td>\n",
       "      <td>716.53</td>\n",
       "    </tr>\n",
       "    <tr>\n",
       "      <th>2</th>\n",
       "      <td>82742606</td>\n",
       "      <td>2/1/2017</td>\n",
       "      <td>M</td>\n",
       "      <td>6.0</td>\n",
       "      <td>7/25/1942</td>\n",
       "      <td>838.0</td>\n",
       "      <td>D</td>\n",
       "      <td>88.8</td>\n",
       "      <td>3</td>\n",
       "      <td>SEDAN</td>\n",
       "      <td>1.100</td>\n",
       "      <td>D</td>\n",
       "      <td>1</td>\n",
       "      <td>159.375757</td>\n",
       "      <td>716.53</td>\n",
       "    </tr>\n",
       "    <tr>\n",
       "      <th>3</th>\n",
       "      <td>43601997</td>\n",
       "      <td>10/17/2017</td>\n",
       "      <td>M</td>\n",
       "      <td>5.0</td>\n",
       "      <td>6/8/1959</td>\n",
       "      <td>835.0</td>\n",
       "      <td>E</td>\n",
       "      <td>NaN</td>\n",
       "      <td>2</td>\n",
       "      <td>SEDAN</td>\n",
       "      <td>2.090</td>\n",
       "      <td>NaN</td>\n",
       "      <td>0</td>\n",
       "      <td>0.000000</td>\n",
       "      <td>716.53</td>\n",
       "    </tr>\n",
       "    <tr>\n",
       "      <th>4</th>\n",
       "      <td>58746861</td>\n",
       "      <td>4/13/2017</td>\n",
       "      <td>F</td>\n",
       "      <td>4.0</td>\n",
       "      <td>5/16/1967</td>\n",
       "      <td>748.0</td>\n",
       "      <td>C</td>\n",
       "      <td>123.0</td>\n",
       "      <td>3</td>\n",
       "      <td>HBACK</td>\n",
       "      <td>0.803</td>\n",
       "      <td>C</td>\n",
       "      <td>1</td>\n",
       "      <td>143.555642</td>\n",
       "      <td>716.53</td>\n",
       "    </tr>\n",
       "  </tbody>\n",
       "</table>\n",
       "</div>"
      ],
      "text/plain": [
       "   pol_number  pol_eff_dt gender  agecat date_of_birth  credit_score area  \\\n",
       "0    64080188   7/10/2017      M     2.0      1/4/1989         631.0    B   \n",
       "1    18917133   7/31/2017      M     2.0     6/21/1985         531.0    C   \n",
       "2    82742606    2/1/2017      M     6.0     7/25/1942         838.0    D   \n",
       "3    43601997  10/17/2017      M     5.0      6/8/1959         835.0    E   \n",
       "4    58746861   4/13/2017      F     4.0     5/16/1967         748.0    C   \n",
       "\n",
       "   traffic_index  veh_age veh_body  veh_value claim_office  numclaims  \\\n",
       "0          140.9        4    TRUCK      0.924          NaN          0   \n",
       "1          136.5        3    HBACK      1.430            B          1   \n",
       "2           88.8        3    SEDAN      1.100            D          1   \n",
       "3            NaN        2    SEDAN      2.090          NaN          0   \n",
       "4          123.0        3    HBACK      0.803            C          1   \n",
       "\n",
       "    claimcst0  annual_premium  \n",
       "0    0.000000          716.53  \n",
       "1  583.010876          716.53  \n",
       "2  159.375757          716.53  \n",
       "3    0.000000          716.53  \n",
       "4  143.555642          716.53  "
      ]
     },
     "execution_count": 3,
     "metadata": {},
     "output_type": "execute_result"
    }
   ],
   "source": [
    "data_folder = \"c:/teaching/fall2025/data_science_bootcamp_lecture_1\"\n",
    "model_data = pd.read_csv(f'{data_folder}/.local/auto_policies_2017.csv')\n",
    "print( model_data.shape )\n",
    "model_data.head(5)"
   ]
  },
  {
   "cell_type": "code",
   "execution_count": 4,
   "id": "a2e22756",
   "metadata": {},
   "outputs": [
    {
     "name": "stdout",
     "output_type": "stream",
     "text": [
      "(7464, 10)\n"
     ]
    },
    {
     "data": {
      "text/html": [
       "<div>\n",
       "<style scoped>\n",
       "    .dataframe tbody tr th:only-of-type {\n",
       "        vertical-align: middle;\n",
       "    }\n",
       "\n",
       "    .dataframe tbody tr th {\n",
       "        vertical-align: top;\n",
       "    }\n",
       "\n",
       "    .dataframe thead th {\n",
       "        text-align: right;\n",
       "    }\n",
       "</style>\n",
       "<table border=\"1\" class=\"dataframe\">\n",
       "  <thead>\n",
       "    <tr style=\"text-align: right;\">\n",
       "      <th></th>\n",
       "      <th>quote_number</th>\n",
       "      <th>gender</th>\n",
       "      <th>agecat</th>\n",
       "      <th>date_of_birth</th>\n",
       "      <th>credit_score</th>\n",
       "      <th>area</th>\n",
       "      <th>traffic_index</th>\n",
       "      <th>veh_age</th>\n",
       "      <th>veh_body</th>\n",
       "      <th>veh_value</th>\n",
       "    </tr>\n",
       "  </thead>\n",
       "  <tbody>\n",
       "    <tr>\n",
       "      <th>0</th>\n",
       "      <td>29323463</td>\n",
       "      <td>F</td>\n",
       "      <td>4.0</td>\n",
       "      <td>4/14/1968</td>\n",
       "      <td>750.0</td>\n",
       "      <td>C</td>\n",
       "      <td>124.5</td>\n",
       "      <td>2</td>\n",
       "      <td>HBACK</td>\n",
       "      <td>1.100</td>\n",
       "    </tr>\n",
       "    <tr>\n",
       "      <th>1</th>\n",
       "      <td>16732441</td>\n",
       "      <td>M</td>\n",
       "      <td>2.0</td>\n",
       "      <td>10/4/1984</td>\n",
       "      <td>567.0</td>\n",
       "      <td>F</td>\n",
       "      <td>NaN</td>\n",
       "      <td>3</td>\n",
       "      <td>STNWG</td>\n",
       "      <td>2.079</td>\n",
       "    </tr>\n",
       "    <tr>\n",
       "      <th>2</th>\n",
       "      <td>68744228</td>\n",
       "      <td>M</td>\n",
       "      <td>4.0</td>\n",
       "      <td>11/30/1962</td>\n",
       "      <td>378.0</td>\n",
       "      <td>D</td>\n",
       "      <td>111.4</td>\n",
       "      <td>3</td>\n",
       "      <td>HDTOP</td>\n",
       "      <td>2.354</td>\n",
       "    </tr>\n",
       "    <tr>\n",
       "      <th>3</th>\n",
       "      <td>30875047</td>\n",
       "      <td>F</td>\n",
       "      <td>3.0</td>\n",
       "      <td>5/17/1973</td>\n",
       "      <td>807.0</td>\n",
       "      <td>E</td>\n",
       "      <td>NaN</td>\n",
       "      <td>4</td>\n",
       "      <td>UTE</td>\n",
       "      <td>1.969</td>\n",
       "    </tr>\n",
       "    <tr>\n",
       "      <th>4</th>\n",
       "      <td>37049210</td>\n",
       "      <td>M</td>\n",
       "      <td>6.0</td>\n",
       "      <td>10/2/1945</td>\n",
       "      <td>844.0</td>\n",
       "      <td>C</td>\n",
       "      <td>111.0</td>\n",
       "      <td>1</td>\n",
       "      <td>HBACK</td>\n",
       "      <td>1.969</td>\n",
       "    </tr>\n",
       "  </tbody>\n",
       "</table>\n",
       "</div>"
      ],
      "text/plain": [
       "   quote_number gender  agecat date_of_birth  credit_score area  \\\n",
       "0      29323463      F     4.0     4/14/1968         750.0    C   \n",
       "1      16732441      M     2.0     10/4/1984         567.0    F   \n",
       "2      68744228      M     4.0    11/30/1962         378.0    D   \n",
       "3      30875047      F     3.0     5/17/1973         807.0    E   \n",
       "4      37049210      M     6.0     10/2/1945         844.0    C   \n",
       "\n",
       "   traffic_index  veh_age veh_body  veh_value  \n",
       "0          124.5        2    HBACK      1.100  \n",
       "1            NaN        3    STNWG      2.079  \n",
       "2          111.4        3    HDTOP      2.354  \n",
       "3            NaN        4      UTE      1.969  \n",
       "4          111.0        1    HBACK      1.969  "
      ]
     },
     "execution_count": 4,
     "metadata": {},
     "output_type": "execute_result"
    }
   ],
   "source": [
    "inference_data = pd.read_csv(f'{data_folder}/.local/auto_potential_customers_2018.csv')\n",
    "print( inference_data.shape )\n",
    "inference_data.head(5)"
   ]
  },
  {
   "cell_type": "markdown",
   "id": "32d93f72",
   "metadata": {},
   "source": [
    "## Transform Data\n",
    "### Visualize data"
   ]
  },
  {
   "cell_type": "code",
   "execution_count": 5,
   "id": "f91f44f0",
   "metadata": {},
   "outputs": [],
   "source": [
    "output_folder = \"../.local/analysis_pipeline/data_etl\"\n",
    "os.makedirs(output_folder, exist_ok=True)"
   ]
  },
  {
   "cell_type": "code",
   "execution_count": 6,
   "id": "fce89825",
   "metadata": {},
   "outputs": [
    {
     "data": {
      "text/html": [
       "\n",
       "            <div>\n",
       "                <ins><a href=\"https://ydata.ai/register\">Upgrade to ydata-sdk</a></ins>\n",
       "                <p>\n",
       "                    Improve your data and profiling with ydata-sdk, featuring data quality scoring, redundancy detection, outlier identification, text validation, and synthetic data generation.\n",
       "                </p>\n",
       "            </div>\n",
       "            "
      ],
      "text/plain": [
       "<IPython.core.display.HTML object>"
      ]
     },
     "metadata": {},
     "output_type": "display_data"
    }
   ],
   "source": [
    "from ydata_profiling import ProfileReport \n",
    "\n",
    "model_data_profile = ProfileReport(model_data, title=\"Model Data Profiling Report\")"
   ]
  },
  {
   "cell_type": "code",
   "execution_count": 7,
   "id": "a2b20dbf",
   "metadata": {},
   "outputs": [
    {
     "data": {
      "application/vnd.jupyter.widget-view+json": {
       "model_id": "9cd9df67dad34444ac3e376e0943725f",
       "version_major": 2,
       "version_minor": 0
      },
      "text/plain": [
       "Summarize dataset:   0%|          | 0/5 [00:00<?, ?it/s]"
      ]
     },
     "metadata": {},
     "output_type": "display_data"
    },
    {
     "name": "stderr",
     "output_type": "stream",
     "text": [
      "100%|██████████| 15/15 [00:00<00:00, 25.07it/s]\n"
     ]
    },
    {
     "data": {
      "application/vnd.jupyter.widget-view+json": {
       "model_id": "12215020ff034752808ee80220fff8e0",
       "version_major": 2,
       "version_minor": 0
      },
      "text/plain": [
       "Generate report structure:   0%|          | 0/1 [00:00<?, ?it/s]"
      ]
     },
     "metadata": {},
     "output_type": "display_data"
    },
    {
     "data": {
      "application/vnd.jupyter.widget-view+json": {
       "model_id": "047fde9940fc4f17959dd6d2235f4b55",
       "version_major": 2,
       "version_minor": 0
      },
      "text/plain": [
       "Render HTML:   0%|          | 0/1 [00:00<?, ?it/s]"
      ]
     },
     "metadata": {},
     "output_type": "display_data"
    },
    {
     "data": {
      "application/vnd.jupyter.widget-view+json": {
       "model_id": "0e3f93fe64934ae491fc2081090dbfc8",
       "version_major": 2,
       "version_minor": 0
      },
      "text/plain": [
       "Export report to file:   0%|          | 0/1 [00:00<?, ?it/s]"
      ]
     },
     "metadata": {},
     "output_type": "display_data"
    }
   ],
   "source": [
    "# model_data_profile.to_notebook_iframe()\n",
    "model_data_profile.to_file(f\"{output_folder}/model_data_profile.html\") "
   ]
  },
  {
   "cell_type": "markdown",
   "id": "94a292f6",
   "metadata": {},
   "source": [
    "### Clean data"
   ]
  },
  {
   "cell_type": "code",
   "execution_count": 8,
   "id": "e0c8e78d",
   "metadata": {},
   "outputs": [
    {
     "name": "stdout",
     "output_type": "stream",
     "text": [
      "<class 'pandas.core.frame.DataFrame'>\n",
      "RangeIndex: 60392 entries, 0 to 60391\n",
      "Data columns (total 15 columns):\n",
      " #   Column          Non-Null Count  Dtype  \n",
      "---  ------          --------------  -----  \n",
      " 0   pol_number      60392 non-null  int64  \n",
      " 1   pol_eff_dt      60392 non-null  object \n",
      " 2   gender          60392 non-null  object \n",
      " 3   agecat          55561 non-null  float64\n",
      " 4   date_of_birth   60392 non-null  object \n",
      " 5   credit_score    57591 non-null  float64\n",
      " 6   area            60392 non-null  object \n",
      " 7   traffic_index   56889 non-null  float64\n",
      " 8   veh_age         60392 non-null  int64  \n",
      " 9   veh_body        60392 non-null  object \n",
      " 10  veh_value       60392 non-null  float64\n",
      " 11  claim_office    10030 non-null  object \n",
      " 12  numclaims       60392 non-null  int64  \n",
      " 13  claimcst0       60392 non-null  float64\n",
      " 14  annual_premium  60392 non-null  float64\n",
      "dtypes: float64(6), int64(3), object(6)\n",
      "memory usage: 6.9+ MB\n"
     ]
    },
    {
     "data": {
      "text/html": [
       "<pre style=\"white-space:pre;overflow-x:auto;line-height:normal;font-family:Menlo,'DejaVu Sans Mono',consolas,'Courier New',monospace\"><span style=\"color: #800080; text-decoration-color: #800080; font-style: italic\">None</span>\n",
       "</pre>\n"
      ],
      "text/plain": [
       "\u001b[3;35mNone\u001b[0m\n"
      ]
     },
     "metadata": {},
     "output_type": "display_data"
    }
   ],
   "source": [
    "## Show column information for abnormal checking purpose\n",
    "rich.print( model_data.info() )"
   ]
  },
  {
   "cell_type": "code",
   "execution_count": 9,
   "id": "f9e71799",
   "metadata": {},
   "outputs": [],
   "source": [
    "## Format data into correct types\n",
    "# Convert 'date_of_birth' to datetime, coercing errors to NaT for invalid formats\n",
    "model_data['pol_eff_dt'] = pd.to_datetime(model_data['pol_eff_dt'], format='%m/%d/%Y', errors='coerce')\n",
    "model_data['date_of_birth'] = pd.to_datetime(model_data['date_of_birth'], format='%m/%d/%Y', errors='coerce')"
   ]
  },
  {
   "cell_type": "code",
   "execution_count": 10,
   "id": "95610a76",
   "metadata": {},
   "outputs": [
    {
     "data": {
      "text/html": [
       "<pre style=\"white-space:pre;overflow-x:auto;line-height:normal;font-family:Menlo,'DejaVu Sans Mono',consolas,'Courier New',monospace\">                       date_of_birth\n",
       "count                           <span style=\"color: #008080; text-decoration-color: #008080; font-weight: bold\">4831</span>\n",
       "mean   <span style=\"color: #008080; text-decoration-color: #008080; font-weight: bold\">1970</span>-<span style=\"color: #008080; text-decoration-color: #008080; font-weight: bold\">01</span>-<span style=\"color: #008080; text-decoration-color: #008080; font-weight: bold\">19</span> <span style=\"color: #00ff00; text-decoration-color: #00ff00; font-weight: bold\">17:50:05</span>.<span style=\"color: #008080; text-decoration-color: #008080; font-weight: bold\">340509211</span>\n",
       "min              <span style=\"color: #008080; text-decoration-color: #008080; font-weight: bold\">1923</span>-<span style=\"color: #008080; text-decoration-color: #008080; font-weight: bold\">05</span>-<span style=\"color: #008080; text-decoration-color: #008080; font-weight: bold\">29</span> <span style=\"color: #00ff00; text-decoration-color: #00ff00; font-weight: bold\">00:00:00</span>\n",
       "<span style=\"color: #008080; text-decoration-color: #008080; font-weight: bold\">25</span>%              <span style=\"color: #008080; text-decoration-color: #008080; font-weight: bold\">1960</span>-<span style=\"color: #008080; text-decoration-color: #008080; font-weight: bold\">02</span>-<span style=\"color: #008080; text-decoration-color: #008080; font-weight: bold\">16</span> <span style=\"color: #00ff00; text-decoration-color: #00ff00; font-weight: bold\">12:00:00</span>\n",
       "<span style=\"color: #008080; text-decoration-color: #008080; font-weight: bold\">50</span>%              <span style=\"color: #008080; text-decoration-color: #008080; font-weight: bold\">1970</span>-<span style=\"color: #008080; text-decoration-color: #008080; font-weight: bold\">09</span>-<span style=\"color: #008080; text-decoration-color: #008080; font-weight: bold\">08</span> <span style=\"color: #00ff00; text-decoration-color: #00ff00; font-weight: bold\">00:00:00</span>\n",
       "<span style=\"color: #008080; text-decoration-color: #008080; font-weight: bold\">75</span>%              <span style=\"color: #008080; text-decoration-color: #008080; font-weight: bold\">1981</span>-<span style=\"color: #008080; text-decoration-color: #008080; font-weight: bold\">08</span>-<span style=\"color: #008080; text-decoration-color: #008080; font-weight: bold\">26</span> <span style=\"color: #00ff00; text-decoration-color: #00ff00; font-weight: bold\">12:00:00</span>\n",
       "max              <span style=\"color: #008080; text-decoration-color: #008080; font-weight: bold\">1999</span>-<span style=\"color: #008080; text-decoration-color: #008080; font-weight: bold\">12</span>-<span style=\"color: #008080; text-decoration-color: #008080; font-weight: bold\">14</span> <span style=\"color: #00ff00; text-decoration-color: #00ff00; font-weight: bold\">00:00:00</span>\n",
       "</pre>\n"
      ],
      "text/plain": [
       "                       date_of_birth\n",
       "count                           \u001b[1;36m4831\u001b[0m\n",
       "mean   \u001b[1;36m1970\u001b[0m-\u001b[1;36m01\u001b[0m-\u001b[1;36m19\u001b[0m \u001b[1;92m17:50:05\u001b[0m.\u001b[1;36m340509211\u001b[0m\n",
       "min              \u001b[1;36m1923\u001b[0m-\u001b[1;36m05\u001b[0m-\u001b[1;36m29\u001b[0m \u001b[1;92m00:00:00\u001b[0m\n",
       "\u001b[1;36m25\u001b[0m%              \u001b[1;36m1960\u001b[0m-\u001b[1;36m02\u001b[0m-\u001b[1;36m16\u001b[0m \u001b[1;92m12:00:00\u001b[0m\n",
       "\u001b[1;36m50\u001b[0m%              \u001b[1;36m1970\u001b[0m-\u001b[1;36m09\u001b[0m-\u001b[1;36m08\u001b[0m \u001b[1;92m00:00:00\u001b[0m\n",
       "\u001b[1;36m75\u001b[0m%              \u001b[1;36m1981\u001b[0m-\u001b[1;36m08\u001b[0m-\u001b[1;36m26\u001b[0m \u001b[1;92m12:00:00\u001b[0m\n",
       "max              \u001b[1;36m1999\u001b[0m-\u001b[1;36m12\u001b[0m-\u001b[1;36m14\u001b[0m \u001b[1;92m00:00:00\u001b[0m\n"
      ]
     },
     "metadata": {},
     "output_type": "display_data"
    },
    {
     "data": {
      "text/html": [
       "<pre style=\"white-space:pre;overflow-x:auto;line-height:normal;font-family:Menlo,'DejaVu Sans Mono',consolas,'Courier New',monospace\">                       date_of_birth\n",
       "count                           <span style=\"color: #008080; text-decoration-color: #008080; font-weight: bold\">4685</span>\n",
       "mean   <span style=\"color: #008080; text-decoration-color: #008080; font-weight: bold\">1995</span>-<span style=\"color: #008080; text-decoration-color: #008080; font-weight: bold\">01</span>-<span style=\"color: #008080; text-decoration-color: #008080; font-weight: bold\">15</span> <span style=\"color: #00ff00; text-decoration-color: #00ff00; font-weight: bold\">14:30:27</span>.<span style=\"color: #008080; text-decoration-color: #008080; font-weight: bold\">278548608</span>\n",
       "min              <span style=\"color: #008080; text-decoration-color: #008080; font-weight: bold\">1990</span>-<span style=\"color: #008080; text-decoration-color: #008080; font-weight: bold\">01</span>-<span style=\"color: #008080; text-decoration-color: #008080; font-weight: bold\">01</span> <span style=\"color: #00ff00; text-decoration-color: #00ff00; font-weight: bold\">00:00:00</span>\n",
       "<span style=\"color: #008080; text-decoration-color: #008080; font-weight: bold\">25</span>%              <span style=\"color: #008080; text-decoration-color: #008080; font-weight: bold\">1992</span>-<span style=\"color: #008080; text-decoration-color: #008080; font-weight: bold\">07</span>-<span style=\"color: #008080; text-decoration-color: #008080; font-weight: bold\">09</span> <span style=\"color: #00ff00; text-decoration-color: #00ff00; font-weight: bold\">00:00:00</span>\n",
       "<span style=\"color: #008080; text-decoration-color: #008080; font-weight: bold\">50</span>%              <span style=\"color: #008080; text-decoration-color: #008080; font-weight: bold\">1995</span>-<span style=\"color: #008080; text-decoration-color: #008080; font-weight: bold\">01</span>-<span style=\"color: #008080; text-decoration-color: #008080; font-weight: bold\">12</span> <span style=\"color: #00ff00; text-decoration-color: #00ff00; font-weight: bold\">00:00:00</span>\n",
       "<span style=\"color: #008080; text-decoration-color: #008080; font-weight: bold\">75</span>%              <span style=\"color: #008080; text-decoration-color: #008080; font-weight: bold\">1997</span>-<span style=\"color: #008080; text-decoration-color: #008080; font-weight: bold\">07</span>-<span style=\"color: #008080; text-decoration-color: #008080; font-weight: bold\">22</span> <span style=\"color: #00ff00; text-decoration-color: #00ff00; font-weight: bold\">00:00:00</span>\n",
       "max              <span style=\"color: #008080; text-decoration-color: #008080; font-weight: bold\">1999</span>-<span style=\"color: #008080; text-decoration-color: #008080; font-weight: bold\">12</span>-<span style=\"color: #008080; text-decoration-color: #008080; font-weight: bold\">31</span> <span style=\"color: #00ff00; text-decoration-color: #00ff00; font-weight: bold\">00:00:00</span>\n",
       "</pre>\n"
      ],
      "text/plain": [
       "                       date_of_birth\n",
       "count                           \u001b[1;36m4685\u001b[0m\n",
       "mean   \u001b[1;36m1995\u001b[0m-\u001b[1;36m01\u001b[0m-\u001b[1;36m15\u001b[0m \u001b[1;92m14:30:27\u001b[0m.\u001b[1;36m278548608\u001b[0m\n",
       "min              \u001b[1;36m1990\u001b[0m-\u001b[1;36m01\u001b[0m-\u001b[1;36m01\u001b[0m \u001b[1;92m00:00:00\u001b[0m\n",
       "\u001b[1;36m25\u001b[0m%              \u001b[1;36m1992\u001b[0m-\u001b[1;36m07\u001b[0m-\u001b[1;36m09\u001b[0m \u001b[1;92m00:00:00\u001b[0m\n",
       "\u001b[1;36m50\u001b[0m%              \u001b[1;36m1995\u001b[0m-\u001b[1;36m01\u001b[0m-\u001b[1;36m12\u001b[0m \u001b[1;92m00:00:00\u001b[0m\n",
       "\u001b[1;36m75\u001b[0m%              \u001b[1;36m1997\u001b[0m-\u001b[1;36m07\u001b[0m-\u001b[1;36m22\u001b[0m \u001b[1;92m00:00:00\u001b[0m\n",
       "max              \u001b[1;36m1999\u001b[0m-\u001b[1;36m12\u001b[0m-\u001b[1;36m31\u001b[0m \u001b[1;92m00:00:00\u001b[0m\n"
      ]
     },
     "metadata": {},
     "output_type": "display_data"
    }
   ],
   "source": [
    "## Validate 'date_of_birth'\n",
    "# Show 'date_of_birth' for null 'agecat'\n",
    "rich.print( model_data.loc[model_data['agecat'].isnull(), ['date_of_birth']].describe() )\n",
    "# Find 'agecat' cutoff for each 'agecat'\n",
    "# Here, we are giving an example on 'agecat' = 1\n",
    "rich.print( model_data.loc[model_data['agecat'].isin([1]), ['date_of_birth']].describe() )"
   ]
  },
  {
   "cell_type": "code",
   "execution_count": 11,
   "id": "05eaf014",
   "metadata": {},
   "outputs": [],
   "source": [
    "## Correct 'date_of_birth'\n",
    "# Define bins and labels for age categories\n",
    "bins = [\n",
    "    pd.Timestamp('1900-01-01'), \n",
    "    pd.Timestamp('1950-01-01'), \n",
    "    pd.Timestamp('1960-01-01'),\n",
    "    pd.Timestamp('1970-01-01'), \n",
    "    pd.Timestamp('1980-01-01'), \n",
    "    pd.Timestamp('1990-01-01'), \n",
    "    pd.Timestamp.max \n",
    "    ]\n",
    "labels = [1, 2, 3, 4, 5, 6]\n",
    "# Use pd.cut to assign agecat2 based on date_of_birth\n",
    "model_data['agecat2'] = pd.cut(model_data['date_of_birth'], bins=bins, labels=labels, right=False)\n",
    "# Ensure float type for consistency\n",
    "model_data['agecat2'] = model_data['agecat2'].astype(float)  "
   ]
  },
  {
   "cell_type": "markdown",
   "id": "d0100275",
   "metadata": {},
   "source": [
    "### Consolidate Data"
   ]
  },
  {
   "cell_type": "code",
   "execution_count": 12,
   "id": "7aa7f88a",
   "metadata": {},
   "outputs": [
    {
     "data": {
      "text/html": [
       "<pre style=\"white-space:pre;overflow-x:auto;line-height:normal;font-family:Menlo,'DejaVu Sans Mono',consolas,'Courier New',monospace\">veh_body\n",
       "SEDAN    <span style=\"color: #008080; text-decoration-color: #008080; font-weight: bold\">19798</span>\n",
       "HBACK    <span style=\"color: #008080; text-decoration-color: #008080; font-weight: bold\">16793</span>\n",
       "STNWG    <span style=\"color: #008080; text-decoration-color: #008080; font-weight: bold\">14487</span>\n",
       "UTE       <span style=\"color: #008080; text-decoration-color: #008080; font-weight: bold\">4101</span>\n",
       "TRUCK     <span style=\"color: #008080; text-decoration-color: #008080; font-weight: bold\">1561</span>\n",
       "HDTOP     <span style=\"color: #008080; text-decoration-color: #008080; font-weight: bold\">1403</span>\n",
       "COUPE      <span style=\"color: #008080; text-decoration-color: #008080; font-weight: bold\">698</span>\n",
       "PANVN      <span style=\"color: #008080; text-decoration-color: #008080; font-weight: bold\">663</span>\n",
       "MIBUS      <span style=\"color: #008080; text-decoration-color: #008080; font-weight: bold\">639</span>\n",
       "MCARA      <span style=\"color: #008080; text-decoration-color: #008080; font-weight: bold\">111</span>\n",
       "CONVT       <span style=\"color: #008080; text-decoration-color: #008080; font-weight: bold\">74</span>\n",
       "BUS         <span style=\"color: #008080; text-decoration-color: #008080; font-weight: bold\">42</span>\n",
       "RDSTR       <span style=\"color: #008080; text-decoration-color: #008080; font-weight: bold\">22</span>\n",
       "Name: count, dtype: int64\n",
       "</pre>\n"
      ],
      "text/plain": [
       "veh_body\n",
       "SEDAN    \u001b[1;36m19798\u001b[0m\n",
       "HBACK    \u001b[1;36m16793\u001b[0m\n",
       "STNWG    \u001b[1;36m14487\u001b[0m\n",
       "UTE       \u001b[1;36m4101\u001b[0m\n",
       "TRUCK     \u001b[1;36m1561\u001b[0m\n",
       "HDTOP     \u001b[1;36m1403\u001b[0m\n",
       "COUPE      \u001b[1;36m698\u001b[0m\n",
       "PANVN      \u001b[1;36m663\u001b[0m\n",
       "MIBUS      \u001b[1;36m639\u001b[0m\n",
       "MCARA      \u001b[1;36m111\u001b[0m\n",
       "CONVT       \u001b[1;36m74\u001b[0m\n",
       "BUS         \u001b[1;36m42\u001b[0m\n",
       "RDSTR       \u001b[1;36m22\u001b[0m\n",
       "Name: count, dtype: int64\n"
      ]
     },
     "metadata": {},
     "output_type": "display_data"
    }
   ],
   "source": [
    "# Check category distribution of 'veh_body'\n",
    "rich.print( model_data['veh_body'].value_counts() )\n",
    "# Group 'MCARA', 'CONVT', 'BUS', and 'RDSTR' 'veh_body' as 'Other'\n",
    "model_data.loc[model_data['veh_body'].isin(['MCARA','CONVT','BUS','RDSTR']), 'veh_body'] = 'Other'"
   ]
  },
  {
   "cell_type": "code",
   "execution_count": 13,
   "id": "96ee8c41",
   "metadata": {},
   "outputs": [],
   "source": [
    "# Add a year and quarter variable for later consistency check purpose\n",
    "model_data['pol_year'] = model_data['pol_eff_dt'].dt.year\n",
    "model_data['pol_quarter'] = model_data['pol_eff_dt'].dt.quarter"
   ]
  },
  {
   "cell_type": "code",
   "execution_count": 14,
   "id": "90e1569d",
   "metadata": {},
   "outputs": [
    {
     "name": "stdout",
     "output_type": "stream",
     "text": [
      "veh_value cap at 99th percentile: 6.315\n",
      "traffic_index cap at 99th percentile: 160.0\n"
     ]
    }
   ],
   "source": [
    "# Cap 'veh_value' and 'traffic_index' at the 99th percentile for outlier control\n",
    "veh_value_cap = round(np.nanpercentile(model_data['veh_value'], 99), 3)\n",
    "traffic_index_cap = round(np.nanpercentile(model_data['traffic_index'], 99), 3)\n",
    "print(f\"veh_value cap at 99th percentile: {veh_value_cap}\")\n",
    "print(f\"traffic_index cap at 99th percentile: {traffic_index_cap}\")\n",
    "model_data['veh_value'] = model_data['veh_value'].clip(upper=veh_value_cap)\n",
    "model_data['traffic_index'] = model_data['traffic_index'].clip(upper=traffic_index_cap)"
   ]
  },
  {
   "cell_type": "code",
   "execution_count": 15,
   "id": "72e13d2b",
   "metadata": {},
   "outputs": [],
   "source": [
    "# Assume single vehicle policy and create a vehicle count variable\n",
    "model_data['veh_cnt'] = 1\n",
    "\n",
    "# Add policy year \n",
    "model_data['pol_year'] = 2017"
   ]
  },
  {
   "cell_type": "markdown",
   "id": "0b2235a1",
   "metadata": {},
   "source": [
    "### Carry the above steps to inference data "
   ]
  },
  {
   "cell_type": "code",
   "execution_count": null,
   "id": "07d05b91",
   "metadata": {},
   "outputs": [
    {
     "data": {
      "application/vnd.jupyter.widget-view+json": {
       "model_id": "63541d8326a8484d80a9294f62dd7a0f",
       "version_major": 2,
       "version_minor": 0
      },
      "text/plain": [
       "Summarize dataset:   0%|          | 0/5 [00:00<?, ?it/s]"
      ]
     },
     "metadata": {},
     "output_type": "display_data"
    },
    {
     "name": "stderr",
     "output_type": "stream",
     "text": [
      "100%|██████████| 10/10 [00:00<00:00, 149.25it/s]\n"
     ]
    },
    {
     "data": {
      "application/vnd.jupyter.widget-view+json": {
       "model_id": "1c65ec49720f431da13baddf0dbeb0a2",
       "version_major": 2,
       "version_minor": 0
      },
      "text/plain": [
       "Generate report structure:   0%|          | 0/1 [00:00<?, ?it/s]"
      ]
     },
     "metadata": {},
     "output_type": "display_data"
    },
    {
     "data": {
      "application/vnd.jupyter.widget-view+json": {
       "model_id": "b3ded98e440b435aa2e6797baecf26c3",
       "version_major": 2,
       "version_minor": 0
      },
      "text/plain": [
       "Render HTML:   0%|          | 0/1 [00:00<?, ?it/s]"
      ]
     },
     "metadata": {},
     "output_type": "display_data"
    },
    {
     "data": {
      "application/vnd.jupyter.widget-view+json": {
       "model_id": "f5d2b1304f814a96be624833b29f9a93",
       "version_major": 2,
       "version_minor": 0
      },
      "text/plain": [
       "Export report to file:   0%|          | 0/1 [00:00<?, ?it/s]"
      ]
     },
     "metadata": {},
     "output_type": "display_data"
    },
    {
     "name": "stdout",
     "output_type": "stream",
     "text": [
      "veh_value capped at 6.315\n",
      "traffic_index capped at 160.0\n"
     ]
    }
   ],
   "source": [
    "import sys\n",
    "sys.path.append(os.path.abspath(\"..\"))\n",
    "from analysis_tool_chest.data_etl import DataETL\n",
    "\n",
    "output_folder = \"../.local/analysis_pipeline/data_etl\"\n",
    "os.makedirs(output_folder, exist_ok=True)\n",
    "etl = DataETL(inference_data)\n",
    "etl.profile_analysis(output_folder, file_name=\"inference_data_profile.html\", title=\"Inference Data Profiling Report\")\n",
    "processed_inference_data = etl.transform(cap_dict={'veh_value': veh_value_cap, 'traffic_index': traffic_index_cap})"
   ]
  },
  {
   "cell_type": "markdown",
   "id": "0054d497",
   "metadata": {},
   "source": [
    "## Load Data Into Memory"
   ]
  },
  {
   "cell_type": "code",
   "execution_count": 18,
   "id": "8e84812b",
   "metadata": {},
   "outputs": [],
   "source": [
    "output_folder = \"../.local/analysis_pipeline/data_etl\"\n",
    "model_data.to_parquet(f\"{output_folder}/model_data.parquet\", index=False)\n",
    "processed_inference_data.to_parquet(f\"{output_folder}/inference_data.parquet\", index=False)"
   ]
  },
  {
   "cell_type": "code",
   "execution_count": null,
   "id": "7a614b5f",
   "metadata": {},
   "outputs": [],
   "source": []
  }
 ],
 "metadata": {
  "kernelspec": {
   "display_name": "data_science_bootcamp_lecture_1",
   "language": "python",
   "name": "python3"
  },
  "language_info": {
   "codemirror_mode": {
    "name": "ipython",
    "version": 3
   },
   "file_extension": ".py",
   "mimetype": "text/x-python",
   "name": "python",
   "nbconvert_exporter": "python",
   "pygments_lexer": "ipython3",
   "version": "3.10.18"
  }
 },
 "nbformat": 4,
 "nbformat_minor": 5
}
