{
 "cells": [
  {
   "cell_type": "markdown",
   "id": "0c7f73c5",
   "metadata": {},
   "source": [
    "# Data ETL\n",
    "ETL - Extract, Transform, Load: Gather raw data from various sources, clean and consolidate it, and then load it into a single centralized destination\n",
    "- Extract data from various sources (databases, files, APIs, etc.)\n",
    "- Transform the data by cleaning, formatting, or combining it as needed\n",
    "- Load the processed data into a destination, such as a database, data warehouse, or analytics tool\n",
    "ETL is a foundational step in data engineering and analytics pipelines, ensuring data is ready for analysis or further processing."
   ]
  },
  {
   "cell_type": "markdown",
   "id": "3df5fb88",
   "metadata": {},
   "source": [
    "## Initialize"
   ]
  },
  {
   "cell_type": "code",
   "execution_count": 1,
   "id": "24bff0b6",
   "metadata": {},
   "outputs": [],
   "source": [
    "import pandas as pd\n",
    "import numpy as np\n",
    "# import polars as pl\n",
    "import gdown\n",
    "import os\n",
    "import rich"
   ]
  },
  {
   "cell_type": "code",
   "execution_count": 2,
   "id": "2ec03c5f",
   "metadata": {},
   "outputs": [],
   "source": [
    "version_tag = \"dev\""
   ]
  },
  {
   "cell_type": "code",
   "execution_count": 3,
   "id": "d4688ab9",
   "metadata": {},
   "outputs": [],
   "source": [
    "# ## Onetime data downloading\n",
    "# model_file_id = \"15DamSAHtEUsLn2qwnwmJFgD7Djk1MizJ\"\n",
    "# data_folder = \"c:/teaching/fall2025/data_science_bootcamp_lecture_1\"\n",
    "# gdown.download(\n",
    "#     f\"https://drive.google.com/uc?id={model_file_id}\",\n",
    "#     f'{data_folder}/.local/auto_policies_2017.csv', \n",
    "#     quiet=False)\n",
    "# inference_file_id = \"1ZppcSp8WMinV3iUdNUDapfDg3bMEqMat\"\n",
    "# gdown.download(\n",
    "#     f\"https://drive.google.com/uc?id={inference_file_id}\",\n",
    "#     f'{data_folder}/.local/auto_potential_customers_2018.csv', \n",
    "#     quiet=False)"
   ]
  },
  {
   "cell_type": "markdown",
   "id": "8f177290",
   "metadata": {},
   "source": [
    "## Extract Data"
   ]
  },
  {
   "cell_type": "code",
   "execution_count": 4,
   "id": "20c30d81",
   "metadata": {},
   "outputs": [
    {
     "name": "stdout",
     "output_type": "stream",
     "text": [
      "(22619, 22)\n"
     ]
    },
    {
     "data": {
      "text/html": [
       "<div>\n",
       "<style scoped>\n",
       "    .dataframe tbody tr th:only-of-type {\n",
       "        vertical-align: middle;\n",
       "    }\n",
       "\n",
       "    .dataframe tbody tr th {\n",
       "        vertical-align: top;\n",
       "    }\n",
       "\n",
       "    .dataframe thead th {\n",
       "        text-align: right;\n",
       "    }\n",
       "</style>\n",
       "<table border=\"1\" class=\"dataframe\">\n",
       "  <thead>\n",
       "    <tr style=\"text-align: right;\">\n",
       "      <th></th>\n",
       "      <th>id</th>\n",
       "      <th>veh_value</th>\n",
       "      <th>exposure</th>\n",
       "      <th>veh_body</th>\n",
       "      <th>veh_age</th>\n",
       "      <th>gender</th>\n",
       "      <th>area</th>\n",
       "      <th>agecat</th>\n",
       "      <th>engine_type</th>\n",
       "      <th>max_power</th>\n",
       "      <th>...</th>\n",
       "      <th>marital_status</th>\n",
       "      <th>e_bill</th>\n",
       "      <th>time_of_week_driven</th>\n",
       "      <th>time_driven</th>\n",
       "      <th>trm_len</th>\n",
       "      <th>credit_score</th>\n",
       "      <th>high_education_ind</th>\n",
       "      <th>clm</th>\n",
       "      <th>numclaims</th>\n",
       "      <th>claimcst0</th>\n",
       "    </tr>\n",
       "  </thead>\n",
       "  <tbody>\n",
       "    <tr>\n",
       "      <th>0</th>\n",
       "      <td>1</td>\n",
       "      <td>0.77</td>\n",
       "      <td>0.444504</td>\n",
       "      <td>SEDAN</td>\n",
       "      <td>4</td>\n",
       "      <td>M</td>\n",
       "      <td>D</td>\n",
       "      <td>3</td>\n",
       "      <td>petrol</td>\n",
       "      <td>147</td>\n",
       "      <td>...</td>\n",
       "      <td>S</td>\n",
       "      <td>1</td>\n",
       "      <td>weekday</td>\n",
       "      <td>6pm - 12am</td>\n",
       "      <td>6</td>\n",
       "      <td>640.448137</td>\n",
       "      <td>1.0</td>\n",
       "      <td>0</td>\n",
       "      <td>0</td>\n",
       "      <td>0.0</td>\n",
       "    </tr>\n",
       "    <tr>\n",
       "      <th>1</th>\n",
       "      <td>2</td>\n",
       "      <td>4.45</td>\n",
       "      <td>0.562183</td>\n",
       "      <td>STNWG</td>\n",
       "      <td>1</td>\n",
       "      <td>M</td>\n",
       "      <td>A</td>\n",
       "      <td>3</td>\n",
       "      <td>petrol</td>\n",
       "      <td>158</td>\n",
       "      <td>...</td>\n",
       "      <td>S</td>\n",
       "      <td>1</td>\n",
       "      <td>weekday</td>\n",
       "      <td>6am - 12pm</td>\n",
       "      <td>12</td>\n",
       "      <td>683.749691</td>\n",
       "      <td>0.0</td>\n",
       "      <td>0</td>\n",
       "      <td>0</td>\n",
       "      <td>0.0</td>\n",
       "    </tr>\n",
       "    <tr>\n",
       "      <th>2</th>\n",
       "      <td>3</td>\n",
       "      <td>4.90</td>\n",
       "      <td>0.465244</td>\n",
       "      <td>STNWG</td>\n",
       "      <td>1</td>\n",
       "      <td>F</td>\n",
       "      <td>A</td>\n",
       "      <td>3</td>\n",
       "      <td>petrol</td>\n",
       "      <td>159</td>\n",
       "      <td>...</td>\n",
       "      <td>M</td>\n",
       "      <td>1</td>\n",
       "      <td>weekday</td>\n",
       "      <td>6pm - 12am</td>\n",
       "      <td>6</td>\n",
       "      <td>653.656117</td>\n",
       "      <td>1.0</td>\n",
       "      <td>0</td>\n",
       "      <td>0</td>\n",
       "      <td>0.0</td>\n",
       "    </tr>\n",
       "    <tr>\n",
       "      <th>3</th>\n",
       "      <td>4</td>\n",
       "      <td>0.48</td>\n",
       "      <td>0.271039</td>\n",
       "      <td>PANVN</td>\n",
       "      <td>4</td>\n",
       "      <td>M</td>\n",
       "      <td>A</td>\n",
       "      <td>4</td>\n",
       "      <td>petrol</td>\n",
       "      <td>80</td>\n",
       "      <td>...</td>\n",
       "      <td>S</td>\n",
       "      <td>1</td>\n",
       "      <td>weekday</td>\n",
       "      <td>12pm - 6pm</td>\n",
       "      <td>12</td>\n",
       "      <td>642.574671</td>\n",
       "      <td>0.0</td>\n",
       "      <td>0</td>\n",
       "      <td>0</td>\n",
       "      <td>0.0</td>\n",
       "    </tr>\n",
       "    <tr>\n",
       "      <th>4</th>\n",
       "      <td>5</td>\n",
       "      <td>0.85</td>\n",
       "      <td>0.141624</td>\n",
       "      <td>SEDAN</td>\n",
       "      <td>4</td>\n",
       "      <td>F</td>\n",
       "      <td>A</td>\n",
       "      <td>5</td>\n",
       "      <td>petrol</td>\n",
       "      <td>126</td>\n",
       "      <td>...</td>\n",
       "      <td>S</td>\n",
       "      <td>0</td>\n",
       "      <td>weekday</td>\n",
       "      <td>6am - 12pm</td>\n",
       "      <td>6</td>\n",
       "      <td>647.175035</td>\n",
       "      <td>0.0</td>\n",
       "      <td>0</td>\n",
       "      <td>0</td>\n",
       "      <td>0.0</td>\n",
       "    </tr>\n",
       "  </tbody>\n",
       "</table>\n",
       "<p>5 rows × 22 columns</p>\n",
       "</div>"
      ],
      "text/plain": [
       "   id  veh_value  exposure veh_body  veh_age gender area  agecat engine_type  \\\n",
       "0   1       0.77  0.444504    SEDAN        4      M    D       3      petrol   \n",
       "1   2       4.45  0.562183    STNWG        1      M    A       3      petrol   \n",
       "2   3       4.90  0.465244    STNWG        1      F    A       3      petrol   \n",
       "3   4       0.48  0.271039    PANVN        4      M    A       4      petrol   \n",
       "4   5       0.85  0.141624    SEDAN        4      F    A       5      petrol   \n",
       "\n",
       "   max_power  ...  marital_status e_bill time_of_week_driven  time_driven  \\\n",
       "0        147  ...               S      1             weekday   6pm - 12am   \n",
       "1        158  ...               S      1             weekday   6am - 12pm   \n",
       "2        159  ...               M      1             weekday   6pm - 12am   \n",
       "3         80  ...               S      1             weekday   12pm - 6pm   \n",
       "4        126  ...               S      0             weekday   6am - 12pm   \n",
       "\n",
       "  trm_len credit_score  high_education_ind  clm  numclaims  claimcst0  \n",
       "0       6   640.448137                 1.0    0          0        0.0  \n",
       "1      12   683.749691                 0.0    0          0        0.0  \n",
       "2       6   653.656117                 1.0    0          0        0.0  \n",
       "3      12   642.574671                 0.0    0          0        0.0  \n",
       "4       6   647.175035                 0.0    0          0        0.0  \n",
       "\n",
       "[5 rows x 22 columns]"
      ]
     },
     "execution_count": 4,
     "metadata": {},
     "output_type": "execute_result"
    }
   ],
   "source": [
    "data_folder = \"c:/teaching/fall2025/data_science_bootcamp_lecture_1\"\n",
    "# model_data = pd.read_csv(f'{data_folder}/.local/auto_policies_2017.csv')\n",
    "# model_data = pd.read_csv(f'{data_folder}/.local/synthetic_model_data.csv')\n",
    "model_data = pd.read_csv(f'{data_folder}/.local/auto_policies_model_data.csv')\n",
    "print( model_data.shape )\n",
    "model_data.head(5)"
   ]
  },
  {
   "cell_type": "code",
   "execution_count": 5,
   "id": "a2e22756",
   "metadata": {},
   "outputs": [
    {
     "name": "stdout",
     "output_type": "stream",
     "text": [
      "(22620, 19)\n"
     ]
    },
    {
     "data": {
      "text/html": [
       "<div>\n",
       "<style scoped>\n",
       "    .dataframe tbody tr th:only-of-type {\n",
       "        vertical-align: middle;\n",
       "    }\n",
       "\n",
       "    .dataframe tbody tr th {\n",
       "        vertical-align: top;\n",
       "    }\n",
       "\n",
       "    .dataframe thead th {\n",
       "        text-align: right;\n",
       "    }\n",
       "</style>\n",
       "<table border=\"1\" class=\"dataframe\">\n",
       "  <thead>\n",
       "    <tr style=\"text-align: right;\">\n",
       "      <th></th>\n",
       "      <th>id</th>\n",
       "      <th>veh_value</th>\n",
       "      <th>exposure</th>\n",
       "      <th>veh_body</th>\n",
       "      <th>veh_age</th>\n",
       "      <th>gender</th>\n",
       "      <th>area</th>\n",
       "      <th>agecat</th>\n",
       "      <th>engine_type</th>\n",
       "      <th>max_power</th>\n",
       "      <th>driving_history_score</th>\n",
       "      <th>veh_color</th>\n",
       "      <th>marital_status</th>\n",
       "      <th>e_bill</th>\n",
       "      <th>time_of_week_driven</th>\n",
       "      <th>time_driven</th>\n",
       "      <th>trm_len</th>\n",
       "      <th>credit_score</th>\n",
       "      <th>high_education_ind</th>\n",
       "    </tr>\n",
       "  </thead>\n",
       "  <tbody>\n",
       "    <tr>\n",
       "      <th>0</th>\n",
       "      <td>1</td>\n",
       "      <td>3.40</td>\n",
       "      <td>0.076279</td>\n",
       "      <td>STNWG</td>\n",
       "      <td>2</td>\n",
       "      <td>M</td>\n",
       "      <td>B</td>\n",
       "      <td>4</td>\n",
       "      <td>petrol</td>\n",
       "      <td>174</td>\n",
       "      <td>83</td>\n",
       "      <td>black</td>\n",
       "      <td>S</td>\n",
       "      <td>1</td>\n",
       "      <td>weekday</td>\n",
       "      <td>6pm - 12am</td>\n",
       "      <td>6</td>\n",
       "      <td>648.247594</td>\n",
       "      <td>0</td>\n",
       "    </tr>\n",
       "    <tr>\n",
       "      <th>1</th>\n",
       "      <td>2</td>\n",
       "      <td>2.55</td>\n",
       "      <td>0.093443</td>\n",
       "      <td>STNWG</td>\n",
       "      <td>2</td>\n",
       "      <td>F</td>\n",
       "      <td>A</td>\n",
       "      <td>3</td>\n",
       "      <td>petrol</td>\n",
       "      <td>181</td>\n",
       "      <td>65</td>\n",
       "      <td>yellow</td>\n",
       "      <td>M</td>\n",
       "      <td>0</td>\n",
       "      <td>weekday</td>\n",
       "      <td>12am - 6 am</td>\n",
       "      <td>12</td>\n",
       "      <td>637.752677</td>\n",
       "      <td>0</td>\n",
       "    </tr>\n",
       "    <tr>\n",
       "      <th>2</th>\n",
       "      <td>3</td>\n",
       "      <td>3.04</td>\n",
       "      <td>0.157762</td>\n",
       "      <td>STNWG</td>\n",
       "      <td>2</td>\n",
       "      <td>F</td>\n",
       "      <td>E</td>\n",
       "      <td>4</td>\n",
       "      <td>petrol</td>\n",
       "      <td>136</td>\n",
       "      <td>64</td>\n",
       "      <td>white</td>\n",
       "      <td>S</td>\n",
       "      <td>1</td>\n",
       "      <td>weekday</td>\n",
       "      <td>12pm - 6pm</td>\n",
       "      <td>12</td>\n",
       "      <td>661.483786</td>\n",
       "      <td>0</td>\n",
       "    </tr>\n",
       "    <tr>\n",
       "      <th>3</th>\n",
       "      <td>4</td>\n",
       "      <td>2.05</td>\n",
       "      <td>0.560735</td>\n",
       "      <td>MIBUS</td>\n",
       "      <td>4</td>\n",
       "      <td>M</td>\n",
       "      <td>C</td>\n",
       "      <td>6</td>\n",
       "      <td>dissel</td>\n",
       "      <td>164</td>\n",
       "      <td>82</td>\n",
       "      <td>gray</td>\n",
       "      <td>M</td>\n",
       "      <td>1</td>\n",
       "      <td>weekday</td>\n",
       "      <td>6am - 12pm</td>\n",
       "      <td>12</td>\n",
       "      <td>647.846365</td>\n",
       "      <td>0</td>\n",
       "    </tr>\n",
       "    <tr>\n",
       "      <th>4</th>\n",
       "      <td>5</td>\n",
       "      <td>1.93</td>\n",
       "      <td>0.258275</td>\n",
       "      <td>HBACK</td>\n",
       "      <td>2</td>\n",
       "      <td>M</td>\n",
       "      <td>C</td>\n",
       "      <td>4</td>\n",
       "      <td>dissel</td>\n",
       "      <td>89</td>\n",
       "      <td>48</td>\n",
       "      <td>black</td>\n",
       "      <td>S</td>\n",
       "      <td>0</td>\n",
       "      <td>weekday</td>\n",
       "      <td>6am - 12pm</td>\n",
       "      <td>12</td>\n",
       "      <td>640.257550</td>\n",
       "      <td>0</td>\n",
       "    </tr>\n",
       "  </tbody>\n",
       "</table>\n",
       "</div>"
      ],
      "text/plain": [
       "   id  veh_value  exposure veh_body  veh_age gender area  agecat engine_type  \\\n",
       "0   1       3.40  0.076279    STNWG        2      M    B       4      petrol   \n",
       "1   2       2.55  0.093443    STNWG        2      F    A       3      petrol   \n",
       "2   3       3.04  0.157762    STNWG        2      F    E       4      petrol   \n",
       "3   4       2.05  0.560735    MIBUS        4      M    C       6      dissel   \n",
       "4   5       1.93  0.258275    HBACK        2      M    C       4      dissel   \n",
       "\n",
       "   max_power  driving_history_score veh_color marital_status  e_bill  \\\n",
       "0        174                     83     black              S       1   \n",
       "1        181                     65    yellow              M       0   \n",
       "2        136                     64     white              S       1   \n",
       "3        164                     82      gray              M       1   \n",
       "4         89                     48     black              S       0   \n",
       "\n",
       "  time_of_week_driven  time_driven  trm_len  credit_score  high_education_ind  \n",
       "0             weekday   6pm - 12am        6    648.247594                   0  \n",
       "1             weekday  12am - 6 am       12    637.752677                   0  \n",
       "2             weekday   12pm - 6pm       12    661.483786                   0  \n",
       "3             weekday   6am - 12pm       12    647.846365                   0  \n",
       "4             weekday   6am - 12pm       12    640.257550                   0  "
      ]
     },
     "execution_count": 5,
     "metadata": {},
     "output_type": "execute_result"
    }
   ],
   "source": [
    "# inference_data = pd.read_csv(f'{data_folder}/.local/auto_potential_customers_2018.csv')\n",
    "# inference_data = pd.read_csv(f'{data_folder}/.local/synthetic_inference_data.csv')\n",
    "inference_data = pd.read_csv(f'{data_folder}/.local/auto_policies_inference_data.csv')\n",
    "print( inference_data.shape )\n",
    "inference_data.head(5)"
   ]
  },
  {
   "cell_type": "markdown",
   "id": "32d93f72",
   "metadata": {},
   "source": [
    "## Transform Data\n",
    "### Visualize data"
   ]
  },
  {
   "cell_type": "code",
   "execution_count": 6,
   "id": "f91f44f0",
   "metadata": {},
   "outputs": [],
   "source": [
    "output_folder = \"../.local/analysis_pipeline/data_etl\"\n",
    "os.makedirs(output_folder, exist_ok=True)"
   ]
  },
  {
   "cell_type": "code",
   "execution_count": 7,
   "id": "fce89825",
   "metadata": {},
   "outputs": [
    {
     "data": {
      "text/html": [
       "\n",
       "            <div>\n",
       "                <ins><a href=\"https://ydata.ai/register\">Upgrade to ydata-sdk</a></ins>\n",
       "                <p>\n",
       "                    Improve your data and profiling with ydata-sdk, featuring data quality scoring, redundancy detection, outlier identification, text validation, and synthetic data generation.\n",
       "                </p>\n",
       "            </div>\n",
       "            "
      ],
      "text/plain": [
       "<IPython.core.display.HTML object>"
      ]
     },
     "metadata": {},
     "output_type": "display_data"
    }
   ],
   "source": [
    "from ydata_profiling import ProfileReport\n",
    "\n",
    "model_data_profile = ProfileReport(model_data, title=\"Model Data Profiling Report\")"
   ]
  },
  {
   "cell_type": "code",
   "execution_count": 8,
   "id": "a2b20dbf",
   "metadata": {},
   "outputs": [
    {
     "data": {
      "application/vnd.jupyter.widget-view+json": {
       "model_id": "8f864c22c94941ec8e5bf90c796eaffc",
       "version_major": 2,
       "version_minor": 0
      },
      "text/plain": [
       "Summarize dataset:   0%|          | 0/5 [00:00<?, ?it/s]"
      ]
     },
     "metadata": {},
     "output_type": "display_data"
    },
    {
     "name": "stderr",
     "output_type": "stream",
     "text": [
      "100%|██████████| 22/22 [00:00<00:00, 52.65it/s]\n"
     ]
    },
    {
     "data": {
      "application/vnd.jupyter.widget-view+json": {
       "model_id": "4d9d9a044b524b87b09e89e8abf10962",
       "version_major": 2,
       "version_minor": 0
      },
      "text/plain": [
       "Generate report structure:   0%|          | 0/1 [00:00<?, ?it/s]"
      ]
     },
     "metadata": {},
     "output_type": "display_data"
    },
    {
     "data": {
      "application/vnd.jupyter.widget-view+json": {
       "model_id": "6355ecb3d322412ab606b492657c41c6",
       "version_major": 2,
       "version_minor": 0
      },
      "text/plain": [
       "Render HTML:   0%|          | 0/1 [00:00<?, ?it/s]"
      ]
     },
     "metadata": {},
     "output_type": "display_data"
    },
    {
     "data": {
      "application/vnd.jupyter.widget-view+json": {
       "model_id": "23080f1b252f44dbbb15489ab97a248e",
       "version_major": 2,
       "version_minor": 0
      },
      "text/plain": [
       "Export report to file:   0%|          | 0/1 [00:00<?, ?it/s]"
      ]
     },
     "metadata": {},
     "output_type": "display_data"
    }
   ],
   "source": [
    "# model_data_profile.to_notebook_iframe()\n",
    "model_data_profile.to_file(f\"{output_folder}/model_data_profile_{version_tag}.html\") "
   ]
  },
  {
   "cell_type": "markdown",
   "id": "94a292f6",
   "metadata": {},
   "source": [
    "### Clean and Consolidate data"
   ]
  },
  {
   "cell_type": "code",
   "execution_count": 9,
   "id": "e0c8e78d",
   "metadata": {},
   "outputs": [
    {
     "name": "stdout",
     "output_type": "stream",
     "text": [
      "<class 'pandas.core.frame.DataFrame'>\n",
      "RangeIndex: 22619 entries, 0 to 22618\n",
      "Data columns (total 22 columns):\n",
      " #   Column                 Non-Null Count  Dtype  \n",
      "---  ------                 --------------  -----  \n",
      " 0   id                     22619 non-null  int64  \n",
      " 1   veh_value              22619 non-null  float64\n",
      " 2   exposure               22619 non-null  float64\n",
      " 3   veh_body               22619 non-null  object \n",
      " 4   veh_age                22619 non-null  int64  \n",
      " 5   gender                 22619 non-null  object \n",
      " 6   area                   22619 non-null  object \n",
      " 7   agecat                 22619 non-null  int64  \n",
      " 8   engine_type            22619 non-null  object \n",
      " 9   max_power              22619 non-null  int64  \n",
      " 10  driving_history_score  22619 non-null  float64\n",
      " 11  veh_color              22619 non-null  object \n",
      " 12  marital_status         22619 non-null  object \n",
      " 13  e_bill                 22619 non-null  int64  \n",
      " 14  time_of_week_driven    22619 non-null  object \n",
      " 15  time_driven            22619 non-null  object \n",
      " 16  trm_len                22619 non-null  int64  \n",
      " 17  credit_score           22619 non-null  float64\n",
      " 18  high_education_ind     22619 non-null  float64\n",
      " 19  clm                    22619 non-null  int64  \n",
      " 20  numclaims              22619 non-null  int64  \n",
      " 21  claimcst0              22619 non-null  float64\n",
      "dtypes: float64(6), int64(8), object(8)\n",
      "memory usage: 3.8+ MB\n"
     ]
    },
    {
     "data": {
      "text/html": [
       "<pre style=\"white-space:pre;overflow-x:auto;line-height:normal;font-family:Menlo,'DejaVu Sans Mono',consolas,'Courier New',monospace\"><span style=\"color: #800080; text-decoration-color: #800080; font-style: italic\">None</span>\n",
       "</pre>\n"
      ],
      "text/plain": [
       "\u001b[3;35mNone\u001b[0m\n"
      ]
     },
     "metadata": {},
     "output_type": "display_data"
    }
   ],
   "source": [
    "## Show column information for abnormal checking purpose\n",
    "rich.print( model_data.info() )"
   ]
  },
  {
   "cell_type": "code",
   "execution_count": 10,
   "id": "8a2b581e",
   "metadata": {},
   "outputs": [
    {
     "name": "stdout",
     "output_type": "stream",
     "text": [
      "veh_value cap at 99th percentile: 6.09\n"
     ]
    }
   ],
   "source": [
    "# Cap the heavy right tailed 'veh_value' at the 99th percentile for outlier control\n",
    "veh_value_cap = round(np.nanpercentile(model_data['veh_value'], 99), 3)\n",
    "print(f\"veh_value cap at 99th percentile: {veh_value_cap}\")\n",
    "model_data['veh_value'] = model_data['veh_value'].clip(upper=veh_value_cap)"
   ]
  },
  {
   "cell_type": "code",
   "execution_count": 11,
   "id": "7aa7f88a",
   "metadata": {},
   "outputs": [
    {
     "data": {
      "text/html": [
       "<pre style=\"white-space:pre;overflow-x:auto;line-height:normal;font-family:Menlo,'DejaVu Sans Mono',consolas,'Courier New',monospace\">veh_body\n",
       "SEDAN    <span style=\"color: #008080; text-decoration-color: #008080; font-weight: bold\">7376</span>\n",
       "HBACK    <span style=\"color: #008080; text-decoration-color: #008080; font-weight: bold\">6305</span>\n",
       "STNWG    <span style=\"color: #008080; text-decoration-color: #008080; font-weight: bold\">5436</span>\n",
       "UTE      <span style=\"color: #008080; text-decoration-color: #008080; font-weight: bold\">1530</span>\n",
       "TRUCK     <span style=\"color: #008080; text-decoration-color: #008080; font-weight: bold\">586</span>\n",
       "HDTOP     <span style=\"color: #008080; text-decoration-color: #008080; font-weight: bold\">510</span>\n",
       "COUPE     <span style=\"color: #008080; text-decoration-color: #008080; font-weight: bold\">279</span>\n",
       "MIBUS     <span style=\"color: #008080; text-decoration-color: #008080; font-weight: bold\">253</span>\n",
       "PANVN     <span style=\"color: #008080; text-decoration-color: #008080; font-weight: bold\">248</span>\n",
       "MCARA      <span style=\"color: #008080; text-decoration-color: #008080; font-weight: bold\">40</span>\n",
       "CONVT      <span style=\"color: #008080; text-decoration-color: #008080; font-weight: bold\">28</span>\n",
       "BUS        <span style=\"color: #008080; text-decoration-color: #008080; font-weight: bold\">19</span>\n",
       "RDSTR       <span style=\"color: #008080; text-decoration-color: #008080; font-weight: bold\">9</span>\n",
       "Name: count, dtype: int64\n",
       "</pre>\n"
      ],
      "text/plain": [
       "veh_body\n",
       "SEDAN    \u001b[1;36m7376\u001b[0m\n",
       "HBACK    \u001b[1;36m6305\u001b[0m\n",
       "STNWG    \u001b[1;36m5436\u001b[0m\n",
       "UTE      \u001b[1;36m1530\u001b[0m\n",
       "TRUCK     \u001b[1;36m586\u001b[0m\n",
       "HDTOP     \u001b[1;36m510\u001b[0m\n",
       "COUPE     \u001b[1;36m279\u001b[0m\n",
       "MIBUS     \u001b[1;36m253\u001b[0m\n",
       "PANVN     \u001b[1;36m248\u001b[0m\n",
       "MCARA      \u001b[1;36m40\u001b[0m\n",
       "CONVT      \u001b[1;36m28\u001b[0m\n",
       "BUS        \u001b[1;36m19\u001b[0m\n",
       "RDSTR       \u001b[1;36m9\u001b[0m\n",
       "Name: count, dtype: int64\n"
      ]
     },
     "metadata": {},
     "output_type": "display_data"
    }
   ],
   "source": [
    "# Check category distribution of 'veh_body'\n",
    "rich.print( model_data['veh_body'].value_counts() )\n",
    "# Group 'MCARA', 'CONVT', 'BUS', and 'RDSTR' 'veh_body' as 'Other'\n",
    "model_data.loc[model_data['veh_body'].isin(['MCARA','CONVT','BUS','RDSTR']), 'veh_body'] = 'Other'"
   ]
  },
  {
   "cell_type": "code",
   "execution_count": 12,
   "id": "adf4404e",
   "metadata": {},
   "outputs": [],
   "source": [
    "# Cap the heavy right tailed 'veh_value' at 722\n",
    "credit_score_cap = 722\n",
    "model_data['credit_score'] = model_data['credit_score'].clip(upper=credit_score_cap)"
   ]
  },
  {
   "cell_type": "code",
   "execution_count": 13,
   "id": "72e13d2b",
   "metadata": {},
   "outputs": [],
   "source": [
    "# Assume single vehicle policy and create a vehicle count variable\n",
    "model_data['veh_cnt'] = 1\n",
    "\n",
    "# Add policy year \n",
    "model_data['data_segment'] = \"1|model\""
   ]
  },
  {
   "cell_type": "markdown",
   "id": "0b2235a1",
   "metadata": {},
   "source": [
    "### Carry the above steps to inference data "
   ]
  },
  {
   "cell_type": "code",
   "execution_count": 14,
   "id": "07d05b91",
   "metadata": {},
   "outputs": [
    {
     "data": {
      "application/vnd.jupyter.widget-view+json": {
       "model_id": "5fa2d3bc70364c1abe75f4c70ba74dce",
       "version_major": 2,
       "version_minor": 0
      },
      "text/plain": [
       "Summarize dataset:   0%|          | 0/5 [00:00<?, ?it/s]"
      ]
     },
     "metadata": {},
     "output_type": "display_data"
    },
    {
     "name": "stderr",
     "output_type": "stream",
     "text": [
      "100%|██████████| 19/19 [00:00<00:00, 115.75it/s]\n"
     ]
    },
    {
     "data": {
      "application/vnd.jupyter.widget-view+json": {
       "model_id": "49a9422cc6134c6d90e2a95793ffbdd0",
       "version_major": 2,
       "version_minor": 0
      },
      "text/plain": [
       "Generate report structure:   0%|          | 0/1 [00:00<?, ?it/s]"
      ]
     },
     "metadata": {},
     "output_type": "display_data"
    },
    {
     "data": {
      "application/vnd.jupyter.widget-view+json": {
       "model_id": "e36e4ce1a54c43da869a3c45a1732e4c",
       "version_major": 2,
       "version_minor": 0
      },
      "text/plain": [
       "Render HTML:   0%|          | 0/1 [00:00<?, ?it/s]"
      ]
     },
     "metadata": {},
     "output_type": "display_data"
    },
    {
     "data": {
      "application/vnd.jupyter.widget-view+json": {
       "model_id": "fc9895764fbd40249ea89a237d57e62c",
       "version_major": 2,
       "version_minor": 0
      },
      "text/plain": [
       "Export report to file:   0%|          | 0/1 [00:00<?, ?it/s]"
      ]
     },
     "metadata": {},
     "output_type": "display_data"
    },
    {
     "name": "stdout",
     "output_type": "stream",
     "text": [
      "veh_value capped at 6.09\n"
     ]
    }
   ],
   "source": [
    "import sys\n",
    "sys.path.append(os.path.abspath(\"..\"))\n",
    "from analysis_tool_chest.data_etl import DataETL\n",
    "\n",
    "output_folder = \"../.local/analysis_pipeline/data_etl\"\n",
    "os.makedirs(output_folder, exist_ok=True)\n",
    "etl = DataETL(inference_data)\n",
    "etl.profile_analysis(output_folder, file_name=f\"inference_data_profile_{version_tag}.html\", title=\"Inference Data Profiling Report\")\n",
    "processed_inference_data = etl.transform(cap_dict={'veh_value': veh_value_cap})"
   ]
  },
  {
   "cell_type": "markdown",
   "id": "0054d497",
   "metadata": {},
   "source": [
    "## Load Data Into Memory"
   ]
  },
  {
   "cell_type": "code",
   "execution_count": 15,
   "id": "8e84812b",
   "metadata": {},
   "outputs": [],
   "source": [
    "output_folder = \"../.local/analysis_pipeline/data_etl\"\n",
    "model_data.to_parquet(f\"{output_folder}/model_data_{version_tag}.parquet\", index=False)\n",
    "processed_inference_data.to_parquet(f\"{output_folder}/inference_data_{version_tag}.parquet\", index=False)"
   ]
  },
  {
   "cell_type": "code",
   "execution_count": null,
   "id": "6e7d8bce",
   "metadata": {},
   "outputs": [],
   "source": []
  },
  {
   "cell_type": "code",
   "execution_count": null,
   "id": "b37fa383",
   "metadata": {},
   "outputs": [],
   "source": []
  }
 ],
 "metadata": {
  "kernelspec": {
   "display_name": "data_science_bootcamp_lecture_1",
   "language": "python",
   "name": "python3"
  },
  "language_info": {
   "codemirror_mode": {
    "name": "ipython",
    "version": 3
   },
   "file_extension": ".py",
   "mimetype": "text/x-python",
   "name": "python",
   "nbconvert_exporter": "python",
   "pygments_lexer": "ipython3",
   "version": "3.10.18"
  }
 },
 "nbformat": 4,
 "nbformat_minor": 5
}
