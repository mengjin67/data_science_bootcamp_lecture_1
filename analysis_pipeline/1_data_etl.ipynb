{
 "cells": [
  {
   "cell_type": "markdown",
   "id": "0c7f73c5",
   "metadata": {},
   "source": [
    "# Data ETL\n",
    "ETL - Extract, Transform, Load: Gather raw data from various sources, clean and consolidate it, and then load it into a single centralized destination\n",
    "- Extract data from various sources (databases, files, APIs, etc.)\n",
    "- Transform the data by cleaning, formatting, or combining it as needed\n",
    "- Load the processed data into a destination, such as a database, data warehouse, or analytics tool\n",
    "ETL is a foundational step in data engineering and analytics pipelines, ensuring data is ready for analysis or further processing."
   ]
  },
  {
   "cell_type": "markdown",
   "id": "3df5fb88",
   "metadata": {},
   "source": [
    "## Initialize"
   ]
  },
  {
   "cell_type": "code",
   "execution_count": 1,
   "id": "24bff0b6",
   "metadata": {},
   "outputs": [],
   "source": [
    "import pandas as pd\n",
    "import numpy as np\n",
    "# import polars as pl\n",
    "import gdown\n",
    "import os\n",
    "import rich"
   ]
  },
  {
   "cell_type": "code",
   "execution_count": 2,
   "id": "2ec03c5f",
   "metadata": {},
   "outputs": [],
   "source": [
    "version_tag = \"dev\""
   ]
  },
  {
   "cell_type": "code",
   "execution_count": 3,
   "id": "d4688ab9",
   "metadata": {},
   "outputs": [],
   "source": [
    "## UNCOMMENT CODE IN THIS CHUNK FOR THE FIRST TIME USING THIS REPO - Onetime data downloading from Google Drive\n",
    "# # https://drive.google.com/file/d/1MiD9s007n_XrSVpxDpLyeTcBjpKLaQi3/view?usp=sharing\n",
    "# # https://drive.google.com/file/d/1da-n6cmkb-L5TTtuq-vQLutDN8dmiExi/view?usp=sharing\n",
    "# model_file_id = \"1da-n6cmkb-L5TTtuq-vQLutDN8dmiExi\"\n",
    "# data_folder = \"c:/teaching/fall2025/data_science_bootcamp_lecture_1\"\n",
    "# gdown.download(\n",
    "#     f\"https://drive.google.com/uc?id={model_file_id}\",\n",
    "#     f'{data_folder}/.local/synthetic_auto_policies_model_data.csv', \n",
    "#     quiet=False)\n",
    "# inference_file_id = \"1MiD9s007n_XrSVpxDpLyeTcBjpKLaQi3\"\n",
    "# gdown.download(\n",
    "#     f\"https://drive.google.com/uc?id={inference_file_id}\",\n",
    "#     f'{data_folder}/.local/synthetic_auto_policies_inference_data.csv', \n",
    "#     quiet=False)"
   ]
  },
  {
   "cell_type": "markdown",
   "id": "8f177290",
   "metadata": {},
   "source": [
    "## Extract Data"
   ]
  },
  {
   "cell_type": "code",
   "execution_count": 4,
   "id": "1c996c56",
   "metadata": {},
   "outputs": [
    {
     "name": "stdout",
     "output_type": "stream",
     "text": [
      "(15000, 24)\n"
     ]
    },
    {
     "data": {
      "text/html": [
       "<div>\n",
       "<style scoped>\n",
       "    .dataframe tbody tr th:only-of-type {\n",
       "        vertical-align: middle;\n",
       "    }\n",
       "\n",
       "    .dataframe tbody tr th {\n",
       "        vertical-align: top;\n",
       "    }\n",
       "\n",
       "    .dataframe thead th {\n",
       "        text-align: right;\n",
       "    }\n",
       "</style>\n",
       "<table border=\"1\" class=\"dataframe\">\n",
       "  <thead>\n",
       "    <tr style=\"text-align: right;\">\n",
       "      <th></th>\n",
       "      <th>id</th>\n",
       "      <th>fold</th>\n",
       "      <th>sample</th>\n",
       "      <th>veh_value</th>\n",
       "      <th>exposure</th>\n",
       "      <th>veh_body</th>\n",
       "      <th>veh_age</th>\n",
       "      <th>gender</th>\n",
       "      <th>area</th>\n",
       "      <th>agecat</th>\n",
       "      <th>...</th>\n",
       "      <th>marital_status</th>\n",
       "      <th>e_bill</th>\n",
       "      <th>time_of_week_driven</th>\n",
       "      <th>time_driven</th>\n",
       "      <th>trm_len</th>\n",
       "      <th>credit_score</th>\n",
       "      <th>high_education_ind</th>\n",
       "      <th>clm</th>\n",
       "      <th>numclaims</th>\n",
       "      <th>claimcst0</th>\n",
       "    </tr>\n",
       "  </thead>\n",
       "  <tbody>\n",
       "    <tr>\n",
       "      <th>0</th>\n",
       "      <td>1</td>\n",
       "      <td>2</td>\n",
       "      <td>1|bld</td>\n",
       "      <td>5.80</td>\n",
       "      <td>0.362191</td>\n",
       "      <td>SUV</td>\n",
       "      <td>2</td>\n",
       "      <td>F</td>\n",
       "      <td>B</td>\n",
       "      <td>1</td>\n",
       "      <td>...</td>\n",
       "      <td>S</td>\n",
       "      <td>0</td>\n",
       "      <td>weekday</td>\n",
       "      <td>12pm - 6pm</td>\n",
       "      <td>6</td>\n",
       "      <td>646.516469</td>\n",
       "      <td>0.0</td>\n",
       "      <td>1</td>\n",
       "      <td>1</td>\n",
       "      <td>2023.198184</td>\n",
       "    </tr>\n",
       "    <tr>\n",
       "      <th>1</th>\n",
       "      <td>2</td>\n",
       "      <td>3</td>\n",
       "      <td>1|bld</td>\n",
       "      <td>5.67</td>\n",
       "      <td>0.632068</td>\n",
       "      <td>STNWG</td>\n",
       "      <td>4</td>\n",
       "      <td>F</td>\n",
       "      <td>A</td>\n",
       "      <td>2</td>\n",
       "      <td>...</td>\n",
       "      <td>M</td>\n",
       "      <td>0</td>\n",
       "      <td>weekend</td>\n",
       "      <td>6am - 12pm</td>\n",
       "      <td>12</td>\n",
       "      <td>635.400369</td>\n",
       "      <td>0.0</td>\n",
       "      <td>1</td>\n",
       "      <td>1</td>\n",
       "      <td>3600.172234</td>\n",
       "    </tr>\n",
       "    <tr>\n",
       "      <th>2</th>\n",
       "      <td>3</td>\n",
       "      <td>1</td>\n",
       "      <td>1|bld</td>\n",
       "      <td>5.90</td>\n",
       "      <td>0.367460</td>\n",
       "      <td>SEDAN</td>\n",
       "      <td>2</td>\n",
       "      <td>F</td>\n",
       "      <td>C</td>\n",
       "      <td>2</td>\n",
       "      <td>...</td>\n",
       "      <td>S</td>\n",
       "      <td>0</td>\n",
       "      <td>weekday</td>\n",
       "      <td>6am - 12pm</td>\n",
       "      <td>12</td>\n",
       "      <td>646.463131</td>\n",
       "      <td>0.0</td>\n",
       "      <td>1</td>\n",
       "      <td>1</td>\n",
       "      <td>2021.144067</td>\n",
       "    </tr>\n",
       "    <tr>\n",
       "      <th>3</th>\n",
       "      <td>4</td>\n",
       "      <td>2</td>\n",
       "      <td>1|bld</td>\n",
       "      <td>4.79</td>\n",
       "      <td>0.802184</td>\n",
       "      <td>STNWG</td>\n",
       "      <td>3</td>\n",
       "      <td>M</td>\n",
       "      <td>B</td>\n",
       "      <td>4</td>\n",
       "      <td>...</td>\n",
       "      <td>S</td>\n",
       "      <td>1</td>\n",
       "      <td>weekday</td>\n",
       "      <td>6pm - 12am</td>\n",
       "      <td>12</td>\n",
       "      <td>645.598794</td>\n",
       "      <td>0.0</td>\n",
       "      <td>1</td>\n",
       "      <td>1</td>\n",
       "      <td>4006.845492</td>\n",
       "    </tr>\n",
       "    <tr>\n",
       "      <th>4</th>\n",
       "      <td>5</td>\n",
       "      <td>2</td>\n",
       "      <td>1|bld</td>\n",
       "      <td>6.68</td>\n",
       "      <td>0.485009</td>\n",
       "      <td>SEDAN</td>\n",
       "      <td>3</td>\n",
       "      <td>M</td>\n",
       "      <td>C</td>\n",
       "      <td>1</td>\n",
       "      <td>...</td>\n",
       "      <td>M</td>\n",
       "      <td>0</td>\n",
       "      <td>weekday</td>\n",
       "      <td>6am - 12pm</td>\n",
       "      <td>12</td>\n",
       "      <td>657.348612</td>\n",
       "      <td>0.0</td>\n",
       "      <td>1</td>\n",
       "      <td>1</td>\n",
       "      <td>2542.953931</td>\n",
       "    </tr>\n",
       "  </tbody>\n",
       "</table>\n",
       "<p>5 rows × 24 columns</p>\n",
       "</div>"
      ],
      "text/plain": [
       "   id  fold sample  veh_value  exposure veh_body  veh_age gender area  agecat  \\\n",
       "0   1     2  1|bld       5.80  0.362191      SUV        2      F    B       1   \n",
       "1   2     3  1|bld       5.67  0.632068    STNWG        4      F    A       2   \n",
       "2   3     1  1|bld       5.90  0.367460    SEDAN        2      F    C       2   \n",
       "3   4     2  1|bld       4.79  0.802184    STNWG        3      M    B       4   \n",
       "4   5     2  1|bld       6.68  0.485009    SEDAN        3      M    C       1   \n",
       "\n",
       "   ... marital_status  e_bill  time_of_week_driven time_driven trm_len  \\\n",
       "0  ...              S       0              weekday  12pm - 6pm       6   \n",
       "1  ...              M       0              weekend  6am - 12pm      12   \n",
       "2  ...              S       0              weekday  6am - 12pm      12   \n",
       "3  ...              S       1              weekday  6pm - 12am      12   \n",
       "4  ...              M       0              weekday  6am - 12pm      12   \n",
       "\n",
       "   credit_score high_education_ind clm  numclaims    claimcst0  \n",
       "0    646.516469                0.0   1          1  2023.198184  \n",
       "1    635.400369                0.0   1          1  3600.172234  \n",
       "2    646.463131                0.0   1          1  2021.144067  \n",
       "3    645.598794                0.0   1          1  4006.845492  \n",
       "4    657.348612                0.0   1          1  2542.953931  \n",
       "\n",
       "[5 rows x 24 columns]"
      ]
     },
     "execution_count": 4,
     "metadata": {},
     "output_type": "execute_result"
    }
   ],
   "source": [
    "data_folder = \"c:/teaching/fall2025/data_science_bootcamp_lecture_1\"\n",
    "model_data = pd.read_csv(f'{data_folder}/.local/synthetic_auto_policies_model_data_10042025.csv')\n",
    "print( model_data.shape )\n",
    "model_data.head(5)"
   ]
  },
  {
   "cell_type": "code",
   "execution_count": 5,
   "id": "050e0a98",
   "metadata": {},
   "outputs": [
    {
     "name": "stdout",
     "output_type": "stream",
     "text": [
      "(15000, 19)\n"
     ]
    },
    {
     "data": {
      "text/html": [
       "<div>\n",
       "<style scoped>\n",
       "    .dataframe tbody tr th:only-of-type {\n",
       "        vertical-align: middle;\n",
       "    }\n",
       "\n",
       "    .dataframe tbody tr th {\n",
       "        vertical-align: top;\n",
       "    }\n",
       "\n",
       "    .dataframe thead th {\n",
       "        text-align: right;\n",
       "    }\n",
       "</style>\n",
       "<table border=\"1\" class=\"dataframe\">\n",
       "  <thead>\n",
       "    <tr style=\"text-align: right;\">\n",
       "      <th></th>\n",
       "      <th>id</th>\n",
       "      <th>veh_value</th>\n",
       "      <th>exposure</th>\n",
       "      <th>veh_body</th>\n",
       "      <th>veh_age</th>\n",
       "      <th>gender</th>\n",
       "      <th>area</th>\n",
       "      <th>agecat</th>\n",
       "      <th>engine_type</th>\n",
       "      <th>max_power</th>\n",
       "      <th>driving_history_score</th>\n",
       "      <th>veh_color</th>\n",
       "      <th>marital_status</th>\n",
       "      <th>e_bill</th>\n",
       "      <th>time_of_week_driven</th>\n",
       "      <th>time_driven</th>\n",
       "      <th>trm_len</th>\n",
       "      <th>credit_score</th>\n",
       "      <th>high_education_ind</th>\n",
       "    </tr>\n",
       "  </thead>\n",
       "  <tbody>\n",
       "    <tr>\n",
       "      <th>0</th>\n",
       "      <td>8295</td>\n",
       "      <td>6.36</td>\n",
       "      <td>0.777085</td>\n",
       "      <td>SUV</td>\n",
       "      <td>3</td>\n",
       "      <td>M</td>\n",
       "      <td>A</td>\n",
       "      <td>2</td>\n",
       "      <td>hybrid</td>\n",
       "      <td>128</td>\n",
       "      <td>81</td>\n",
       "      <td>silver</td>\n",
       "      <td>M</td>\n",
       "      <td>1</td>\n",
       "      <td>weekend</td>\n",
       "      <td>6am - 12pm</td>\n",
       "      <td>12</td>\n",
       "      <td>644.721808</td>\n",
       "      <td>0</td>\n",
       "    </tr>\n",
       "    <tr>\n",
       "      <th>1</th>\n",
       "      <td>17625</td>\n",
       "      <td>2.56</td>\n",
       "      <td>0.528369</td>\n",
       "      <td>STNWG</td>\n",
       "      <td>1</td>\n",
       "      <td>F</td>\n",
       "      <td>A</td>\n",
       "      <td>1</td>\n",
       "      <td>dissel</td>\n",
       "      <td>178</td>\n",
       "      <td>94</td>\n",
       "      <td>white</td>\n",
       "      <td>M</td>\n",
       "      <td>1</td>\n",
       "      <td>weekday</td>\n",
       "      <td>12pm - 6pm</td>\n",
       "      <td>12</td>\n",
       "      <td>634.306196</td>\n",
       "      <td>0</td>\n",
       "    </tr>\n",
       "    <tr>\n",
       "      <th>2</th>\n",
       "      <td>3802</td>\n",
       "      <td>6.18</td>\n",
       "      <td>0.384591</td>\n",
       "      <td>HDTOP</td>\n",
       "      <td>4</td>\n",
       "      <td>F</td>\n",
       "      <td>D</td>\n",
       "      <td>3</td>\n",
       "      <td>petrol</td>\n",
       "      <td>270</td>\n",
       "      <td>77</td>\n",
       "      <td>yellow</td>\n",
       "      <td>S</td>\n",
       "      <td>1</td>\n",
       "      <td>weekday</td>\n",
       "      <td>6pm - 12am</td>\n",
       "      <td>12</td>\n",
       "      <td>649.245139</td>\n",
       "      <td>0</td>\n",
       "    </tr>\n",
       "    <tr>\n",
       "      <th>3</th>\n",
       "      <td>12865</td>\n",
       "      <td>6.49</td>\n",
       "      <td>0.116378</td>\n",
       "      <td>SUV</td>\n",
       "      <td>3</td>\n",
       "      <td>M</td>\n",
       "      <td>D</td>\n",
       "      <td>4</td>\n",
       "      <td>petrol</td>\n",
       "      <td>120</td>\n",
       "      <td>59</td>\n",
       "      <td>gray</td>\n",
       "      <td>M</td>\n",
       "      <td>1</td>\n",
       "      <td>weekday</td>\n",
       "      <td>6am - 12pm</td>\n",
       "      <td>12</td>\n",
       "      <td>647.594655</td>\n",
       "      <td>0</td>\n",
       "    </tr>\n",
       "    <tr>\n",
       "      <th>4</th>\n",
       "      <td>6495</td>\n",
       "      <td>6.46</td>\n",
       "      <td>0.688417</td>\n",
       "      <td>SEDAN</td>\n",
       "      <td>2</td>\n",
       "      <td>F</td>\n",
       "      <td>C</td>\n",
       "      <td>4</td>\n",
       "      <td>petrol</td>\n",
       "      <td>94</td>\n",
       "      <td>81</td>\n",
       "      <td>green</td>\n",
       "      <td>M</td>\n",
       "      <td>1</td>\n",
       "      <td>weekday</td>\n",
       "      <td>6am - 12pm</td>\n",
       "      <td>12</td>\n",
       "      <td>657.550500</td>\n",
       "      <td>0</td>\n",
       "    </tr>\n",
       "  </tbody>\n",
       "</table>\n",
       "</div>"
      ],
      "text/plain": [
       "      id  veh_value  exposure veh_body  veh_age gender area  agecat  \\\n",
       "0   8295       6.36  0.777085      SUV        3      M    A       2   \n",
       "1  17625       2.56  0.528369    STNWG        1      F    A       1   \n",
       "2   3802       6.18  0.384591    HDTOP        4      F    D       3   \n",
       "3  12865       6.49  0.116378      SUV        3      M    D       4   \n",
       "4   6495       6.46  0.688417    SEDAN        2      F    C       4   \n",
       "\n",
       "  engine_type  max_power  driving_history_score veh_color marital_status  \\\n",
       "0      hybrid        128                     81    silver              M   \n",
       "1      dissel        178                     94     white              M   \n",
       "2      petrol        270                     77    yellow              S   \n",
       "3      petrol        120                     59      gray              M   \n",
       "4      petrol         94                     81     green              M   \n",
       "\n",
       "   e_bill time_of_week_driven time_driven  trm_len  credit_score  \\\n",
       "0       1             weekend  6am - 12pm       12    644.721808   \n",
       "1       1             weekday  12pm - 6pm       12    634.306196   \n",
       "2       1             weekday  6pm - 12am       12    649.245139   \n",
       "3       1             weekday  6am - 12pm       12    647.594655   \n",
       "4       1             weekday  6am - 12pm       12    657.550500   \n",
       "\n",
       "   high_education_ind  \n",
       "0                   0  \n",
       "1                   0  \n",
       "2                   0  \n",
       "3                   0  \n",
       "4                   0  "
      ]
     },
     "execution_count": 5,
     "metadata": {},
     "output_type": "execute_result"
    }
   ],
   "source": [
    "inference_data = pd.read_csv(f'{data_folder}/.local/synthetic_auto_policies_inference_data_10042025.csv')\n",
    "print( inference_data.shape )\n",
    "inference_data.head(5)"
   ]
  },
  {
   "cell_type": "markdown",
   "id": "32d93f72",
   "metadata": {},
   "source": [
    "## Transform Data\n",
    "### Visualize data"
   ]
  },
  {
   "cell_type": "code",
   "execution_count": 6,
   "id": "f91f44f0",
   "metadata": {},
   "outputs": [],
   "source": [
    "output_folder = \"../.local/analysis_pipeline/data_etl\"\n",
    "os.makedirs(output_folder, exist_ok=True)"
   ]
  },
  {
   "cell_type": "code",
   "execution_count": 7,
   "id": "fce89825",
   "metadata": {},
   "outputs": [
    {
     "data": {
      "text/html": [
       "\n",
       "            <div>\n",
       "                <ins><a href=\"https://ydata.ai/register\">Upgrade to ydata-sdk</a></ins>\n",
       "                <p>\n",
       "                    Improve your data and profiling with ydata-sdk, featuring data quality scoring, redundancy detection, outlier identification, text validation, and synthetic data generation.\n",
       "                </p>\n",
       "            </div>\n",
       "            "
      ],
      "text/plain": [
       "<IPython.core.display.HTML object>"
      ]
     },
     "metadata": {},
     "output_type": "display_data"
    }
   ],
   "source": [
    "from ydata_profiling import ProfileReport\n",
    "\n",
    "model_data_profile = ProfileReport(model_data, title=\"Model Data Profiling Report\")"
   ]
  },
  {
   "cell_type": "code",
   "execution_count": null,
   "id": "a2b20dbf",
   "metadata": {},
   "outputs": [
    {
     "data": {
      "application/vnd.jupyter.widget-view+json": {
       "model_id": "83a4d69048974022981c94841f1100be",
       "version_major": 2,
       "version_minor": 0
      },
      "text/plain": [
       "Summarize dataset:   0%|          | 0/5 [00:00<?, ?it/s]"
      ]
     },
     "metadata": {},
     "output_type": "display_data"
    },
    {
     "name": "stderr",
     "output_type": "stream",
     "text": [
      "100%|██████████| 24/24 [00:00<00:00, 58.96it/s]\n"
     ]
    },
    {
     "data": {
      "application/vnd.jupyter.widget-view+json": {
       "model_id": "bd03c94ef6e04c72a401bed5450147f5",
       "version_major": 2,
       "version_minor": 0
      },
      "text/plain": [
       "Generate report structure:   0%|          | 0/1 [00:00<?, ?it/s]"
      ]
     },
     "metadata": {},
     "output_type": "display_data"
    }
   ],
   "source": [
    "# model_data_profile.to_notebook_iframe()\n",
    "model_data_profile.to_file(f\"{output_folder}/model_data_profile_{version_tag}.html\") "
   ]
  },
  {
   "cell_type": "markdown",
   "id": "94a292f6",
   "metadata": {},
   "source": [
    "### Clean and Consolidate data"
   ]
  },
  {
   "cell_type": "code",
   "execution_count": null,
   "id": "e0c8e78d",
   "metadata": {},
   "outputs": [
    {
     "name": "stdout",
     "output_type": "stream",
     "text": [
      "<class 'pandas.core.frame.DataFrame'>\n",
      "RangeIndex: 15000 entries, 0 to 14999\n",
      "Data columns (total 24 columns):\n",
      " #   Column                 Non-Null Count  Dtype  \n",
      "---  ------                 --------------  -----  \n",
      " 0   id                     15000 non-null  int64  \n",
      " 1   fold                   15000 non-null  int64  \n",
      " 2   sample                 15000 non-null  object \n",
      " 3   veh_value              15000 non-null  float64\n",
      " 4   exposure               15000 non-null  float64\n",
      " 5   veh_body               15000 non-null  object \n",
      " 6   veh_age                15000 non-null  int64  \n",
      " 7   gender                 15000 non-null  object \n",
      " 8   area                   15000 non-null  object \n",
      " 9   agecat                 15000 non-null  int64  \n",
      " 10  engine_type            15000 non-null  object \n",
      " 11  max_power              15000 non-null  int64  \n",
      " 12  driving_history_score  15000 non-null  float64\n",
      " 13  veh_color              15000 non-null  object \n",
      " 14  marital_status         15000 non-null  object \n",
      " 15  e_bill                 15000 non-null  int64  \n",
      " 16  time_of_week_driven    15000 non-null  object \n",
      " 17  time_driven            15000 non-null  object \n",
      " 18  trm_len                15000 non-null  int64  \n",
      " 19  credit_score           15000 non-null  float64\n",
      " 20  high_education_ind     15000 non-null  float64\n",
      " 21  clm                    15000 non-null  int64  \n",
      " 22  numclaims              15000 non-null  int64  \n",
      " 23  claimcst0              15000 non-null  float64\n",
      "dtypes: float64(6), int64(9), object(9)\n",
      "memory usage: 2.7+ MB\n"
     ]
    },
    {
     "data": {
      "text/html": [
       "<pre style=\"white-space:pre;overflow-x:auto;line-height:normal;font-family:Menlo,'DejaVu Sans Mono',consolas,'Courier New',monospace\"><span style=\"color: #800080; text-decoration-color: #800080; font-style: italic\">None</span>\n",
       "</pre>\n"
      ],
      "text/plain": [
       "\u001b[3;35mNone\u001b[0m\n"
      ]
     },
     "metadata": {},
     "output_type": "display_data"
    }
   ],
   "source": [
    "## Show column information for abnormal checking purpose\n",
    "rich.print( model_data.info() )"
   ]
  },
  {
   "cell_type": "code",
   "execution_count": null,
   "id": "8a2b581e",
   "metadata": {},
   "outputs": [
    {
     "name": "stdout",
     "output_type": "stream",
     "text": [
      "veh_value cap at 99th percentile: 7.2\n"
     ]
    }
   ],
   "source": [
    "# Cap the heavy right tailed 'veh_value' at the 99th percentile for outlier control\n",
    "veh_value_cap = round(np.nanpercentile(model_data['veh_value'], 99), 3)\n",
    "print(f\"veh_value cap at 99th percentile: {veh_value_cap}\")\n",
    "model_data['veh_value'] = model_data['veh_value'].clip(upper=veh_value_cap)"
   ]
  },
  {
   "cell_type": "code",
   "execution_count": null,
   "id": "7aa7f88a",
   "metadata": {},
   "outputs": [
    {
     "data": {
      "text/html": [
       "<pre style=\"white-space:pre;overflow-x:auto;line-height:normal;font-family:Menlo,'DejaVu Sans Mono',consolas,'Courier New',monospace\">veh_body\n",
       "SEDAN    <span style=\"color: #008080; text-decoration-color: #008080; font-weight: bold\">4533</span>\n",
       "STNWG    <span style=\"color: #008080; text-decoration-color: #008080; font-weight: bold\">4025</span>\n",
       "SUV      <span style=\"color: #008080; text-decoration-color: #008080; font-weight: bold\">3856</span>\n",
       "UTE      <span style=\"color: #008080; text-decoration-color: #008080; font-weight: bold\">1144</span>\n",
       "TRUCK     <span style=\"color: #008080; text-decoration-color: #008080; font-weight: bold\">451</span>\n",
       "HDTOP     <span style=\"color: #008080; text-decoration-color: #008080; font-weight: bold\">427</span>\n",
       "PANVN     <span style=\"color: #008080; text-decoration-color: #008080; font-weight: bold\">193</span>\n",
       "MIBUS     <span style=\"color: #008080; text-decoration-color: #008080; font-weight: bold\">153</span>\n",
       "COUPE     <span style=\"color: #008080; text-decoration-color: #008080; font-weight: bold\">133</span>\n",
       "MCARA      <span style=\"color: #008080; text-decoration-color: #008080; font-weight: bold\">35</span>\n",
       "CONVT      <span style=\"color: #008080; text-decoration-color: #008080; font-weight: bold\">25</span>\n",
       "BUS        <span style=\"color: #008080; text-decoration-color: #008080; font-weight: bold\">17</span>\n",
       "RDSTR       <span style=\"color: #008080; text-decoration-color: #008080; font-weight: bold\">8</span>\n",
       "Name: count, dtype: int64\n",
       "</pre>\n"
      ],
      "text/plain": [
       "veh_body\n",
       "SEDAN    \u001b[1;36m4533\u001b[0m\n",
       "STNWG    \u001b[1;36m4025\u001b[0m\n",
       "SUV      \u001b[1;36m3856\u001b[0m\n",
       "UTE      \u001b[1;36m1144\u001b[0m\n",
       "TRUCK     \u001b[1;36m451\u001b[0m\n",
       "HDTOP     \u001b[1;36m427\u001b[0m\n",
       "PANVN     \u001b[1;36m193\u001b[0m\n",
       "MIBUS     \u001b[1;36m153\u001b[0m\n",
       "COUPE     \u001b[1;36m133\u001b[0m\n",
       "MCARA      \u001b[1;36m35\u001b[0m\n",
       "CONVT      \u001b[1;36m25\u001b[0m\n",
       "BUS        \u001b[1;36m17\u001b[0m\n",
       "RDSTR       \u001b[1;36m8\u001b[0m\n",
       "Name: count, dtype: int64\n"
      ]
     },
     "metadata": {},
     "output_type": "display_data"
    }
   ],
   "source": [
    "# Check category distribution of 'veh_body'\n",
    "rich.print( model_data['veh_body'].value_counts() )\n",
    "# Group 'MCARA', 'CONVT', 'BUS', and 'RDSTR' 'veh_body' as 'Other'\n",
    "model_data.loc[model_data['veh_body'].isin(['MCARA','CONVT','BUS','RDSTR']), 'veh_body'] = 'Other'"
   ]
  },
  {
   "cell_type": "code",
   "execution_count": null,
   "id": "adf4404e",
   "metadata": {},
   "outputs": [],
   "source": [
    "# Cap the heavy right tailed 'veh_value' at 722\n",
    "credit_score_cap = 722\n",
    "model_data['credit_score'] = model_data['credit_score'].clip(upper=credit_score_cap)"
   ]
  },
  {
   "cell_type": "code",
   "execution_count": null,
   "id": "72e13d2b",
   "metadata": {},
   "outputs": [],
   "source": [
    "# Assume single vehicle policy and create a vehicle count variable\n",
    "model_data['veh_cnt'] = 1\n",
    "\n",
    "# Add policy year \n",
    "model_data['data_segment'] = \"1|model\""
   ]
  },
  {
   "cell_type": "markdown",
   "id": "0b2235a1",
   "metadata": {},
   "source": [
    "### Carry the above steps to inference data "
   ]
  },
  {
   "cell_type": "code",
   "execution_count": null,
   "id": "07d05b91",
   "metadata": {},
   "outputs": [
    {
     "data": {
      "application/vnd.jupyter.widget-view+json": {
       "model_id": "2662ab9e63f34b55bad2c0e8b2573484",
       "version_major": 2,
       "version_minor": 0
      },
      "text/plain": [
       "Summarize dataset:   0%|          | 0/5 [00:00<?, ?it/s]"
      ]
     },
     "metadata": {},
     "output_type": "display_data"
    },
    {
     "name": "stderr",
     "output_type": "stream",
     "text": [
      "100%|██████████| 19/19 [00:00<00:00, 145.97it/s]\n"
     ]
    },
    {
     "data": {
      "application/vnd.jupyter.widget-view+json": {
       "model_id": "001b98eee9444234950287c8650058c8",
       "version_major": 2,
       "version_minor": 0
      },
      "text/plain": [
       "Generate report structure:   0%|          | 0/1 [00:00<?, ?it/s]"
      ]
     },
     "metadata": {},
     "output_type": "display_data"
    },
    {
     "data": {
      "application/vnd.jupyter.widget-view+json": {
       "model_id": "8b0dc15944f5466fb0b2566b1bd0bc43",
       "version_major": 2,
       "version_minor": 0
      },
      "text/plain": [
       "Render HTML:   0%|          | 0/1 [00:00<?, ?it/s]"
      ]
     },
     "metadata": {},
     "output_type": "display_data"
    },
    {
     "data": {
      "application/vnd.jupyter.widget-view+json": {
       "model_id": "29b36123d69e4e639b156c9d55202130",
       "version_major": 2,
       "version_minor": 0
      },
      "text/plain": [
       "Export report to file:   0%|          | 0/1 [00:00<?, ?it/s]"
      ]
     },
     "metadata": {},
     "output_type": "display_data"
    },
    {
     "name": "stdout",
     "output_type": "stream",
     "text": [
      "veh_value capped at 7.2\n"
     ]
    }
   ],
   "source": [
    "import sys\n",
    "sys.path.append(os.path.abspath(\"..\"))\n",
    "from analysis_tool_chest.data_etl import DataETL\n",
    "\n",
    "output_folder = \"../.local/analysis_pipeline/data_etl\"\n",
    "os.makedirs(output_folder, exist_ok=True)\n",
    "etl = DataETL(inference_data)\n",
    "etl.profile_analysis(output_folder, file_name=f\"inference_data_profile_{version_tag}.html\", title=\"Inference Data Profiling Report\")\n",
    "processed_inference_data = etl.transform(cap_dict={'veh_value': veh_value_cap})"
   ]
  },
  {
   "cell_type": "markdown",
   "id": "0054d497",
   "metadata": {},
   "source": [
    "## Load Data Into Memory"
   ]
  },
  {
   "cell_type": "code",
   "execution_count": null,
   "id": "8e84812b",
   "metadata": {},
   "outputs": [],
   "source": [
    "output_folder = \"../.local/analysis_pipeline/data_etl\"\n",
    "model_data.to_parquet(f\"{output_folder}/model_data_{version_tag}.parquet\", index=False)\n",
    "processed_inference_data.to_parquet(f\"{output_folder}/inference_data_{version_tag}.parquet\", index=False)"
   ]
  },
  {
   "cell_type": "code",
   "execution_count": null,
   "id": "6e7d8bce",
   "metadata": {},
   "outputs": [],
   "source": []
  },
  {
   "cell_type": "code",
   "execution_count": null,
   "id": "b37fa383",
   "metadata": {},
   "outputs": [],
   "source": []
  },
  {
   "cell_type": "code",
   "execution_count": null,
   "id": "c27ccc91",
   "metadata": {},
   "outputs": [],
   "source": []
  }
 ],
 "metadata": {
  "kernelspec": {
   "display_name": "data_science_bootcamp_lecture_1",
   "language": "python",
   "name": "python3"
  },
  "language_info": {
   "codemirror_mode": {
    "name": "ipython",
    "version": 3
   },
   "file_extension": ".py",
   "mimetype": "text/x-python",
   "name": "python",
   "nbconvert_exporter": "python",
   "pygments_lexer": "ipython3",
   "version": "3.10.18"
  }
 },
 "nbformat": 4,
 "nbformat_minor": 5
}
