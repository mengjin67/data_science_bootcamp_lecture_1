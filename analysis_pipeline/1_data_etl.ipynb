{
 "cells": [
  {
   "cell_type": "markdown",
   "id": "0c7f73c5",
   "metadata": {},
   "source": [
    "# Data ETL\n",
    "ETL - Extract, Transform, Load: Gather raw data from various sources, clean and consolidate it, and then load it into a single centralized destination\n",
    "- Extract data from various sources (databases, files, APIs, etc.)\n",
    "- Transform the data by cleaning, formatting, or combining it as needed\n",
    "- Load the processed data into a destination, such as a database, data warehouse, or analytics tool\n",
    "ETL is a foundational step in data engineering and analytics pipelines, ensuring data is ready for analysis or further processing."
   ]
  },
  {
   "cell_type": "markdown",
   "id": "3df5fb88",
   "metadata": {},
   "source": [
    "## Initialize"
   ]
  },
  {
   "cell_type": "code",
   "execution_count": 1,
   "id": "24bff0b6",
   "metadata": {},
   "outputs": [],
   "source": [
    "import pandas as pd\n",
    "import numpy as np\n",
    "# import polars as pl\n",
    "import gdown\n",
    "import os\n",
    "import rich"
   ]
  },
  {
   "cell_type": "code",
   "execution_count": 2,
   "id": "2ec03c5f",
   "metadata": {},
   "outputs": [],
   "source": [
    "version_tag = \"dev\""
   ]
  },
  {
   "cell_type": "code",
   "execution_count": null,
   "id": "d4688ab9",
   "metadata": {},
   "outputs": [],
   "source": [
    "# UNCOMMENT CODE IN THIS CHUNK FOR THE FIRST TIME USING THIS REPO - Onetime data downloading from Google Drive\n",
    "# https://drive.google.com/file/d/1NuMdJQb3OfAM-Jg007OxPlUrbaTOeF9k/view?usp=sharing\n",
    "# https://drive.google.com/file/d/1c96cnf1hea--SUr_tQxzxvEkUG30aJpC/view?usp=sharing\n",
    "model_file_id = \"1NuMdJQb3OfAM-Jg007OxPlUrbaTOeF9k\"\n",
    "gdown.download(\n",
    "    f\"https://drive.google.com/uc?id={model_file_id}\",\n",
    "    '../.local/synthetic_auto_policies_model_data_lecture_1_illustration.csv', \n",
    "    quiet=False)\n",
    "inference_file_id = \"1c96cnf1hea--SUr_tQxzxvEkUG30aJpC\"\n",
    "gdown.download(\n",
    "    f\"https://drive.google.com/uc?id={inference_file_id}\",\n",
    "    '../.local/synthetic_auto_policies_inference_data_lecture_1_illustration.csv', \n",
    "    quiet=False)"
   ]
  },
  {
   "cell_type": "markdown",
   "id": "8f177290",
   "metadata": {},
   "source": [
    "## Extract Data"
   ]
  },
  {
   "cell_type": "code",
   "execution_count": null,
   "id": "1c996c56",
   "metadata": {},
   "outputs": [
    {
     "name": "stdout",
     "output_type": "stream",
     "text": [
      "(11250, 24)\n"
     ]
    },
    {
     "data": {
      "text/html": [
       "<div>\n",
       "<style scoped>\n",
       "    .dataframe tbody tr th:only-of-type {\n",
       "        vertical-align: middle;\n",
       "    }\n",
       "\n",
       "    .dataframe tbody tr th {\n",
       "        vertical-align: top;\n",
       "    }\n",
       "\n",
       "    .dataframe thead th {\n",
       "        text-align: right;\n",
       "    }\n",
       "</style>\n",
       "<table border=\"1\" class=\"dataframe\">\n",
       "  <thead>\n",
       "    <tr style=\"text-align: right;\">\n",
       "      <th></th>\n",
       "      <th>id</th>\n",
       "      <th>fold</th>\n",
       "      <th>sample</th>\n",
       "      <th>veh_value</th>\n",
       "      <th>exposure</th>\n",
       "      <th>veh_body</th>\n",
       "      <th>veh_age</th>\n",
       "      <th>gender</th>\n",
       "      <th>area</th>\n",
       "      <th>agecat</th>\n",
       "      <th>...</th>\n",
       "      <th>marital_status</th>\n",
       "      <th>e_bill</th>\n",
       "      <th>time_of_week_driven</th>\n",
       "      <th>time_driven</th>\n",
       "      <th>trm_len</th>\n",
       "      <th>credit_score</th>\n",
       "      <th>low_education_ind</th>\n",
       "      <th>clm</th>\n",
       "      <th>numclaims</th>\n",
       "      <th>claimcst0</th>\n",
       "    </tr>\n",
       "  </thead>\n",
       "  <tbody>\n",
       "    <tr>\n",
       "      <th>0</th>\n",
       "      <td>4492</td>\n",
       "      <td>3</td>\n",
       "      <td>1|bld</td>\n",
       "      <td>5.36</td>\n",
       "      <td>0.312685</td>\n",
       "      <td>PANVN</td>\n",
       "      <td>2</td>\n",
       "      <td>F</td>\n",
       "      <td>C</td>\n",
       "      <td>3</td>\n",
       "      <td>...</td>\n",
       "      <td>S</td>\n",
       "      <td>1</td>\n",
       "      <td>weekday</td>\n",
       "      <td>12am - 6 am</td>\n",
       "      <td>12</td>\n",
       "      <td>650.314851</td>\n",
       "      <td>0.0</td>\n",
       "      <td>0</td>\n",
       "      <td>0</td>\n",
       "      <td>0.0</td>\n",
       "    </tr>\n",
       "    <tr>\n",
       "      <th>1</th>\n",
       "      <td>14969</td>\n",
       "      <td>3</td>\n",
       "      <td>1|bld</td>\n",
       "      <td>6.18</td>\n",
       "      <td>0.153159</td>\n",
       "      <td>SUV</td>\n",
       "      <td>3</td>\n",
       "      <td>M</td>\n",
       "      <td>C</td>\n",
       "      <td>5</td>\n",
       "      <td>...</td>\n",
       "      <td>M</td>\n",
       "      <td>1</td>\n",
       "      <td>weekday</td>\n",
       "      <td>6pm - 12am</td>\n",
       "      <td>12</td>\n",
       "      <td>643.189575</td>\n",
       "      <td>0.0</td>\n",
       "      <td>0</td>\n",
       "      <td>0</td>\n",
       "      <td>0.0</td>\n",
       "    </tr>\n",
       "    <tr>\n",
       "      <th>2</th>\n",
       "      <td>14275</td>\n",
       "      <td>4</td>\n",
       "      <td>2|val</td>\n",
       "      <td>7.28</td>\n",
       "      <td>0.530446</td>\n",
       "      <td>UTE</td>\n",
       "      <td>4</td>\n",
       "      <td>F</td>\n",
       "      <td>B</td>\n",
       "      <td>6</td>\n",
       "      <td>...</td>\n",
       "      <td>M</td>\n",
       "      <td>1</td>\n",
       "      <td>weekday</td>\n",
       "      <td>6am - 12pm</td>\n",
       "      <td>12</td>\n",
       "      <td>641.311518</td>\n",
       "      <td>0.0</td>\n",
       "      <td>0</td>\n",
       "      <td>0</td>\n",
       "      <td>0.0</td>\n",
       "    </tr>\n",
       "    <tr>\n",
       "      <th>3</th>\n",
       "      <td>12850</td>\n",
       "      <td>3</td>\n",
       "      <td>1|bld</td>\n",
       "      <td>4.19</td>\n",
       "      <td>0.714919</td>\n",
       "      <td>STNWG</td>\n",
       "      <td>2</td>\n",
       "      <td>F</td>\n",
       "      <td>A</td>\n",
       "      <td>3</td>\n",
       "      <td>...</td>\n",
       "      <td>M</td>\n",
       "      <td>1</td>\n",
       "      <td>weekday</td>\n",
       "      <td>6am - 12pm</td>\n",
       "      <td>12</td>\n",
       "      <td>648.784436</td>\n",
       "      <td>0.0</td>\n",
       "      <td>0</td>\n",
       "      <td>0</td>\n",
       "      <td>0.0</td>\n",
       "    </tr>\n",
       "    <tr>\n",
       "      <th>4</th>\n",
       "      <td>3264</td>\n",
       "      <td>1</td>\n",
       "      <td>1|bld</td>\n",
       "      <td>5.06</td>\n",
       "      <td>0.138961</td>\n",
       "      <td>STNWG</td>\n",
       "      <td>3</td>\n",
       "      <td>M</td>\n",
       "      <td>E</td>\n",
       "      <td>3</td>\n",
       "      <td>...</td>\n",
       "      <td>S</td>\n",
       "      <td>1</td>\n",
       "      <td>weekend</td>\n",
       "      <td>12pm - 6pm</td>\n",
       "      <td>6</td>\n",
       "      <td>639.907492</td>\n",
       "      <td>0.0</td>\n",
       "      <td>0</td>\n",
       "      <td>0</td>\n",
       "      <td>0.0</td>\n",
       "    </tr>\n",
       "  </tbody>\n",
       "</table>\n",
       "<p>5 rows × 24 columns</p>\n",
       "</div>"
      ],
      "text/plain": [
       "      id  fold sample  veh_value  exposure veh_body  veh_age gender area  \\\n",
       "0   4492     3  1|bld       5.36  0.312685    PANVN        2      F    C   \n",
       "1  14969     3  1|bld       6.18  0.153159      SUV        3      M    C   \n",
       "2  14275     4  2|val       7.28  0.530446      UTE        4      F    B   \n",
       "3  12850     3  1|bld       4.19  0.714919    STNWG        2      F    A   \n",
       "4   3264     1  1|bld       5.06  0.138961    STNWG        3      M    E   \n",
       "\n",
       "   agecat  ... marital_status  e_bill  time_of_week_driven  time_driven  \\\n",
       "0       3  ...              S       1              weekday  12am - 6 am   \n",
       "1       5  ...              M       1              weekday   6pm - 12am   \n",
       "2       6  ...              M       1              weekday   6am - 12pm   \n",
       "3       3  ...              M       1              weekday   6am - 12pm   \n",
       "4       3  ...              S       1              weekend   12pm - 6pm   \n",
       "\n",
       "  trm_len  credit_score low_education_ind clm  numclaims  claimcst0  \n",
       "0      12    650.314851               0.0   0          0        0.0  \n",
       "1      12    643.189575               0.0   0          0        0.0  \n",
       "2      12    641.311518               0.0   0          0        0.0  \n",
       "3      12    648.784436               0.0   0          0        0.0  \n",
       "4       6    639.907492               0.0   0          0        0.0  \n",
       "\n",
       "[5 rows x 24 columns]"
      ]
     },
     "execution_count": 4,
     "metadata": {},
     "output_type": "execute_result"
    }
   ],
   "source": [
    "model_data = pd.read_csv('../.local/synthetic_auto_policies_model_data_lecture_1_illustration.csv')\n",
    "print( model_data.shape )\n",
    "model_data.head(5)"
   ]
  },
  {
   "cell_type": "code",
   "execution_count": null,
   "id": "050e0a98",
   "metadata": {},
   "outputs": [
    {
     "name": "stdout",
     "output_type": "stream",
     "text": [
      "(15000, 19)\n"
     ]
    },
    {
     "data": {
      "text/html": [
       "<div>\n",
       "<style scoped>\n",
       "    .dataframe tbody tr th:only-of-type {\n",
       "        vertical-align: middle;\n",
       "    }\n",
       "\n",
       "    .dataframe tbody tr th {\n",
       "        vertical-align: top;\n",
       "    }\n",
       "\n",
       "    .dataframe thead th {\n",
       "        text-align: right;\n",
       "    }\n",
       "</style>\n",
       "<table border=\"1\" class=\"dataframe\">\n",
       "  <thead>\n",
       "    <tr style=\"text-align: right;\">\n",
       "      <th></th>\n",
       "      <th>id</th>\n",
       "      <th>veh_value</th>\n",
       "      <th>exposure</th>\n",
       "      <th>veh_body</th>\n",
       "      <th>veh_age</th>\n",
       "      <th>gender</th>\n",
       "      <th>area</th>\n",
       "      <th>agecat</th>\n",
       "      <th>engine_type</th>\n",
       "      <th>max_power</th>\n",
       "      <th>driving_history_score</th>\n",
       "      <th>veh_color</th>\n",
       "      <th>marital_status</th>\n",
       "      <th>e_bill</th>\n",
       "      <th>time_of_week_driven</th>\n",
       "      <th>time_driven</th>\n",
       "      <th>trm_len</th>\n",
       "      <th>credit_score</th>\n",
       "      <th>low_education_ind</th>\n",
       "    </tr>\n",
       "  </thead>\n",
       "  <tbody>\n",
       "    <tr>\n",
       "      <th>0</th>\n",
       "      <td>8295</td>\n",
       "      <td>6.36</td>\n",
       "      <td>0.777085</td>\n",
       "      <td>SUV</td>\n",
       "      <td>3</td>\n",
       "      <td>M</td>\n",
       "      <td>A</td>\n",
       "      <td>2</td>\n",
       "      <td>hybrid</td>\n",
       "      <td>128</td>\n",
       "      <td>81</td>\n",
       "      <td>silver</td>\n",
       "      <td>M</td>\n",
       "      <td>1</td>\n",
       "      <td>weekend</td>\n",
       "      <td>6am - 12pm</td>\n",
       "      <td>12</td>\n",
       "      <td>644.721808</td>\n",
       "      <td>0</td>\n",
       "    </tr>\n",
       "    <tr>\n",
       "      <th>1</th>\n",
       "      <td>17625</td>\n",
       "      <td>2.56</td>\n",
       "      <td>0.528369</td>\n",
       "      <td>STNWG</td>\n",
       "      <td>1</td>\n",
       "      <td>F</td>\n",
       "      <td>A</td>\n",
       "      <td>1</td>\n",
       "      <td>dissel</td>\n",
       "      <td>178</td>\n",
       "      <td>94</td>\n",
       "      <td>white</td>\n",
       "      <td>M</td>\n",
       "      <td>1</td>\n",
       "      <td>weekday</td>\n",
       "      <td>12pm - 6pm</td>\n",
       "      <td>12</td>\n",
       "      <td>634.306196</td>\n",
       "      <td>0</td>\n",
       "    </tr>\n",
       "    <tr>\n",
       "      <th>2</th>\n",
       "      <td>3802</td>\n",
       "      <td>6.18</td>\n",
       "      <td>0.384591</td>\n",
       "      <td>HDTOP</td>\n",
       "      <td>4</td>\n",
       "      <td>F</td>\n",
       "      <td>D</td>\n",
       "      <td>3</td>\n",
       "      <td>petrol</td>\n",
       "      <td>270</td>\n",
       "      <td>77</td>\n",
       "      <td>yellow</td>\n",
       "      <td>S</td>\n",
       "      <td>1</td>\n",
       "      <td>weekday</td>\n",
       "      <td>6pm - 12am</td>\n",
       "      <td>12</td>\n",
       "      <td>649.245139</td>\n",
       "      <td>0</td>\n",
       "    </tr>\n",
       "    <tr>\n",
       "      <th>3</th>\n",
       "      <td>12865</td>\n",
       "      <td>6.49</td>\n",
       "      <td>0.116378</td>\n",
       "      <td>SUV</td>\n",
       "      <td>3</td>\n",
       "      <td>M</td>\n",
       "      <td>D</td>\n",
       "      <td>4</td>\n",
       "      <td>petrol</td>\n",
       "      <td>120</td>\n",
       "      <td>59</td>\n",
       "      <td>gray</td>\n",
       "      <td>M</td>\n",
       "      <td>1</td>\n",
       "      <td>weekday</td>\n",
       "      <td>6am - 12pm</td>\n",
       "      <td>12</td>\n",
       "      <td>647.594655</td>\n",
       "      <td>0</td>\n",
       "    </tr>\n",
       "    <tr>\n",
       "      <th>4</th>\n",
       "      <td>6495</td>\n",
       "      <td>6.46</td>\n",
       "      <td>0.688417</td>\n",
       "      <td>SEDAN</td>\n",
       "      <td>2</td>\n",
       "      <td>F</td>\n",
       "      <td>C</td>\n",
       "      <td>4</td>\n",
       "      <td>petrol</td>\n",
       "      <td>94</td>\n",
       "      <td>81</td>\n",
       "      <td>green</td>\n",
       "      <td>M</td>\n",
       "      <td>1</td>\n",
       "      <td>weekday</td>\n",
       "      <td>6am - 12pm</td>\n",
       "      <td>12</td>\n",
       "      <td>657.550500</td>\n",
       "      <td>0</td>\n",
       "    </tr>\n",
       "  </tbody>\n",
       "</table>\n",
       "</div>"
      ],
      "text/plain": [
       "      id  veh_value  exposure veh_body  veh_age gender area  agecat  \\\n",
       "0   8295       6.36  0.777085      SUV        3      M    A       2   \n",
       "1  17625       2.56  0.528369    STNWG        1      F    A       1   \n",
       "2   3802       6.18  0.384591    HDTOP        4      F    D       3   \n",
       "3  12865       6.49  0.116378      SUV        3      M    D       4   \n",
       "4   6495       6.46  0.688417    SEDAN        2      F    C       4   \n",
       "\n",
       "  engine_type  max_power  driving_history_score veh_color marital_status  \\\n",
       "0      hybrid        128                     81    silver              M   \n",
       "1      dissel        178                     94     white              M   \n",
       "2      petrol        270                     77    yellow              S   \n",
       "3      petrol        120                     59      gray              M   \n",
       "4      petrol         94                     81     green              M   \n",
       "\n",
       "   e_bill time_of_week_driven time_driven  trm_len  credit_score  \\\n",
       "0       1             weekend  6am - 12pm       12    644.721808   \n",
       "1       1             weekday  12pm - 6pm       12    634.306196   \n",
       "2       1             weekday  6pm - 12am       12    649.245139   \n",
       "3       1             weekday  6am - 12pm       12    647.594655   \n",
       "4       1             weekday  6am - 12pm       12    657.550500   \n",
       "\n",
       "   low_education_ind  \n",
       "0                  0  \n",
       "1                  0  \n",
       "2                  0  \n",
       "3                  0  \n",
       "4                  0  "
      ]
     },
     "execution_count": 5,
     "metadata": {},
     "output_type": "execute_result"
    }
   ],
   "source": [
    "inference_data = pd.read_csv(f'../.local/synthetic_auto_policies_inference_data_lecture_1_illustration.csv')\n",
    "print( inference_data.shape )\n",
    "inference_data.head(5)"
   ]
  },
  {
   "cell_type": "markdown",
   "id": "32d93f72",
   "metadata": {},
   "source": [
    "## Transform Data\n",
    "### Visualize data"
   ]
  },
  {
   "cell_type": "code",
   "execution_count": 6,
   "id": "f91f44f0",
   "metadata": {},
   "outputs": [],
   "source": [
    "output_folder = \"../.local/analysis_pipeline/data_etl\"\n",
    "os.makedirs(output_folder, exist_ok=True)"
   ]
  },
  {
   "cell_type": "code",
   "execution_count": 7,
   "id": "fce89825",
   "metadata": {},
   "outputs": [
    {
     "data": {
      "text/html": [
       "\n",
       "            <div>\n",
       "                <ins><a href=\"https://ydata.ai/register\">Upgrade to ydata-sdk</a></ins>\n",
       "                <p>\n",
       "                    Improve your data and profiling with ydata-sdk, featuring data quality scoring, redundancy detection, outlier identification, text validation, and synthetic data generation.\n",
       "                </p>\n",
       "            </div>\n",
       "            "
      ],
      "text/plain": [
       "<IPython.core.display.HTML object>"
      ]
     },
     "metadata": {},
     "output_type": "display_data"
    }
   ],
   "source": [
    "from ydata_profiling import ProfileReport\n",
    "\n",
    "model_data_profile = ProfileReport(model_data, title=\"Model Data Profiling Report\")"
   ]
  },
  {
   "cell_type": "code",
   "execution_count": 8,
   "id": "a2b20dbf",
   "metadata": {},
   "outputs": [
    {
     "data": {
      "application/vnd.jupyter.widget-view+json": {
       "model_id": "022e47bfcde34a439b8c728a509d4ff8",
       "version_major": 2,
       "version_minor": 0
      },
      "text/plain": [
       "Summarize dataset:   0%|          | 0/5 [00:00<?, ?it/s]"
      ]
     },
     "metadata": {},
     "output_type": "display_data"
    },
    {
     "name": "stderr",
     "output_type": "stream",
     "text": [
      "100%|██████████| 24/24 [00:00<00:00, 50.20it/s]\n"
     ]
    },
    {
     "data": {
      "application/vnd.jupyter.widget-view+json": {
       "model_id": "72f31650a4d445d88d2febb1a14a8972",
       "version_major": 2,
       "version_minor": 0
      },
      "text/plain": [
       "Generate report structure:   0%|          | 0/1 [00:00<?, ?it/s]"
      ]
     },
     "metadata": {},
     "output_type": "display_data"
    },
    {
     "data": {
      "application/vnd.jupyter.widget-view+json": {
       "model_id": "10b30ce0d68a46a185d3974e63f4c9cb",
       "version_major": 2,
       "version_minor": 0
      },
      "text/plain": [
       "Render HTML:   0%|          | 0/1 [00:00<?, ?it/s]"
      ]
     },
     "metadata": {},
     "output_type": "display_data"
    },
    {
     "data": {
      "application/vnd.jupyter.widget-view+json": {
       "model_id": "1fce58c81b8741e38762d1c166200d74",
       "version_major": 2,
       "version_minor": 0
      },
      "text/plain": [
       "Export report to file:   0%|          | 0/1 [00:00<?, ?it/s]"
      ]
     },
     "metadata": {},
     "output_type": "display_data"
    }
   ],
   "source": [
    "# model_data_profile.to_notebook_iframe()\n",
    "model_data_profile.to_file(f\"{output_folder}/model_data_profile_{version_tag}.html\") "
   ]
  },
  {
   "cell_type": "markdown",
   "id": "94a292f6",
   "metadata": {},
   "source": [
    "### Clean and Consolidate data"
   ]
  },
  {
   "cell_type": "code",
   "execution_count": 9,
   "id": "e0c8e78d",
   "metadata": {},
   "outputs": [
    {
     "name": "stdout",
     "output_type": "stream",
     "text": [
      "<class 'pandas.core.frame.DataFrame'>\n",
      "RangeIndex: 11250 entries, 0 to 11249\n",
      "Data columns (total 24 columns):\n",
      " #   Column                 Non-Null Count  Dtype  \n",
      "---  ------                 --------------  -----  \n",
      " 0   id                     11250 non-null  int64  \n",
      " 1   fold                   11250 non-null  int64  \n",
      " 2   sample                 11250 non-null  object \n",
      " 3   veh_value              11250 non-null  float64\n",
      " 4   exposure               11250 non-null  float64\n",
      " 5   veh_body               11250 non-null  object \n",
      " 6   veh_age                11250 non-null  int64  \n",
      " 7   gender                 11250 non-null  object \n",
      " 8   area                   11250 non-null  object \n",
      " 9   agecat                 11250 non-null  int64  \n",
      " 10  engine_type            11250 non-null  object \n",
      " 11  max_power              11250 non-null  int64  \n",
      " 12  driving_history_score  11250 non-null  float64\n",
      " 13  veh_color              11250 non-null  object \n",
      " 14  marital_status         11250 non-null  object \n",
      " 15  e_bill                 11250 non-null  int64  \n",
      " 16  time_of_week_driven    11250 non-null  object \n",
      " 17  time_driven            11250 non-null  object \n",
      " 18  trm_len                11250 non-null  int64  \n",
      " 19  credit_score           11250 non-null  float64\n",
      " 20  low_education_ind      11250 non-null  float64\n",
      " 21  clm                    11250 non-null  int64  \n",
      " 22  numclaims              11250 non-null  int64  \n",
      " 23  claimcst0              11250 non-null  float64\n",
      "dtypes: float64(6), int64(9), object(9)\n",
      "memory usage: 2.1+ MB\n"
     ]
    },
    {
     "data": {
      "text/html": [
       "<pre style=\"white-space:pre;overflow-x:auto;line-height:normal;font-family:Menlo,'DejaVu Sans Mono',consolas,'Courier New',monospace\"><span style=\"color: #800080; text-decoration-color: #800080; font-style: italic\">None</span>\n",
       "</pre>\n"
      ],
      "text/plain": [
       "\u001b[3;35mNone\u001b[0m\n"
      ]
     },
     "metadata": {},
     "output_type": "display_data"
    }
   ],
   "source": [
    "## Show column information for abnormal checking purpose\n",
    "rich.print( model_data.info() )"
   ]
  },
  {
   "cell_type": "code",
   "execution_count": 10,
   "id": "8a2b581e",
   "metadata": {},
   "outputs": [
    {
     "name": "stdout",
     "output_type": "stream",
     "text": [
      "veh_value cap at 99th percentile: 7.2\n"
     ]
    }
   ],
   "source": [
    "# Cap the heavy right tailed 'veh_value' at the 99th percentile for outlier control\n",
    "veh_value_cap = round(np.nanpercentile(model_data['veh_value'], 99), 3)\n",
    "print(f\"veh_value cap at 99th percentile: {veh_value_cap}\")\n",
    "model_data['veh_value'] = model_data['veh_value'].clip(upper=veh_value_cap)"
   ]
  },
  {
   "cell_type": "code",
   "execution_count": 11,
   "id": "7aa7f88a",
   "metadata": {},
   "outputs": [
    {
     "data": {
      "text/html": [
       "<pre style=\"white-space:pre;overflow-x:auto;line-height:normal;font-family:Menlo,'DejaVu Sans Mono',consolas,'Courier New',monospace\">veh_body\n",
       "SEDAN    <span style=\"color: #008080; text-decoration-color: #008080; font-weight: bold\">3393</span>\n",
       "STNWG    <span style=\"color: #008080; text-decoration-color: #008080; font-weight: bold\">3035</span>\n",
       "SUV      <span style=\"color: #008080; text-decoration-color: #008080; font-weight: bold\">2911</span>\n",
       "UTE       <span style=\"color: #008080; text-decoration-color: #008080; font-weight: bold\">846</span>\n",
       "TRUCK     <span style=\"color: #008080; text-decoration-color: #008080; font-weight: bold\">356</span>\n",
       "HDTOP     <span style=\"color: #008080; text-decoration-color: #008080; font-weight: bold\">300</span>\n",
       "PANVN     <span style=\"color: #008080; text-decoration-color: #008080; font-weight: bold\">137</span>\n",
       "MIBUS     <span style=\"color: #008080; text-decoration-color: #008080; font-weight: bold\">111</span>\n",
       "COUPE      <span style=\"color: #008080; text-decoration-color: #008080; font-weight: bold\">98</span>\n",
       "MCARA      <span style=\"color: #008080; text-decoration-color: #008080; font-weight: bold\">26</span>\n",
       "CONVT      <span style=\"color: #008080; text-decoration-color: #008080; font-weight: bold\">17</span>\n",
       "BUS        <span style=\"color: #008080; text-decoration-color: #008080; font-weight: bold\">14</span>\n",
       "RDSTR       <span style=\"color: #008080; text-decoration-color: #008080; font-weight: bold\">6</span>\n",
       "Name: count, dtype: int64\n",
       "</pre>\n"
      ],
      "text/plain": [
       "veh_body\n",
       "SEDAN    \u001b[1;36m3393\u001b[0m\n",
       "STNWG    \u001b[1;36m3035\u001b[0m\n",
       "SUV      \u001b[1;36m2911\u001b[0m\n",
       "UTE       \u001b[1;36m846\u001b[0m\n",
       "TRUCK     \u001b[1;36m356\u001b[0m\n",
       "HDTOP     \u001b[1;36m300\u001b[0m\n",
       "PANVN     \u001b[1;36m137\u001b[0m\n",
       "MIBUS     \u001b[1;36m111\u001b[0m\n",
       "COUPE      \u001b[1;36m98\u001b[0m\n",
       "MCARA      \u001b[1;36m26\u001b[0m\n",
       "CONVT      \u001b[1;36m17\u001b[0m\n",
       "BUS        \u001b[1;36m14\u001b[0m\n",
       "RDSTR       \u001b[1;36m6\u001b[0m\n",
       "Name: count, dtype: int64\n"
      ]
     },
     "metadata": {},
     "output_type": "display_data"
    }
   ],
   "source": [
    "# Check category distribution of 'veh_body'\n",
    "rich.print( model_data['veh_body'].value_counts() )\n",
    "# Group 'MCARA', 'CONVT', 'BUS', and 'RDSTR' 'veh_body' as 'Other'\n",
    "model_data.loc[model_data['veh_body'].isin(['MCARA','CONVT','BUS','RDSTR']), 'veh_body'] = 'Other'"
   ]
  },
  {
   "cell_type": "code",
   "execution_count": 12,
   "id": "adf4404e",
   "metadata": {},
   "outputs": [],
   "source": [
    "# Cap the heavy right tailed 'veh_value' at 722\n",
    "credit_score_cap = 722\n",
    "model_data['credit_score'] = model_data['credit_score'].clip(upper=credit_score_cap)"
   ]
  },
  {
   "cell_type": "code",
   "execution_count": 13,
   "id": "72e13d2b",
   "metadata": {},
   "outputs": [],
   "source": [
    "# Assume single vehicle policy and create a vehicle count variable\n",
    "model_data['veh_cnt'] = 1\n",
    "\n",
    "# Add policy year \n",
    "model_data['data_segment'] = \"1|model\""
   ]
  },
  {
   "cell_type": "markdown",
   "id": "0b2235a1",
   "metadata": {},
   "source": [
    "### Carry the above steps to inference data "
   ]
  },
  {
   "cell_type": "code",
   "execution_count": 14,
   "id": "07d05b91",
   "metadata": {},
   "outputs": [
    {
     "data": {
      "application/vnd.jupyter.widget-view+json": {
       "model_id": "f454891fdb3e4edaa69355effcb23d87",
       "version_major": 2,
       "version_minor": 0
      },
      "text/plain": [
       "Summarize dataset:   0%|          | 0/5 [00:00<?, ?it/s]"
      ]
     },
     "metadata": {},
     "output_type": "display_data"
    },
    {
     "name": "stderr",
     "output_type": "stream",
     "text": [
      "100%|██████████| 19/19 [00:00<00:00, 84.80it/s]\n"
     ]
    },
    {
     "data": {
      "application/vnd.jupyter.widget-view+json": {
       "model_id": "09be376f0dd84dd98aeeb6b894263be5",
       "version_major": 2,
       "version_minor": 0
      },
      "text/plain": [
       "Generate report structure:   0%|          | 0/1 [00:00<?, ?it/s]"
      ]
     },
     "metadata": {},
     "output_type": "display_data"
    },
    {
     "data": {
      "application/vnd.jupyter.widget-view+json": {
       "model_id": "b68ae2475bd64a5888d7456b337a6d4b",
       "version_major": 2,
       "version_minor": 0
      },
      "text/plain": [
       "Render HTML:   0%|          | 0/1 [00:00<?, ?it/s]"
      ]
     },
     "metadata": {},
     "output_type": "display_data"
    },
    {
     "data": {
      "application/vnd.jupyter.widget-view+json": {
       "model_id": "cf1a06ede6a24a04b8f6c8e431faf5cb",
       "version_major": 2,
       "version_minor": 0
      },
      "text/plain": [
       "Export report to file:   0%|          | 0/1 [00:00<?, ?it/s]"
      ]
     },
     "metadata": {},
     "output_type": "display_data"
    },
    {
     "name": "stdout",
     "output_type": "stream",
     "text": [
      "veh_value capped at 7.2\n"
     ]
    }
   ],
   "source": [
    "import sys\n",
    "sys.path.append(os.path.abspath(\"..\"))\n",
    "from analysis_tool_chest.data_etl import DataETL\n",
    "\n",
    "output_folder = \"../.local/analysis_pipeline/data_etl\"\n",
    "os.makedirs(output_folder, exist_ok=True)\n",
    "etl = DataETL(inference_data)\n",
    "etl.profile_analysis(output_folder, file_name=f\"inference_data_profile_{version_tag}.html\", title=\"Inference Data Profiling Report\")\n",
    "processed_inference_data = etl.transform(cap_dict={'veh_value': veh_value_cap})"
   ]
  },
  {
   "cell_type": "markdown",
   "id": "0054d497",
   "metadata": {},
   "source": [
    "## Load Data Into Memory"
   ]
  },
  {
   "cell_type": "code",
   "execution_count": 15,
   "id": "8e84812b",
   "metadata": {},
   "outputs": [],
   "source": [
    "output_folder = \"../.local/analysis_pipeline/data_etl\"\n",
    "model_data.to_parquet(f\"{output_folder}/model_data_{version_tag}.parquet\", index=False)\n",
    "processed_inference_data.to_parquet(f\"{output_folder}/inference_data_{version_tag}.parquet\", index=False)"
   ]
  },
  {
   "cell_type": "code",
   "execution_count": null,
   "id": "6e7d8bce",
   "metadata": {},
   "outputs": [],
   "source": []
  },
  {
   "cell_type": "code",
   "execution_count": null,
   "id": "b37fa383",
   "metadata": {},
   "outputs": [],
   "source": []
  },
  {
   "cell_type": "code",
   "execution_count": null,
   "id": "c27ccc91",
   "metadata": {},
   "outputs": [],
   "source": []
  }
 ],
 "metadata": {
  "kernelspec": {
   "display_name": "data_science_bootcamp_lecture_1",
   "language": "python",
   "name": "python3"
  },
  "language_info": {
   "codemirror_mode": {
    "name": "ipython",
    "version": 3
   },
   "file_extension": ".py",
   "mimetype": "text/x-python",
   "name": "python",
   "nbconvert_exporter": "python",
   "pygments_lexer": "ipython3",
   "version": "3.10.18"
  }
 },
 "nbformat": 4,
 "nbformat_minor": 5
}
